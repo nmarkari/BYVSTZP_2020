{
 "cells": [
  {
   "cell_type": "markdown",
   "metadata": {},
   "source": [
    "# Subclass DE Good"
   ]
  },
  {
   "cell_type": "code",
   "execution_count": 1,
   "metadata": {},
   "outputs": [],
   "source": [
    "import anndata\n",
    "import pandas as pd\n",
    "import numpy as np\n",
    "import matplotlib.pyplot as plt\n",
    "import matplotlib as mpl\n",
    "import matplotlib.patches as mpatches\n",
    "import scanpy as sc\n",
    "from scipy.stats import ks_2samp, ttest_ind\n",
    "import ast\n",
    "from scipy.sparse import csr_matrix\n",
    "import warnings\n",
    "warnings.filterwarnings('ignore')\n",
    "\n",
    "fsize=20\n",
    "\n",
    "plt.rcParams.update({'font.size': fsize})\n",
    "%config InlineBackend.figure_format = 'retina'"
   ]
  },
  {
   "cell_type": "code",
   "execution_count": 2,
   "metadata": {},
   "outputs": [],
   "source": [
    "cluster_cmap = {\n",
    "\"Astro\": (0.38823529411764707, 0.4745098039215686,  0.2235294117647059 ),  # 637939,\n",
    "\"Endo\" : (0.5490196078431373,  0.6352941176470588,  0.3215686274509804 ),  # 8ca252,\n",
    "\"SMC\"  : (0.7098039215686275,  0.8117647058823529,  0.4196078431372549 ),  # b5cf6b,\n",
    "\"VLMC\" : (0.807843137254902,   0.8588235294117647,  0.611764705882353  ),  # cedb9c,\n",
    "\"Low Quality\" : (0,0,0),\n",
    "\"L2/3 IT\" : (0.9921568627450981,  0.6823529411764706,  0.4196078431372549  ),  # fdae6b\n",
    "\"L5 PT\" : (0.9921568627450981,  0.8156862745098039,  0.6352941176470588  ),  # fdd0a2\n",
    "\"L5 IT\" : (0.5176470588235295,  0.23529411764705882, 0.2235294117647059 ),  # 843c39\n",
    "\"L5/6 NP\": \"#D43F3A\",\n",
    "\"L6 CT\" : (0.8392156862745098,  0.3803921568627451,  0.4196078431372549 ),  # d6616b\n",
    "\"L6 IT\" : (0.9058823529411765,  0.5882352941176471,  0.611764705882353  ),  # e7969c\n",
    "\"L6b\" : (1.0,                 0.4980392156862745,  0.054901960784313725),  # ff7f0e\n",
    "\"L6 IT Car3\" : (1.0,                 0.7333333333333333,  0.47058823529411764 ),  # ffbb78\n",
    "\"Lamp5\" : (0.19215686274509805, 0.5098039215686274,  0.7411764705882353  ),  # 3182bd # blues\n",
    "\"Sncg\" : (0.4196078431372549,  0.6823529411764706,  0.8392156862745098  ),  # 6baed6\n",
    "\"Vip\" : (0.6196078431372549,  0.792156862745098,   0.8823529411764706  ),  # 9ecae1\n",
    "\"Sst\" : (0.7764705882352941,  0.8588235294117647,  0.9372549019607843  ),  # c6dbef\n",
    "\"Pvalb\":(0.7372549019607844,  0.7411764705882353,  0.8627450980392157  ),  # bcbddc\n",
    "}"
   ]
  },
  {
   "cell_type": "code",
   "execution_count": 3,
   "metadata": {},
   "outputs": [],
   "source": [
    "gene =    anndata.read_h5ad(\"../../data/notebook/revision/gene.h5ad\")"
   ]
  },
  {
   "cell_type": "code",
   "execution_count": 4,
   "metadata": {},
   "outputs": [
    {
     "data": {
      "text/plain": [
       "AnnData object with n_obs × n_vars = 6160 × 19190\n",
       "    obs: 'cluster_id', 'cluster_label', 'subclass_label', 'class_label', 'cluster_color', 'size', 'cell_id', 'subclass_id', 'class_id', 'cell_counts', 'percent_mito', 'n_genes', 'pass_count_filter', 'leiden', 'louvain'\n",
       "    var: 'transcript_id', 'gene_id', 'gene_name', 'transcript_name', 'length', 'txn_list', 'num_isoforms', 'gene_counts', 'dispersion', 'pass_disp_filter', 'highly_variable', 'means', 'dispersions', 'dispersions_norm'\n",
       "    uns: 'hvg', 'leiden', 'louvain', 'neighbors'\n",
       "    obsm: 'X_nca', 'X_nca_tsne', 'X_pca', 'X_pca_tsne'\n",
       "    layers: 'X', 'log1p', 'norm'\n",
       "    obsp: 'connectivities', 'distances'"
      ]
     },
     "execution_count": 4,
     "metadata": {},
     "output_type": "execute_result"
    }
   ],
   "source": [
    "gene"
   ]
  },
  {
   "cell_type": "code",
   "execution_count": 5,
   "metadata": {},
   "outputs": [],
   "source": [
    "gene = gene[:,gene.var.sort_index().index]"
   ]
  },
  {
   "cell_type": "code",
   "execution_count": 6,
   "metadata": {},
   "outputs": [
    {
     "name": "stdout",
     "output_type": "stream",
     "text": [
      "(6160, 19190)\n"
     ]
    }
   ],
   "source": [
    "print(gene.shape)"
   ]
  },
  {
   "cell_type": "code",
   "execution_count": 7,
   "metadata": {},
   "outputs": [],
   "source": [
    "from statsmodels.stats.multitest import multipletests\n",
    "from sklearn.preprocessing import LabelEncoder\n",
    "from scipy.stats import ks_2samp, ttest_ind\n",
    "import numpy as np\n",
    "import logging\n",
    "\n",
    "logger = logging.getLogger()\n",
    "logger.setLevel(logging.DEBUG)\n",
    "logging.basicConfig(format='%(asctime)s - %(message)s', datefmt='%d-%b-%y %H:%M:%S')\n",
    "\n",
    "\n",
    "\n",
    "def split_by_target(mat, targets, target, axis=0):\n",
    "    \"\"\"\n",
    "    Split the rows of mat by the proper assignment\n",
    "    \n",
    "    mat = ndarray\n",
    "    targets, length is equal to number of components (axis=0) or features (axis=1)\n",
    "    target is a singular element from unique(assignments/features) \n",
    "    \"\"\"\n",
    "    if axis==0 and len(targets) != mat.shape[axis]: return -1\n",
    "    if axis==1 and len(targets) != mat.shape[axis]: return -1\n",
    "        \n",
    "    mask = targets == target\n",
    "    \n",
    "    if axis==0:\n",
    "        t_mat = mat[mask]  # target matrix\n",
    "        c_mat = mat[~mask] # complement matrix\n",
    "    elif axis==1:\n",
    "        t_mat = mat[:, mask]  # target matrix\n",
    "        c_mat = mat[:, ~mask] # complement matrix\n",
    "    \n",
    "    return (t_mat, c_mat)\n",
    "\n",
    "def correct_pval(pval, method):\n",
    "    nfeat = pval.shape[1]\n",
    "    \n",
    "    if method == 'benjamini-hochberg':\n",
    "        _, pval_corr, _, _ = multipletests(pval, alpha=0.01, method='fdr_bh')\n",
    "    elif method == 'bonferroni':\n",
    "        pval_corr = np.minimum(pval * nfeat, 1.0)\n",
    "        \n",
    "    return pval_corr\n",
    "\n",
    "def dexpress(mat, components, features, assignments, **kwargs):\n",
    "    \"\"\"\n",
    "    mat: ndarray\n",
    "    components: nparray\n",
    "    features: nparray\n",
    "    assignments: nparray, length is equal to length of components\n",
    "    \"\"\"\n",
    "    nan_cutoff = kwargs.get(\"nan_cutoff\", 0)\n",
    "    \n",
    "    unique = np.unique(assignments)\n",
    "        \n",
    "    ncomp = components.shape[0]\n",
    "    nfeat = features.shape[0]\n",
    "    nuniq = unique.shape[0]\n",
    "    \n",
    "    pval = np.empty((nuniq, nfeat)) # unique assignments by features \n",
    "    pval_corr = np.empty((nuniq, nfeat)) # unique assignments by features \n",
    "    stat = np.empty((nuniq, nfeat)) # unique assignments by features \n",
    "    \n",
    "    pval.fill(np.nan)\n",
    "    pval_corr.fill(np.nan)\n",
    "    stat.fill(np.nan)\n",
    "\n",
    "    for tidx, t in enumerate(unique):\n",
    "        logging.debug(\"{} of {} assignments: {}\".format(tidx+1, nuniq, t))\n",
    "        t_mat, c_mat = split_by_target(mat, assignments, t, axis=0)\n",
    "        \n",
    "        pvalue = np.nan\n",
    "        statistic = np.nan\n",
    "\n",
    "        # Keep only the genes for which it is in at least nan_cutoff*ncellsinclusters\n",
    "        mask = np.asarray((t_mat>0).sum(axis=0) > nan_cutoff*t_mat.shape[0]).reshape(-1)\n",
    "\n",
    "        t_mat = t_mat[:, mask]\n",
    "        c_mat = c_mat[:, mask]\n",
    "        # added\n",
    "\n",
    "        # added\n",
    "        if mask.sum()>0:\n",
    "            test = ttest_ind(t_mat, c_mat, nan_policy=\"propagate\", equal_var=False)\n",
    "            pvalue = test.pvalue\n",
    "            statistic = test.statistic\n",
    "                \n",
    "        pval[tidx,:][mask] = pvalue\n",
    "        stat[tidx,:][mask] = statistic\n",
    "    \n",
    "    return (pval, stat)"
   ]
  },
  {
   "cell_type": "code",
   "execution_count": 8,
   "metadata": {},
   "outputs": [
    {
     "name": "stderr",
     "output_type": "stream",
     "text": [
      "23-Oct-20 08:30:04 - 1 of 18 assignments: Astro\n",
      "23-Oct-20 08:30:05 - 2 of 18 assignments: Endo\n",
      "23-Oct-20 08:30:05 - 3 of 18 assignments: L2/3 IT\n",
      "23-Oct-20 08:30:06 - 4 of 18 assignments: L5 IT\n",
      "23-Oct-20 08:30:07 - 5 of 18 assignments: L5 PT\n",
      "23-Oct-20 08:30:08 - 6 of 18 assignments: L5/6 NP\n",
      "23-Oct-20 08:30:09 - 7 of 18 assignments: L6 CT\n",
      "23-Oct-20 08:30:09 - 8 of 18 assignments: L6 IT\n",
      "23-Oct-20 08:30:10 - 9 of 18 assignments: L6 IT Car3\n",
      "23-Oct-20 08:30:11 - 10 of 18 assignments: L6b\n",
      "23-Oct-20 08:30:12 - 11 of 18 assignments: Lamp5\n",
      "23-Oct-20 08:30:13 - 12 of 18 assignments: Low Quality\n",
      "23-Oct-20 08:30:13 - 13 of 18 assignments: Pvalb\n",
      "23-Oct-20 08:30:14 - 14 of 18 assignments: SMC\n",
      "23-Oct-20 08:30:14 - 15 of 18 assignments: Sncg\n",
      "23-Oct-20 08:30:15 - 16 of 18 assignments: Sst\n",
      "23-Oct-20 08:30:16 - 17 of 18 assignments: VLMC\n",
      "23-Oct-20 08:30:16 - 18 of 18 assignments: Vip\n"
     ]
    },
    {
     "name": "stdout",
     "output_type": "stream",
     "text": [
      "CPU times: user 7.44 s, sys: 6.5 s, total: 13.9 s\n",
      "Wall time: 13.9 s\n"
     ]
    }
   ],
   "source": [
    "%%time\n",
    "mat           = gene.layers[\"log1p\"].todense()\n",
    "components    = gene.obs.cell_id.values\n",
    "gene_features = gene.var.index.values\n",
    "assignments   = gene.obs.subclass_label.values\n",
    "\n",
    "unique = np.unique(assignments)\n",
    "nan_cutoff = 0.9 # of elements in cluster\n",
    "corr_method = \"bonferroni\"\n",
    "\n",
    "\n",
    "p_gene_raw, stat = dexpress(mat, components, gene_features, assignments, \n",
    "                      nan_cutoff=nan_cutoff)\n",
    "\n",
    "p_gene = correct_pval(p_gene_raw/2, corr_method)\n",
    "s_gene = stat"
   ]
  },
  {
   "cell_type": "code",
   "execution_count": 9,
   "metadata": {},
   "outputs": [],
   "source": [
    "p1 = p_gene\n",
    "s1 = stat"
   ]
  },
  {
   "cell_type": "code",
   "execution_count": 10,
   "metadata": {},
   "outputs": [],
   "source": [
    "alpha = 0.01\n",
    "tcrit = 0\n",
    "\n",
    "\n",
    "bool_mask = np.ones(p1.shape, dtype=bool)\n",
    "\n",
    "p1_mask = np.logical_and(p1<alpha, s1>tcrit)\n",
    "\n",
    "bool_mask = p1_mask"
   ]
  },
  {
   "cell_type": "code",
   "execution_count": 11,
   "metadata": {},
   "outputs": [
    {
     "data": {
      "text/plain": [
       "19473"
      ]
     },
     "execution_count": 11,
     "metadata": {},
     "output_type": "execute_result"
    }
   ],
   "source": [
    "bool_mask.sum()"
   ]
  },
  {
   "cell_type": "code",
   "execution_count": 12,
   "metadata": {},
   "outputs": [],
   "source": [
    "assignments = gene.obs.subclass_label.values\n",
    "unique = np.unique(assignments)"
   ]
  },
  {
   "cell_type": "code",
   "execution_count": 13,
   "metadata": {},
   "outputs": [
    {
     "data": {
      "text/plain": [
       "array(['Astro', 'Endo', 'L2/3 IT', 'L5 IT', 'L5 PT', 'L5/6 NP', 'L6 CT',\n",
       "       'L6 IT', 'L6 IT Car3', 'L6b', 'Lamp5', 'Low Quality', 'Pvalb',\n",
       "       'SMC', 'Sncg', 'Sst', 'VLMC', 'Vip'], dtype=object)"
      ]
     },
     "execution_count": 13,
     "metadata": {},
     "output_type": "execute_result"
    }
   ],
   "source": [
    "unique"
   ]
  },
  {
   "cell_type": "code",
   "execution_count": 14,
   "metadata": {},
   "outputs": [],
   "source": [
    "markers_gene = pd.DataFrame(index=unique, columns=[\"gene_name\", \"p_raw\", \"p_bonferroni\"])"
   ]
  },
  {
   "cell_type": "code",
   "execution_count": 15,
   "metadata": {},
   "outputs": [],
   "source": [
    "gene_features = gene.var.gene_name.values\n",
    "\n",
    "for uidx, u in enumerate(unique):\n",
    "    mask = bool_mask[uidx] # np.logical_and(bool_mask[uidx], bool_mask.sum(axis=0)==1)\n",
    "    \n",
    "    p = p_gene[uidx][mask]\n",
    "    p_raw = p_gene_raw[uidx][mask]\n",
    "    \n",
    "    psort = np.argsort(p)\n",
    "    \n",
    "    fsorted = gene_features[mask][psort]\n",
    "    psorted = p[psort]\n",
    "    p_raw_sorted = p_raw[psort]\n",
    "    \n",
    "    markers_gene.loc[u][\"gene_name\"] = fsorted\n",
    "    markers_gene.loc[u][\"p_raw\"] = p_raw_sorted\n",
    "    markers_gene.loc[u][\"p_bonferroni\"] = psorted"
   ]
  },
  {
   "cell_type": "code",
   "execution_count": 16,
   "metadata": {},
   "outputs": [
    {
     "data": {
      "text/html": [
       "<div>\n",
       "<style scoped>\n",
       "    .dataframe tbody tr th:only-of-type {\n",
       "        vertical-align: middle;\n",
       "    }\n",
       "\n",
       "    .dataframe tbody tr th {\n",
       "        vertical-align: top;\n",
       "    }\n",
       "\n",
       "    .dataframe thead th {\n",
       "        text-align: right;\n",
       "    }\n",
       "</style>\n",
       "<table border=\"1\" class=\"dataframe\">\n",
       "  <thead>\n",
       "    <tr style=\"text-align: right;\">\n",
       "      <th></th>\n",
       "      <th>gene_name</th>\n",
       "      <th>p_raw</th>\n",
       "      <th>p_bonferroni</th>\n",
       "    </tr>\n",
       "  </thead>\n",
       "  <tbody>\n",
       "    <tr>\n",
       "      <th>Astro</th>\n",
       "      <td>[]</td>\n",
       "      <td>[]</td>\n",
       "      <td>[]</td>\n",
       "    </tr>\n",
       "    <tr>\n",
       "      <th>Endo</th>\n",
       "      <td>[Vamp8_ENSMUSG00000050732, Ly6a_ENSMUSG0000007...</td>\n",
       "      <td>[2.022278385468801e-10, 3.9596077100262786e-10...</td>\n",
       "      <td>[1.9403761108573147e-06, 3.7992435977702143e-0...</td>\n",
       "    </tr>\n",
       "    <tr>\n",
       "      <th>L2/3 IT</th>\n",
       "      <td>[Ptk2b_ENSMUSG00000059456, Camk2n1_ENSMUSG0000...</td>\n",
       "      <td>[0.0, 0.0, 0.0, 0.0, 0.0, 0.0, 0.0, 0.0, 0.0, ...</td>\n",
       "      <td>[0.0, 0.0, 0.0, 0.0, 0.0, 0.0, 0.0, 0.0, 0.0, ...</td>\n",
       "    </tr>\n",
       "    <tr>\n",
       "      <th>L5 IT</th>\n",
       "      <td>[Rprml_ENSMUSG00000046215, Camk2n1_ENSMUSG0000...</td>\n",
       "      <td>[0.0, 0.0, 0.0, 0.0, 0.0, 0.0, 0.0, 0.0, 0.0, ...</td>\n",
       "      <td>[0.0, 0.0, 0.0, 0.0, 0.0, 0.0, 0.0, 0.0, 0.0, ...</td>\n",
       "    </tr>\n",
       "    <tr>\n",
       "      <th>L5 PT</th>\n",
       "      <td>[Igfbp6_ENSMUSG00000023046, Gm13306_ENSMUSG000...</td>\n",
       "      <td>[6.018272301539206e-16, 5.469719550860107e-14,...</td>\n",
       "      <td>[5.774532273326869e-12, 5.248195909050273e-10,...</td>\n",
       "    </tr>\n",
       "    <tr>\n",
       "      <th>L5/6 NP</th>\n",
       "      <td>[Nrsn2_ENSMUSG00000059361, Gm13306_ENSMUSG0000...</td>\n",
       "      <td>[0.0, 0.0, 0.0, 0.0, 2.0972207605900295e-301, ...</td>\n",
       "      <td>[0.0, 0.0, 0.0, 0.0, 2.0122833197861334e-297, ...</td>\n",
       "    </tr>\n",
       "    <tr>\n",
       "      <th>L6 CT</th>\n",
       "      <td>[Gm13306_ENSMUSG00000073877, Fxyd7_ENSMUSG0000...</td>\n",
       "      <td>[0.0, 0.0, 0.0, 0.0, 0.0, 0.0, 0.0, 0.0, 0.0, ...</td>\n",
       "      <td>[0.0, 0.0, 0.0, 0.0, 0.0, 0.0, 0.0, 0.0, 0.0, ...</td>\n",
       "    </tr>\n",
       "    <tr>\n",
       "      <th>L6 IT</th>\n",
       "      <td>[Fhl2_ENSMUSG00000008136, Enc1_ENSMUSG00000041...</td>\n",
       "      <td>[0.0, 0.0, 0.0, 0.0, 0.0, 0.0, 0.0, 0.0, 0.0, ...</td>\n",
       "      <td>[0.0, 0.0, 0.0, 0.0, 0.0, 0.0, 0.0, 0.0, 0.0, ...</td>\n",
       "    </tr>\n",
       "    <tr>\n",
       "      <th>L6 IT Car3</th>\n",
       "      <td>[Pih1d1_ENSMUSG00000003423, Arhgdig_ENSMUSG000...</td>\n",
       "      <td>[1.92944259303629e-11, 1.1536524724119812e-09,...</td>\n",
       "      <td>[1.8513001680183204e-07, 1.106929547279296e-05...</td>\n",
       "    </tr>\n",
       "    <tr>\n",
       "      <th>L6b</th>\n",
       "      <td>[Gabra5_ENSMUSG00000055078, Serpini1_ENSMUSG00...</td>\n",
       "      <td>[0.0, 0.0, 0.0, 0.0, 0.0, 0.0, 0.0, 0.0, 0.0, ...</td>\n",
       "      <td>[0.0, 0.0, 0.0, 0.0, 0.0, 0.0, 0.0, 0.0, 0.0, ...</td>\n",
       "    </tr>\n",
       "    <tr>\n",
       "      <th>Lamp5</th>\n",
       "      <td>[Gad2_ENSMUSG00000026787, Gad1_ENSMUSG00000070...</td>\n",
       "      <td>[0.0, 0.0, 0.0, 0.0, 0.0, 0.0, 0.0, 8.46700024...</td>\n",
       "      <td>[0.0, 0.0, 0.0, 0.0, 0.0, 0.0, 0.0, 8.12408673...</td>\n",
       "    </tr>\n",
       "    <tr>\n",
       "      <th>Low Quality</th>\n",
       "      <td>[Nrgn_ENSMUSG00000053310, Cck_ENSMUSG000000325...</td>\n",
       "      <td>[1.5446778702398623e-35, 3.2384991247372233e-1...</td>\n",
       "      <td>[1.4821184164951478e-31, 3.107339910185366e-13...</td>\n",
       "    </tr>\n",
       "    <tr>\n",
       "      <th>Pvalb</th>\n",
       "      <td>[Nxph1_ENSMUSG00000046178, Cox5a_ENSMUSG000000...</td>\n",
       "      <td>[0.0, 0.0, 0.0, 0.0, 0.0, 0.0, 0.0, 0.0, 0.0, ...</td>\n",
       "      <td>[0.0, 0.0, 0.0, 0.0, 0.0, 0.0, 0.0, 0.0, 0.0, ...</td>\n",
       "    </tr>\n",
       "    <tr>\n",
       "      <th>SMC</th>\n",
       "      <td>[Igfbp7_ENSMUSG00000036256, Gng11_ENSMUSG00000...</td>\n",
       "      <td>[9.347886974915588e-34, 2.8582041048209723e-22...</td>\n",
       "      <td>[8.969297552431506e-30, 2.742446838575723e-18,...</td>\n",
       "    </tr>\n",
       "    <tr>\n",
       "      <th>Sncg</th>\n",
       "      <td>[Kcnip1_ENSMUSG00000053519, Cnr1_ENSMUSG000000...</td>\n",
       "      <td>[1.3856807292474216e-170, 2.647838538109012e-1...</td>\n",
       "      <td>[1.329560659712901e-166, 2.540601077315597e-13...</td>\n",
       "    </tr>\n",
       "    <tr>\n",
       "      <th>Sst</th>\n",
       "      <td>[Tmem91_ENSMUSG00000061702, Synpr_ENSMUSG00000...</td>\n",
       "      <td>[0.0, 0.0, 0.0, 0.0, 0.0, 0.0, 0.0, 0.0, 0.0, ...</td>\n",
       "      <td>[0.0, 0.0, 0.0, 0.0, 0.0, 0.0, 0.0, 0.0, 0.0, ...</td>\n",
       "    </tr>\n",
       "    <tr>\n",
       "      <th>VLMC</th>\n",
       "      <td>[Ier2_ENSMUSG00000053560, Lgals1_ENSMUSG000000...</td>\n",
       "      <td>[2.3079426159590853e-09, 9.431200684098016e-08...</td>\n",
       "      <td>[2.2144709400127424e-05, 0.0009049237056392046...</td>\n",
       "    </tr>\n",
       "    <tr>\n",
       "      <th>Vip</th>\n",
       "      <td>[Slc6a1_ENSMUSG00000030310, Igf1_ENSMUSG000000...</td>\n",
       "      <td>[0.0, 0.0, 0.0, 0.0, 0.0, 0.0, 0.0, 0.0, 0.0, ...</td>\n",
       "      <td>[0.0, 0.0, 0.0, 0.0, 0.0, 0.0, 0.0, 0.0, 0.0, ...</td>\n",
       "    </tr>\n",
       "  </tbody>\n",
       "</table>\n",
       "</div>"
      ],
      "text/plain": [
       "                                                     gene_name  \\\n",
       "Astro                                                       []   \n",
       "Endo         [Vamp8_ENSMUSG00000050732, Ly6a_ENSMUSG0000007...   \n",
       "L2/3 IT      [Ptk2b_ENSMUSG00000059456, Camk2n1_ENSMUSG0000...   \n",
       "L5 IT        [Rprml_ENSMUSG00000046215, Camk2n1_ENSMUSG0000...   \n",
       "L5 PT        [Igfbp6_ENSMUSG00000023046, Gm13306_ENSMUSG000...   \n",
       "L5/6 NP      [Nrsn2_ENSMUSG00000059361, Gm13306_ENSMUSG0000...   \n",
       "L6 CT        [Gm13306_ENSMUSG00000073877, Fxyd7_ENSMUSG0000...   \n",
       "L6 IT        [Fhl2_ENSMUSG00000008136, Enc1_ENSMUSG00000041...   \n",
       "L6 IT Car3   [Pih1d1_ENSMUSG00000003423, Arhgdig_ENSMUSG000...   \n",
       "L6b          [Gabra5_ENSMUSG00000055078, Serpini1_ENSMUSG00...   \n",
       "Lamp5        [Gad2_ENSMUSG00000026787, Gad1_ENSMUSG00000070...   \n",
       "Low Quality  [Nrgn_ENSMUSG00000053310, Cck_ENSMUSG000000325...   \n",
       "Pvalb        [Nxph1_ENSMUSG00000046178, Cox5a_ENSMUSG000000...   \n",
       "SMC          [Igfbp7_ENSMUSG00000036256, Gng11_ENSMUSG00000...   \n",
       "Sncg         [Kcnip1_ENSMUSG00000053519, Cnr1_ENSMUSG000000...   \n",
       "Sst          [Tmem91_ENSMUSG00000061702, Synpr_ENSMUSG00000...   \n",
       "VLMC         [Ier2_ENSMUSG00000053560, Lgals1_ENSMUSG000000...   \n",
       "Vip          [Slc6a1_ENSMUSG00000030310, Igf1_ENSMUSG000000...   \n",
       "\n",
       "                                                         p_raw  \\\n",
       "Astro                                                       []   \n",
       "Endo         [2.022278385468801e-10, 3.9596077100262786e-10...   \n",
       "L2/3 IT      [0.0, 0.0, 0.0, 0.0, 0.0, 0.0, 0.0, 0.0, 0.0, ...   \n",
       "L5 IT        [0.0, 0.0, 0.0, 0.0, 0.0, 0.0, 0.0, 0.0, 0.0, ...   \n",
       "L5 PT        [6.018272301539206e-16, 5.469719550860107e-14,...   \n",
       "L5/6 NP      [0.0, 0.0, 0.0, 0.0, 2.0972207605900295e-301, ...   \n",
       "L6 CT        [0.0, 0.0, 0.0, 0.0, 0.0, 0.0, 0.0, 0.0, 0.0, ...   \n",
       "L6 IT        [0.0, 0.0, 0.0, 0.0, 0.0, 0.0, 0.0, 0.0, 0.0, ...   \n",
       "L6 IT Car3   [1.92944259303629e-11, 1.1536524724119812e-09,...   \n",
       "L6b          [0.0, 0.0, 0.0, 0.0, 0.0, 0.0, 0.0, 0.0, 0.0, ...   \n",
       "Lamp5        [0.0, 0.0, 0.0, 0.0, 0.0, 0.0, 0.0, 8.46700024...   \n",
       "Low Quality  [1.5446778702398623e-35, 3.2384991247372233e-1...   \n",
       "Pvalb        [0.0, 0.0, 0.0, 0.0, 0.0, 0.0, 0.0, 0.0, 0.0, ...   \n",
       "SMC          [9.347886974915588e-34, 2.8582041048209723e-22...   \n",
       "Sncg         [1.3856807292474216e-170, 2.647838538109012e-1...   \n",
       "Sst          [0.0, 0.0, 0.0, 0.0, 0.0, 0.0, 0.0, 0.0, 0.0, ...   \n",
       "VLMC         [2.3079426159590853e-09, 9.431200684098016e-08...   \n",
       "Vip          [0.0, 0.0, 0.0, 0.0, 0.0, 0.0, 0.0, 0.0, 0.0, ...   \n",
       "\n",
       "                                                  p_bonferroni  \n",
       "Astro                                                       []  \n",
       "Endo         [1.9403761108573147e-06, 3.7992435977702143e-0...  \n",
       "L2/3 IT      [0.0, 0.0, 0.0, 0.0, 0.0, 0.0, 0.0, 0.0, 0.0, ...  \n",
       "L5 IT        [0.0, 0.0, 0.0, 0.0, 0.0, 0.0, 0.0, 0.0, 0.0, ...  \n",
       "L5 PT        [5.774532273326869e-12, 5.248195909050273e-10,...  \n",
       "L5/6 NP      [0.0, 0.0, 0.0, 0.0, 2.0122833197861334e-297, ...  \n",
       "L6 CT        [0.0, 0.0, 0.0, 0.0, 0.0, 0.0, 0.0, 0.0, 0.0, ...  \n",
       "L6 IT        [0.0, 0.0, 0.0, 0.0, 0.0, 0.0, 0.0, 0.0, 0.0, ...  \n",
       "L6 IT Car3   [1.8513001680183204e-07, 1.106929547279296e-05...  \n",
       "L6b          [0.0, 0.0, 0.0, 0.0, 0.0, 0.0, 0.0, 0.0, 0.0, ...  \n",
       "Lamp5        [0.0, 0.0, 0.0, 0.0, 0.0, 0.0, 0.0, 8.12408673...  \n",
       "Low Quality  [1.4821184164951478e-31, 3.107339910185366e-13...  \n",
       "Pvalb        [0.0, 0.0, 0.0, 0.0, 0.0, 0.0, 0.0, 0.0, 0.0, ...  \n",
       "SMC          [8.969297552431506e-30, 2.742446838575723e-18,...  \n",
       "Sncg         [1.329560659712901e-166, 2.540601077315597e-13...  \n",
       "Sst          [0.0, 0.0, 0.0, 0.0, 0.0, 0.0, 0.0, 0.0, 0.0, ...  \n",
       "VLMC         [2.2144709400127424e-05, 0.0009049237056392046...  \n",
       "Vip          [0.0, 0.0, 0.0, 0.0, 0.0, 0.0, 0.0, 0.0, 0.0, ...  "
      ]
     },
     "execution_count": 16,
     "metadata": {},
     "output_type": "execute_result"
    }
   ],
   "source": [
    "markers_gene"
   ]
  },
  {
   "cell_type": "code",
   "execution_count": 17,
   "metadata": {},
   "outputs": [
    {
     "data": {
      "text/plain": [
       "L5 IT          1561\n",
       "L6 CT           904\n",
       "Vip             607\n",
       "L6b             570\n",
       "Pvalb           521\n",
       "L2/3 IT         482\n",
       "Sst             406\n",
       "L6 IT           395\n",
       "Lamp5           360\n",
       "L5/6 NP         207\n",
       "Sncg             77\n",
       "SMC              19\n",
       "L5 PT            12\n",
       "Low Quality      12\n",
       "Astro             9\n",
       "Endo              7\n",
       "VLMC              6\n",
       "L6 IT Car3        5\n",
       "Name: subclass_label, dtype: int64"
      ]
     },
     "execution_count": 17,
     "metadata": {},
     "output_type": "execute_result"
    }
   ],
   "source": [
    "gene.obs.subclass_label.value_counts()"
   ]
  },
  {
   "cell_type": "code",
   "execution_count": 18,
   "metadata": {},
   "outputs": [],
   "source": [
    "specific_cluster = \"L5 PT\"\n",
    "specific_gene = \"Igfbp6_ENSMUSG00000023046\""
   ]
  },
  {
   "cell_type": "code",
   "execution_count": 19,
   "metadata": {},
   "outputs": [
    {
     "data": {
      "text/plain": [
       "'Igfbp6_ENSMUSG00000023046'"
      ]
     },
     "execution_count": 19,
     "metadata": {},
     "output_type": "execute_result"
    }
   ],
   "source": [
    "specific_gene"
   ]
  },
  {
   "cell_type": "code",
   "execution_count": 21,
   "metadata": {},
   "outputs": [],
   "source": [
    "logger.setLevel(logging.ERROR)"
   ]
  },
  {
   "cell_type": "code",
   "execution_count": 22,
   "metadata": {},
   "outputs": [
    {
     "data": {
      "image/png": "[encoded data removed]",
      "text/plain": [
       "<Figure size 1080x360 with 1 Axes>"
      ]
     },
     "metadata": {
      "image/png": {
       "height": 416,
       "width": 895
      },
      "needs_background": "light"
     },
     "output_type": "display_data"
    }
   ],
   "source": [
    "fig, ax = plt.subplots(figsize=(15,5))\n",
    "fig.subplots_adjust(hspace=0, wspace=0)\n",
    "\n",
    "unique = np.unique(gene.obs.subclass_label.values)\n",
    "\n",
    "\n",
    "labels = unique\n",
    "lidx = np.arange(1, len(labels)+1)  # the label locations\n",
    "midx = np.where(unique==specific_cluster)[0][0]\n",
    "#######3# Gene\n",
    "x = []\n",
    "for c in unique:\n",
    "    x.append(np.asarray(gene[gene.obs.subclass_label==c][:,gene.var.gene_name.values==specific_gene].layers[\"log1p\"].todense()).reshape(-1).tolist())\n",
    "\n",
    "parts = ax.violinplot(x, showmedians=False, showextrema=False)\n",
    "for pcidx, pc in enumerate(parts['bodies']):\n",
    "    pc.set_facecolor('grey')\n",
    "    pc.set_edgecolor('black')\n",
    "    pc.set_alpha(1)\n",
    "    if pcidx == midx:\n",
    "        pc.set_facecolor(\"#D43F3A\")\n",
    "\n",
    "medians = [np.median(i) for i in x]\n",
    "ax.scatter(lidx, medians, marker='o', color='white', s=30, zorder=3)\n",
    "\n",
    "#ax[0].axhline(y=medians[midx], color=\"k\", linestyle=\"--\")\n",
    "ax.set_ylabel(\"Gene\")\n",
    "\n",
    "\n",
    "medians = [np.median(i) for i in x]\n",
    "ax.set_xticks(lidx)\n",
    "ax.set_xticklabels(labels, rotation=45, ha=\"right\")\n",
    "ax.set_title(\"{} gene expression $log(TPM + 1)$\".format(specific_gene))\n",
    "#plt.savefig(\"./figures/class_DE_violin_{}.png\".format(specific_gene.split(\"_\")[0]), bbox_inches='tight',dpi=300)\n",
    "plt.show()"
   ]
  },
  {
   "cell_type": "code",
   "execution_count": 23,
   "metadata": {},
   "outputs": [],
   "source": [
    "identified_genes = markers_gene[\"gene_name\"].explode().astype(str)\n",
    "identified_genes = identified_genes[identified_genes!=\"nan\"]"
   ]
  },
  {
   "cell_type": "code",
   "execution_count": 24,
   "metadata": {},
   "outputs": [
    {
     "name": "stdout",
     "output_type": "stream",
     "text": [
      "6948 genes identified.\n"
     ]
    }
   ],
   "source": [
    "print(\"{} genes identified.\".format(identified_genes.nunique()))"
   ]
  },
  {
   "cell_type": "code",
   "execution_count": 25,
   "metadata": {},
   "outputs": [
    {
     "data": {
      "text/plain": [
       "Astro                           NaN\n",
       "Endo       Vamp8_ENSMUSG00000050732\n",
       "Endo        Ly6a_ENSMUSG00000075602\n",
       "Endo       Ly6c1_ENSMUSG00000079018\n",
       "Endo        Emcn_ENSMUSG00000054690\n",
       "                    ...            \n",
       "Vip      Olfr344_ENSMUSG00000096822\n",
       "Vip         Ccnh_ENSMUSG00000021548\n",
       "Vip       Arglu1_ENSMUSG00000040459\n",
       "Vip        Dpy30_ENSMUSG00000024067\n",
       "Vip      Gm28268_ENSMUSG00000101776\n",
       "Name: gene_name, Length: 19474, dtype: object"
      ]
     },
     "execution_count": 25,
     "metadata": {},
     "output_type": "execute_result"
    }
   ],
   "source": [
    "markers_gene[\"gene_name\"].explode()"
   ]
  },
  {
   "cell_type": "code",
   "execution_count": 26,
   "metadata": {},
   "outputs": [
    {
     "data": {
      "text/plain": [
       "Astro            NaN\n",
       "Endo     2.02228e-10\n",
       "Endo     3.95961e-10\n",
       "Endo     1.01549e-09\n",
       "Endo     3.09878e-09\n",
       "            ...     \n",
       "Vip      7.92835e-07\n",
       "Vip      8.07487e-07\n",
       "Vip       8.5497e-07\n",
       "Vip      9.26332e-07\n",
       "Vip      9.61388e-07\n",
       "Name: p_raw, Length: 19474, dtype: object"
      ]
     },
     "execution_count": 26,
     "metadata": {},
     "output_type": "execute_result"
    }
   ],
   "source": [
    "markers_gene[\"p_raw\"].explode()"
   ]
  },
  {
   "cell_type": "code",
   "execution_count": 27,
   "metadata": {},
   "outputs": [],
   "source": [
    "markers_gene = markers_gene.apply(pd.Series.explode).reset_index()"
   ]
  },
  {
   "cell_type": "code",
   "execution_count": 28,
   "metadata": {},
   "outputs": [
    {
     "data": {
      "text/html": [
       "<div>\n",
       "<style scoped>\n",
       "    .dataframe tbody tr th:only-of-type {\n",
       "        vertical-align: middle;\n",
       "    }\n",
       "\n",
       "    .dataframe tbody tr th {\n",
       "        vertical-align: top;\n",
       "    }\n",
       "\n",
       "    .dataframe thead th {\n",
       "        text-align: right;\n",
       "    }\n",
       "</style>\n",
       "<table border=\"1\" class=\"dataframe\">\n",
       "  <thead>\n",
       "    <tr style=\"text-align: right;\">\n",
       "      <th></th>\n",
       "      <th>index</th>\n",
       "      <th>gene_name</th>\n",
       "      <th>p_raw</th>\n",
       "      <th>p_bonferroni</th>\n",
       "    </tr>\n",
       "  </thead>\n",
       "  <tbody>\n",
       "    <tr>\n",
       "      <th>0</th>\n",
       "      <td>Astro</td>\n",
       "      <td>NaN</td>\n",
       "      <td>NaN</td>\n",
       "      <td>NaN</td>\n",
       "    </tr>\n",
       "    <tr>\n",
       "      <th>1</th>\n",
       "      <td>Endo</td>\n",
       "      <td>Vamp8_ENSMUSG00000050732</td>\n",
       "      <td>2.02228e-10</td>\n",
       "      <td>1.94038e-06</td>\n",
       "    </tr>\n",
       "    <tr>\n",
       "      <th>2</th>\n",
       "      <td>Endo</td>\n",
       "      <td>Ly6a_ENSMUSG00000075602</td>\n",
       "      <td>3.95961e-10</td>\n",
       "      <td>3.79924e-06</td>\n",
       "    </tr>\n",
       "    <tr>\n",
       "      <th>3</th>\n",
       "      <td>Endo</td>\n",
       "      <td>Ly6c1_ENSMUSG00000079018</td>\n",
       "      <td>1.01549e-09</td>\n",
       "      <td>9.74358e-06</td>\n",
       "    </tr>\n",
       "    <tr>\n",
       "      <th>4</th>\n",
       "      <td>Endo</td>\n",
       "      <td>Emcn_ENSMUSG00000054690</td>\n",
       "      <td>3.09878e-09</td>\n",
       "      <td>2.97328e-05</td>\n",
       "    </tr>\n",
       "    <tr>\n",
       "      <th>...</th>\n",
       "      <td>...</td>\n",
       "      <td>...</td>\n",
       "      <td>...</td>\n",
       "      <td>...</td>\n",
       "    </tr>\n",
       "    <tr>\n",
       "      <th>19469</th>\n",
       "      <td>Vip</td>\n",
       "      <td>Olfr344_ENSMUSG00000096822</td>\n",
       "      <td>7.92835e-07</td>\n",
       "      <td>0.00760725</td>\n",
       "    </tr>\n",
       "    <tr>\n",
       "      <th>19470</th>\n",
       "      <td>Vip</td>\n",
       "      <td>Ccnh_ENSMUSG00000021548</td>\n",
       "      <td>8.07487e-07</td>\n",
       "      <td>0.00774784</td>\n",
       "    </tr>\n",
       "    <tr>\n",
       "      <th>19471</th>\n",
       "      <td>Vip</td>\n",
       "      <td>Arglu1_ENSMUSG00000040459</td>\n",
       "      <td>8.5497e-07</td>\n",
       "      <td>0.00820343</td>\n",
       "    </tr>\n",
       "    <tr>\n",
       "      <th>19472</th>\n",
       "      <td>Vip</td>\n",
       "      <td>Dpy30_ENSMUSG00000024067</td>\n",
       "      <td>9.26332e-07</td>\n",
       "      <td>0.00888816</td>\n",
       "    </tr>\n",
       "    <tr>\n",
       "      <th>19473</th>\n",
       "      <td>Vip</td>\n",
       "      <td>Gm28268_ENSMUSG00000101776</td>\n",
       "      <td>9.61388e-07</td>\n",
       "      <td>0.00922452</td>\n",
       "    </tr>\n",
       "  </tbody>\n",
       "</table>\n",
       "<p>19474 rows × 4 columns</p>\n",
       "</div>"
      ],
      "text/plain": [
       "       index                   gene_name        p_raw p_bonferroni\n",
       "0      Astro                         NaN          NaN          NaN\n",
       "1       Endo    Vamp8_ENSMUSG00000050732  2.02228e-10  1.94038e-06\n",
       "2       Endo     Ly6a_ENSMUSG00000075602  3.95961e-10  3.79924e-06\n",
       "3       Endo    Ly6c1_ENSMUSG00000079018  1.01549e-09  9.74358e-06\n",
       "4       Endo     Emcn_ENSMUSG00000054690  3.09878e-09  2.97328e-05\n",
       "...      ...                         ...          ...          ...\n",
       "19469    Vip  Olfr344_ENSMUSG00000096822  7.92835e-07   0.00760725\n",
       "19470    Vip     Ccnh_ENSMUSG00000021548  8.07487e-07   0.00774784\n",
       "19471    Vip   Arglu1_ENSMUSG00000040459   8.5497e-07   0.00820343\n",
       "19472    Vip    Dpy30_ENSMUSG00000024067  9.26332e-07   0.00888816\n",
       "19473    Vip  Gm28268_ENSMUSG00000101776  9.61388e-07   0.00922452\n",
       "\n",
       "[19474 rows x 4 columns]"
      ]
     },
     "execution_count": 28,
     "metadata": {},
     "output_type": "execute_result"
    }
   ],
   "source": [
    "markers_gene"
   ]
  },
  {
   "cell_type": "code",
   "execution_count": 29,
   "metadata": {},
   "outputs": [],
   "source": [
    "markers_gene.to_csv(\"../../tables/unordered/union_test_subclass_DE.csv\")"
   ]
  },
  {
   "cell_type": "code",
   "execution_count": 30,
   "metadata": {},
   "outputs": [
    {
     "data": {
      "text/html": [
       "<div>\n",
       "<style scoped>\n",
       "    .dataframe tbody tr th:only-of-type {\n",
       "        vertical-align: middle;\n",
       "    }\n",
       "\n",
       "    .dataframe tbody tr th {\n",
       "        vertical-align: top;\n",
       "    }\n",
       "\n",
       "    .dataframe thead th {\n",
       "        text-align: right;\n",
       "    }\n",
       "</style>\n",
       "<table border=\"1\" class=\"dataframe\">\n",
       "  <thead>\n",
       "    <tr style=\"text-align: right;\">\n",
       "      <th></th>\n",
       "      <th>index</th>\n",
       "      <th>gene_name</th>\n",
       "      <th>p_raw</th>\n",
       "      <th>p_bonferroni</th>\n",
       "    </tr>\n",
       "  </thead>\n",
       "  <tbody>\n",
       "    <tr>\n",
       "      <th>0</th>\n",
       "      <td>Astro</td>\n",
       "      <td>NaN</td>\n",
       "      <td>NaN</td>\n",
       "      <td>NaN</td>\n",
       "    </tr>\n",
       "    <tr>\n",
       "      <th>1</th>\n",
       "      <td>Endo</td>\n",
       "      <td>Vamp8_ENSMUSG00000050732</td>\n",
       "      <td>2.02228e-10</td>\n",
       "      <td>1.94038e-06</td>\n",
       "    </tr>\n",
       "    <tr>\n",
       "      <th>2</th>\n",
       "      <td>Endo</td>\n",
       "      <td>Ly6a_ENSMUSG00000075602</td>\n",
       "      <td>3.95961e-10</td>\n",
       "      <td>3.79924e-06</td>\n",
       "    </tr>\n",
       "    <tr>\n",
       "      <th>3</th>\n",
       "      <td>Endo</td>\n",
       "      <td>Ly6c1_ENSMUSG00000079018</td>\n",
       "      <td>1.01549e-09</td>\n",
       "      <td>9.74358e-06</td>\n",
       "    </tr>\n",
       "    <tr>\n",
       "      <th>4</th>\n",
       "      <td>Endo</td>\n",
       "      <td>Emcn_ENSMUSG00000054690</td>\n",
       "      <td>3.09878e-09</td>\n",
       "      <td>2.97328e-05</td>\n",
       "    </tr>\n",
       "    <tr>\n",
       "      <th>...</th>\n",
       "      <td>...</td>\n",
       "      <td>...</td>\n",
       "      <td>...</td>\n",
       "      <td>...</td>\n",
       "    </tr>\n",
       "    <tr>\n",
       "      <th>19469</th>\n",
       "      <td>Vip</td>\n",
       "      <td>Olfr344_ENSMUSG00000096822</td>\n",
       "      <td>7.92835e-07</td>\n",
       "      <td>0.00760725</td>\n",
       "    </tr>\n",
       "    <tr>\n",
       "      <th>19470</th>\n",
       "      <td>Vip</td>\n",
       "      <td>Ccnh_ENSMUSG00000021548</td>\n",
       "      <td>8.07487e-07</td>\n",
       "      <td>0.00774784</td>\n",
       "    </tr>\n",
       "    <tr>\n",
       "      <th>19471</th>\n",
       "      <td>Vip</td>\n",
       "      <td>Arglu1_ENSMUSG00000040459</td>\n",
       "      <td>8.5497e-07</td>\n",
       "      <td>0.00820343</td>\n",
       "    </tr>\n",
       "    <tr>\n",
       "      <th>19472</th>\n",
       "      <td>Vip</td>\n",
       "      <td>Dpy30_ENSMUSG00000024067</td>\n",
       "      <td>9.26332e-07</td>\n",
       "      <td>0.00888816</td>\n",
       "    </tr>\n",
       "    <tr>\n",
       "      <th>19473</th>\n",
       "      <td>Vip</td>\n",
       "      <td>Gm28268_ENSMUSG00000101776</td>\n",
       "      <td>9.61388e-07</td>\n",
       "      <td>0.00922452</td>\n",
       "    </tr>\n",
       "  </tbody>\n",
       "</table>\n",
       "<p>19474 rows × 4 columns</p>\n",
       "</div>"
      ],
      "text/plain": [
       "       index                   gene_name        p_raw p_bonferroni\n",
       "0      Astro                         NaN          NaN          NaN\n",
       "1       Endo    Vamp8_ENSMUSG00000050732  2.02228e-10  1.94038e-06\n",
       "2       Endo     Ly6a_ENSMUSG00000075602  3.95961e-10  3.79924e-06\n",
       "3       Endo    Ly6c1_ENSMUSG00000079018  1.01549e-09  9.74358e-06\n",
       "4       Endo     Emcn_ENSMUSG00000054690  3.09878e-09  2.97328e-05\n",
       "...      ...                         ...          ...          ...\n",
       "19469    Vip  Olfr344_ENSMUSG00000096822  7.92835e-07   0.00760725\n",
       "19470    Vip     Ccnh_ENSMUSG00000021548  8.07487e-07   0.00774784\n",
       "19471    Vip   Arglu1_ENSMUSG00000040459   8.5497e-07   0.00820343\n",
       "19472    Vip    Dpy30_ENSMUSG00000024067  9.26332e-07   0.00888816\n",
       "19473    Vip  Gm28268_ENSMUSG00000101776  9.61388e-07   0.00922452\n",
       "\n",
       "[19474 rows x 4 columns]"
      ]
     },
     "execution_count": 30,
     "metadata": {},
     "output_type": "execute_result"
    }
   ],
   "source": [
    "markers_gene"
   ]
  },
  {
   "cell_type": "code",
   "execution_count": 31,
   "metadata": {},
   "outputs": [
    {
     "data": {
      "text/plain": [
       "L5 IT Rspo1      623\n",
       "L5 IT Rspo2      254\n",
       "L5 IT S100b_1    251\n",
       "L5 IT Tcap_1     219\n",
       "L5 IT Tcap_2     120\n",
       "L5 IT S100b_2     82\n",
       "L5 IT Pld5        12\n",
       "Name: cluster_label, dtype: int64"
      ]
     },
     "execution_count": 31,
     "metadata": {},
     "output_type": "execute_result"
    }
   ],
   "source": [
    "gene[gene.obs.subclass_label==\"L5 IT\"].obs.cluster_label.value_counts()"
   ]
  },
  {
   "cell_type": "code",
   "execution_count": null,
   "metadata": {},
   "outputs": [],
   "source": []
  }
 ],
 "metadata": {
  "kernelspec": {
   "display_name": "Python 3",
   "language": "python",
   "name": "python3"
  },
  "language_info": {
   "codemirror_mode": {
    "name": "ipython",
    "version": 3
   },
   "file_extension": ".py",
   "mimetype": "text/x-python",
   "name": "python",
   "nbconvert_exporter": "python",
   "pygments_lexer": "ipython3",
   "version": "3.7.4"
  }
 },
 "nbformat": 4,
 "nbformat_minor": 4
}
