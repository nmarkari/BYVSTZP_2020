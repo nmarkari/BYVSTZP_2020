{
 "cells": [
  {
   "cell_type": "code",
   "execution_count": 1,
   "metadata": {},
   "outputs": [
    {
     "name": "stdout",
     "output_type": "stream",
     "text": [
      "Fri Mar  6 00:11:14 PST 2020\n"
     ]
    }
   ],
   "source": [
    "!date"
   ]
  },
  {
   "cell_type": "markdown",
   "metadata": {},
   "source": [
    "# Summary stats"
   ]
  },
  {
   "cell_type": "code",
   "execution_count": 2,
   "metadata": {},
   "outputs": [],
   "source": [
    "import anndata\n",
    "import pandas as pd\n",
    "import numpy as np\n",
    "import matplotlib.pyplot as plt\n",
    "import matplotlib as mpl\n",
    "import matplotlib.patches as mpatches\n",
    "import scanpy as sc\n",
    "from scipy.stats import ks_2samp, ttest_ind\n",
    "import ast\n",
    "from scipy.sparse import csr_matrix\n",
    "import warnings\n",
    "warnings.filterwarnings('ignore')\n",
    "\n",
    "def nd(arr):\n",
    "    return np.asarray(arr).reshape(-1)\n",
    "\n",
    "fsize=20\n",
    "\n",
    "plt.rcParams.update({'font.size': fsize})\n",
    "%config InlineBackend.figure_format = 'retina'"
   ]
  },
  {
   "cell_type": "code",
   "execution_count": 3,
   "metadata": {},
   "outputs": [
    {
     "name": "stderr",
     "output_type": "stream",
     "text": [
      "Transforming to str index.\n"
     ]
    }
   ],
   "source": [
    "ss = anndata.read_h5ad(\"../cell_ranger_annotation/no_filter_gene.h5ad\")\n",
    "tenx = anndata.read_h5ad(\"../cell_ranger_annotation/10xv3_gene.h5ad\")\n",
    "mfish = anndata.read_h5ad(\"../cell_ranger_annotation/merfish.h5ad\")"
   ]
  },
  {
   "cell_type": "markdown",
   "metadata": {},
   "source": [
    "# Number of cells"
   ]
  },
  {
   "cell_type": "code",
   "execution_count": 5,
   "metadata": {},
   "outputs": [
    {
     "name": "stdout",
     "output_type": "stream",
     "text": [
      "SMART-Seq 6,295\n",
      "10xv3 94,162\n",
      "MERFISH 243,799\n"
     ]
    }
   ],
   "source": [
    "print(\"SMART-Seq {:,}\".format(ss.shape[0]))\n",
    "print(\"10xv3 {:,}\".format(tenx.shape[0]))\n",
    "print(\"MERFISH {:,}\".format(mfish.shape[0]))"
   ]
  },
  {
   "cell_type": "markdown",
   "metadata": {},
   "source": [
    "# Number of Genes"
   ]
  },
  {
   "cell_type": "code",
   "execution_count": 6,
   "metadata": {},
   "outputs": [
    {
     "name": "stdout",
     "output_type": "stream",
     "text": [
      "SMART-Seq 31,053\n",
      "10xv3 31,053\n",
      "MERFISH 254\n"
     ]
    }
   ],
   "source": [
    "print(\"SMART-Seq {:,}\".format(ss.shape[1]))\n",
    "print(\"10xv3 {:,}\".format(tenx.shape[1]))\n",
    "print(\"MERFISH {:,}\".format(mfish.shape[1]))"
   ]
  },
  {
   "cell_type": "markdown",
   "metadata": {},
   "source": [
    "# Number of detected genes per cell (average)"
   ]
  },
  {
   "cell_type": "code",
   "execution_count": 41,
   "metadata": {},
   "outputs": [
    {
     "name": "stdout",
     "output_type": "stream",
     "text": [
      "SMART-Seq 10,333\n",
      "10xv3 5,891\n",
      "MERFISH 74\n"
     ]
    }
   ],
   "source": [
    "print(\"SMART-Seq {:,.0f}\".format((ss.layers[\"X\"]>0).sum(axis=1).mean()))\n",
    "print(\"10xv3 {:,.0f}\".format((tenx.X>0).sum(axis=1).mean()))\n",
    "print(\"MERFISH {:,.0f}\".format((mfish.layers[\"X\"]>0).sum(axis=1).mean()))"
   ]
  },
  {
   "cell_type": "markdown",
   "metadata": {},
   "source": [
    "# Number of clusters"
   ]
  },
  {
   "cell_type": "code",
   "execution_count": 13,
   "metadata": {},
   "outputs": [
    {
     "name": "stdout",
     "output_type": "stream",
     "text": [
      "SMART-Seq 62\n",
      "10xv3 147\n",
      "MERFISH 93\n"
     ]
    }
   ],
   "source": [
    "print(\"SMART-Seq {:,}\".format(ss.obs.cluster_label.nunique()))\n",
    "print(\"10xv3 {:,}\".format(tenx.obs.cluster_label.nunique()))\n",
    "print(\"MERFISH {:,}\".format(mfish.obs.label.nunique()))"
   ]
  },
  {
   "cell_type": "markdown",
   "metadata": {},
   "source": [
    "# Reads Processed"
   ]
  },
  {
   "cell_type": "code",
   "execution_count": 32,
   "metadata": {},
   "outputs": [
    {
     "data": {
      "text/plain": [
       "'SMART-Seq 15,229,289,828 reads'"
      ]
     },
     "execution_count": 32,
     "metadata": {},
     "output_type": "execute_result"
    }
   ],
   "source": [
    "\"SMART-Seq {:,} reads\".format(15229289828)"
   ]
  },
  {
   "cell_type": "code",
   "execution_count": 19,
   "metadata": {},
   "outputs": [],
   "source": [
    "tenx_reads = [1048408446,\n",
    "            1466307916,\n",
    "            2941873323,\n",
    "            1152751524,\n",
    "            1708764205,\n",
    "            1926459540,\n",
    "            1600417861,\n",
    "            1897698358,\n",
    "            1919010597,\n",
    "            2247342604,\n",
    "            2465213703,\n",
    "            2321988388]"
   ]
  },
  {
   "cell_type": "code",
   "execution_count": 33,
   "metadata": {},
   "outputs": [
    {
     "data": {
      "text/plain": [
       "'10x: 22,696,236,465 reads'"
      ]
     },
     "execution_count": 33,
     "metadata": {},
     "output_type": "execute_result"
    }
   ],
   "source": [
    "\"10x: {:,} reads\".format(np.sum(tenx_reads))"
   ]
  },
  {
   "cell_type": "markdown",
   "metadata": {},
   "source": [
    "# Reads per cell"
   ]
  },
  {
   "cell_type": "code",
   "execution_count": 34,
   "metadata": {},
   "outputs": [
    {
     "data": {
      "text/plain": [
       "'SMART-Seq 2,419,268 reads per cell'"
      ]
     },
     "execution_count": 34,
     "metadata": {},
     "output_type": "execute_result"
    }
   ],
   "source": [
    "\"SMART-Seq {:,.0f} reads per cell\".format(15229289828/ss.shape[0])"
   ]
  },
  {
   "cell_type": "code",
   "execution_count": 35,
   "metadata": {},
   "outputs": [
    {
     "data": {
      "text/plain": [
       "'10x 241,034 reads per cell'"
      ]
     },
     "execution_count": 35,
     "metadata": {},
     "output_type": "execute_result"
    }
   ],
   "source": [
    "\"10x {:,.0f} reads per cell\".format(np.sum(tenx_reads)/tenx.shape[0])"
   ]
  },
  {
   "cell_type": "code",
   "execution_count": 31,
   "metadata": {},
   "outputs": [
    {
     "data": {
      "text/plain": [
       "'SMART-Seq was sequenced 10x deeper per cell than 10xv3.'"
      ]
     },
     "execution_count": 31,
     "metadata": {},
     "output_type": "execute_result"
    }
   ],
   "source": [
    "\"SMART-Seq was sequenced {:,.0f}x deeper per cell than 10xv3.\".format(15229289828/ss.shape[0]/(np.sum(tenx_reads)/tenx.shape[0]))"
   ]
  },
  {
   "cell_type": "markdown",
   "metadata": {},
   "source": [
    "# Isoform"
   ]
  },
  {
   "cell_type": "code",
   "execution_count": 36,
   "metadata": {},
   "outputs": [],
   "source": [
    "ss_iso = anndata.read_h5ad(\"../cell_ranger_annotation/no_filter_isoform.h5ad\")"
   ]
  },
  {
   "cell_type": "code",
   "execution_count": 42,
   "metadata": {},
   "outputs": [
    {
     "name": "stdout",
     "output_type": "stream",
     "text": [
      "SMART-Seq 20,319\n"
     ]
    }
   ],
   "source": [
    "print(\"SMART-Seq {:,.0f}\".format((ss_iso.layers[\"X\"]>0).sum(axis=1).mean()))"
   ]
  },
  {
   "cell_type": "code",
   "execution_count": null,
   "metadata": {},
   "outputs": [],
   "source": []
  }
 ],
 "metadata": {
  "kernelspec": {
   "display_name": "Python 3",
   "language": "python",
   "name": "python3"
  },
  "language_info": {
   "codemirror_mode": {
    "name": "ipython",
    "version": 3
   },
   "file_extension": ".py",
   "mimetype": "text/x-python",
   "name": "python",
   "nbconvert_exporter": "python",
   "pygments_lexer": "ipython3",
   "version": "3.7.4"
  }
 },
 "nbformat": 4,
 "nbformat_minor": 4
}
