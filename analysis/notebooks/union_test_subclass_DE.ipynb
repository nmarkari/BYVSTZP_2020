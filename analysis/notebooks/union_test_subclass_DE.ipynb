{
 "cells": [
  {
   "cell_type": "markdown",
   "metadata": {},
   "source": [
    "# Subclass DE Good"
   ]
  },
  {
   "cell_type": "code",
   "execution_count": 1,
   "metadata": {},
   "outputs": [],
   "source": [
    "import anndata\n",
    "import pandas as pd\n",
    "import numpy as np\n",
    "import matplotlib.pyplot as plt\n",
    "import matplotlib as mpl\n",
    "import matplotlib.patches as mpatches\n",
    "import scanpy as sc\n",
    "from scipy.stats import ks_2samp, ttest_ind\n",
    "import ast\n",
    "from scipy.sparse import csr_matrix\n",
    "import warnings\n",
    "warnings.filterwarnings('ignore')\n",
    "\n",
    "fsize=20\n",
    "\n",
    "plt.rcParams.update({'font.size': fsize})\n",
    "%config InlineBackend.figure_format = 'retina'"
   ]
  },
  {
   "cell_type": "code",
   "execution_count": 2,
   "metadata": {},
   "outputs": [],
   "source": [
    "cluster_cmap = {\n",
    "\"Astro\": (0.38823529411764707, 0.4745098039215686,  0.2235294117647059 ),  # 637939,\n",
    "\"Endo\" : (0.5490196078431373,  0.6352941176470588,  0.3215686274509804 ),  # 8ca252,\n",
    "\"SMC\"  : (0.7098039215686275,  0.8117647058823529,  0.4196078431372549 ),  # b5cf6b,\n",
    "\"VLMC\" : (0.807843137254902,   0.8588235294117647,  0.611764705882353  ),  # cedb9c,\n",
    "\"Low Quality\" : (0,0,0),\n",
    "\"L2/3 IT\" : (0.9921568627450981,  0.6823529411764706,  0.4196078431372549  ),  # fdae6b\n",
    "\"L5 PT\" : (0.9921568627450981,  0.8156862745098039,  0.6352941176470588  ),  # fdd0a2\n",
    "\"L5 IT\" : (0.5176470588235295,  0.23529411764705882, 0.2235294117647059 ),  # 843c39\n",
    "\"L5/6 NP\": \"#D43F3A\",\n",
    "\"L6 CT\" : (0.8392156862745098,  0.3803921568627451,  0.4196078431372549 ),  # d6616b\n",
    "\"L6 IT\" : (0.9058823529411765,  0.5882352941176471,  0.611764705882353  ),  # e7969c\n",
    "\"L6b\" : (1.0,                 0.4980392156862745,  0.054901960784313725),  # ff7f0e\n",
    "\"L6 IT Car3\" : (1.0,                 0.7333333333333333,  0.47058823529411764 ),  # ffbb78\n",
    "\"Lamp5\" : (0.19215686274509805, 0.5098039215686274,  0.7411764705882353  ),  # 3182bd # blues\n",
    "\"Sncg\" : (0.4196078431372549,  0.6823529411764706,  0.8392156862745098  ),  # 6baed6\n",
    "\"Vip\" : (0.6196078431372549,  0.792156862745098,   0.8823529411764706  ),  # 9ecae1\n",
    "\"Sst\" : (0.7764705882352941,  0.8588235294117647,  0.9372549019607843  ),  # c6dbef\n",
    "\"Pvalb\":(0.7372549019607844,  0.7411764705882353,  0.8627450980392157  ),  # bcbddc\n",
    "}"
   ]
  },
  {
   "cell_type": "code",
   "execution_count": 3,
   "metadata": {},
   "outputs": [],
   "source": [
    "gene =    anndata.read_h5ad(\"../cell_ranger_annotation/no_filter_gene.h5ad\")"
   ]
  },
  {
   "cell_type": "code",
   "execution_count": 4,
   "metadata": {},
   "outputs": [
    {
     "data": {
      "text/plain": [
       "AnnData object with n_obs × n_vars = 6295 × 31053 \n",
       "    obs: 'cluster_id', 'cluster_label', 'subclass_label', 'class_label', 'cluster_color', 'size', 'cell_id', 'subclass_id', 'class_id', 'cell_counts', 'percent_mito', 'n_genes', 'pass_count_filter'\n",
       "    var: 'transcript_id', 'gene_id', 'gene_name', 'transcript_name', 'length', 'txn_list', 'num_isoforms', 'gene_counts', 'dispersion', 'pass_disp_filter', 'highly_variable', 'means', 'dispersions', 'dispersions_norm'\n",
       "    layers: 'X', 'log1p', 'norm'"
      ]
     },
     "execution_count": 4,
     "metadata": {},
     "output_type": "execute_result"
    }
   ],
   "source": [
    "gene"
   ]
  },
  {
   "cell_type": "code",
   "execution_count": 5,
   "metadata": {},
   "outputs": [],
   "source": [
    "gene = gene[:,gene.var.sort_index().index]"
   ]
  },
  {
   "cell_type": "code",
   "execution_count": 6,
   "metadata": {},
   "outputs": [
    {
     "name": "stdout",
     "output_type": "stream",
     "text": [
      "(6295, 31053)\n"
     ]
    }
   ],
   "source": [
    "print(gene.shape)"
   ]
  },
  {
   "cell_type": "code",
   "execution_count": 7,
   "metadata": {},
   "outputs": [],
   "source": [
    "from statsmodels.stats.multitest import multipletests\n",
    "from sklearn.preprocessing import LabelEncoder\n",
    "from scipy.stats import ks_2samp, ttest_ind\n",
    "import numpy as np\n",
    "import logging\n",
    "\n",
    "logger = logging.getLogger()\n",
    "logger.setLevel(logging.DEBUG)\n",
    "logging.basicConfig(format='%(asctime)s - %(message)s', datefmt='%d-%b-%y %H:%M:%S')\n",
    "\n",
    "\n",
    "\n",
    "def split_by_target(mat, targets, target, axis=0):\n",
    "    \"\"\"\n",
    "    Split the rows of mat by the proper assignment\n",
    "    \n",
    "    mat = ndarray\n",
    "    targets, length is equal to number of components (axis=0) or features (axis=1)\n",
    "    target is a singular element from unique(assignments/features) \n",
    "    \"\"\"\n",
    "    if axis==0 and len(targets) != mat.shape[axis]: return -1\n",
    "    if axis==1 and len(targets) != mat.shape[axis]: return -1\n",
    "        \n",
    "    mask = targets == target\n",
    "    \n",
    "    if axis==0:\n",
    "        t_mat = mat[mask]  # target matrix\n",
    "        c_mat = mat[~mask] # complement matrix\n",
    "    elif axis==1:\n",
    "        t_mat = mat[:, mask]  # target matrix\n",
    "        c_mat = mat[:, ~mask] # complement matrix\n",
    "    \n",
    "    return (t_mat, c_mat)\n",
    "\n",
    "def correct_pval(pval, method):\n",
    "    nfeat = pval.shape[1]\n",
    "    \n",
    "    if method == 'benjamini-hochberg':\n",
    "        _, pval_corr, _, _ = multipletests(pval, alpha=0.01, method='fdr_bh')\n",
    "    elif method == 'bonferroni':\n",
    "        pval_corr = np.minimum(pval * nfeat, 1.0)\n",
    "        \n",
    "    return pval_corr\n",
    "\n",
    "def dexpress(mat, components, features, assignments, **kwargs):\n",
    "    \"\"\"\n",
    "    mat: ndarray\n",
    "    components: nparray\n",
    "    features: nparray\n",
    "    assignments: nparray, length is equal to length of components\n",
    "    \"\"\"\n",
    "    nan_cutoff = kwargs.get(\"nan_cutoff\", 0)\n",
    "    \n",
    "    unique = np.unique(assignments)\n",
    "        \n",
    "    ncomp = components.shape[0]\n",
    "    nfeat = features.shape[0]\n",
    "    nuniq = unique.shape[0]\n",
    "    \n",
    "    pval = np.empty((nuniq, nfeat)) # unique assignments by features \n",
    "    pval_corr = np.empty((nuniq, nfeat)) # unique assignments by features \n",
    "    stat = np.empty((nuniq, nfeat)) # unique assignments by features \n",
    "    \n",
    "    pval.fill(np.nan)\n",
    "    pval_corr.fill(np.nan)\n",
    "    stat.fill(np.nan)\n",
    "\n",
    "    for tidx, t in enumerate(unique):\n",
    "        logging.debug(\"{} of {} assignments: {}\".format(tidx+1, nuniq, t))\n",
    "        t_mat, c_mat = split_by_target(mat, assignments, t, axis=0)\n",
    "        \n",
    "        pvalue = np.nan\n",
    "        statistic = np.nan\n",
    "\n",
    "        # Keep only the genes for which it is in at least nan_cutoff*ncellsinclusters\n",
    "        mask = np.asarray((t_mat>0).sum(axis=0) > nan_cutoff*t_mat.shape[0]).reshape(-1)\n",
    "\n",
    "        t_mat = t_mat[:, mask]\n",
    "        c_mat = c_mat[:, mask]\n",
    "        # added\n",
    "\n",
    "        # added\n",
    "        if mask.sum()>0:\n",
    "            test = ttest_ind(t_mat, c_mat, nan_policy=\"propagate\", equal_var=False)\n",
    "            pvalue = test.pvalue\n",
    "            statistic = test.statistic\n",
    "                \n",
    "        pval[tidx,:][mask] = pvalue\n",
    "        stat[tidx,:][mask] = statistic\n",
    "    \n",
    "    return (pval, stat)"
   ]
  },
  {
   "cell_type": "code",
   "execution_count": 8,
   "metadata": {},
   "outputs": [
    {
     "name": "stderr",
     "output_type": "stream",
     "text": [
      "05-Mar-20 22:39:55 - 1 of 18 assignments: Astro\n",
      "05-Mar-20 22:39:56 - 2 of 18 assignments: Endo\n",
      "05-Mar-20 22:39:57 - 3 of 18 assignments: L2/3 IT\n",
      "05-Mar-20 22:39:58 - 4 of 18 assignments: L5 IT\n",
      "05-Mar-20 22:39:59 - 5 of 18 assignments: L5 PT\n",
      "05-Mar-20 22:40:00 - 6 of 18 assignments: L5/6 NP\n",
      "05-Mar-20 22:40:02 - 7 of 18 assignments: L6 CT\n",
      "05-Mar-20 22:40:03 - 8 of 18 assignments: L6 IT\n",
      "05-Mar-20 22:40:04 - 9 of 18 assignments: L6 IT Car3\n",
      "05-Mar-20 22:40:05 - 10 of 18 assignments: L6b\n",
      "05-Mar-20 22:40:06 - 11 of 18 assignments: Lamp5\n",
      "05-Mar-20 22:40:07 - 12 of 18 assignments: Low Quality\n",
      "05-Mar-20 22:40:08 - 13 of 18 assignments: Pvalb\n",
      "05-Mar-20 22:40:09 - 14 of 18 assignments: SMC\n",
      "05-Mar-20 22:40:10 - 15 of 18 assignments: Sncg\n",
      "05-Mar-20 22:40:11 - 16 of 18 assignments: Sst\n",
      "05-Mar-20 22:40:12 - 17 of 18 assignments: VLMC\n",
      "05-Mar-20 22:40:12 - 18 of 18 assignments: Vip\n"
     ]
    },
    {
     "name": "stdout",
     "output_type": "stream",
     "text": [
      "CPU times: user 9.69 s, sys: 9.54 s, total: 19.2 s\n",
      "Wall time: 19.2 s\n"
     ]
    }
   ],
   "source": [
    "%%time\n",
    "mat           = gene.layers[\"log1p\"].todense()\n",
    "components    = gene.obs.cell_id.values\n",
    "gene_features = gene.var.index.values\n",
    "assignments   = gene.obs.subclass_label.values\n",
    "\n",
    "unique = np.unique(assignments)\n",
    "nan_cutoff = 0.9 # of elements in cluster\n",
    "corr_method = \"bonferroni\"\n",
    "\n",
    "\n",
    "p_gene_raw, stat = dexpress(mat, components, gene_features, assignments, \n",
    "                      nan_cutoff=nan_cutoff)\n",
    "\n",
    "p_gene = correct_pval(p_gene_raw/2, corr_method)\n",
    "s_gene = stat"
   ]
  },
  {
   "cell_type": "code",
   "execution_count": 9,
   "metadata": {},
   "outputs": [],
   "source": [
    "p1 = p_gene\n",
    "s1 = stat"
   ]
  },
  {
   "cell_type": "code",
   "execution_count": 10,
   "metadata": {},
   "outputs": [],
   "source": [
    "alpha = 0.01\n",
    "tcrit = 0\n",
    "\n",
    "\n",
    "bool_mask = np.ones(p1.shape, dtype=bool)\n",
    "\n",
    "p1_mask = np.logical_and(p1<alpha, s1>tcrit)\n",
    "\n",
    "bool_mask = p1_mask"
   ]
  },
  {
   "cell_type": "code",
   "execution_count": 11,
   "metadata": {},
   "outputs": [
    {
     "data": {
      "text/plain": [
       "19625"
      ]
     },
     "execution_count": 11,
     "metadata": {},
     "output_type": "execute_result"
    }
   ],
   "source": [
    "bool_mask.sum()"
   ]
  },
  {
   "cell_type": "code",
   "execution_count": 12,
   "metadata": {},
   "outputs": [],
   "source": [
    "assignments = gene.obs.subclass_label.values\n",
    "unique = np.unique(assignments)"
   ]
  },
  {
   "cell_type": "code",
   "execution_count": 13,
   "metadata": {},
   "outputs": [
    {
     "data": {
      "text/plain": [
       "array(['Astro', 'Endo', 'L2/3 IT', 'L5 IT', 'L5 PT', 'L5/6 NP', 'L6 CT',\n",
       "       'L6 IT', 'L6 IT Car3', 'L6b', 'Lamp5', 'Low Quality', 'Pvalb',\n",
       "       'SMC', 'Sncg', 'Sst', 'VLMC', 'Vip'], dtype=object)"
      ]
     },
     "execution_count": 13,
     "metadata": {},
     "output_type": "execute_result"
    }
   ],
   "source": [
    "unique"
   ]
  },
  {
   "cell_type": "code",
   "execution_count": 14,
   "metadata": {},
   "outputs": [],
   "source": [
    "markers_gene = pd.DataFrame(index=unique, columns=[\"gene_name\", \"p_raw\", \"p_bonferroni\"])"
   ]
  },
  {
   "cell_type": "code",
   "execution_count": 15,
   "metadata": {},
   "outputs": [],
   "source": [
    "gene_features = gene.var.gene_name.values\n",
    "\n",
    "for uidx, u in enumerate(unique):\n",
    "    mask = bool_mask[uidx] # np.logical_and(bool_mask[uidx], bool_mask.sum(axis=0)==1)\n",
    "    \n",
    "    p = p_gene[uidx][mask]\n",
    "    p_raw = p_gene_raw[uidx][mask]\n",
    "    \n",
    "    psort = np.argsort(p)\n",
    "    \n",
    "    fsorted = gene_features[mask][psort]\n",
    "    psorted = p[psort]\n",
    "    p_raw_sorted = p_raw[psort]\n",
    "    \n",
    "    markers_gene.loc[u][\"gene_name\"] = fsorted\n",
    "    markers_gene.loc[u][\"p_raw\"] = p_raw_sorted\n",
    "    markers_gene.loc[u][\"p_bonferroni\"] = psorted"
   ]
  },
  {
   "cell_type": "code",
   "execution_count": 16,
   "metadata": {},
   "outputs": [
    {
     "data": {
      "text/html": [
       "<div>\n",
       "<style scoped>\n",
       "    .dataframe tbody tr th:only-of-type {\n",
       "        vertical-align: middle;\n",
       "    }\n",
       "\n",
       "    .dataframe tbody tr th {\n",
       "        vertical-align: top;\n",
       "    }\n",
       "\n",
       "    .dataframe thead th {\n",
       "        text-align: right;\n",
       "    }\n",
       "</style>\n",
       "<table border=\"1\" class=\"dataframe\">\n",
       "  <thead>\n",
       "    <tr style=\"text-align: right;\">\n",
       "      <th></th>\n",
       "      <th>gene_name</th>\n",
       "      <th>p_raw</th>\n",
       "      <th>p_bonferroni</th>\n",
       "    </tr>\n",
       "  </thead>\n",
       "  <tbody>\n",
       "    <tr>\n",
       "      <th>Astro</th>\n",
       "      <td>[]</td>\n",
       "      <td>[]</td>\n",
       "      <td>[]</td>\n",
       "    </tr>\n",
       "    <tr>\n",
       "      <th>Endo</th>\n",
       "      <td>[Vamp8_ENSMUSG00000050732, Ly6a_ENSMUSG0000007...</td>\n",
       "      <td>[1.431772555001779e-10, 3.8129285266330326e-10...</td>\n",
       "      <td>[2.2230416575235125e-06, 5.920143476876778e-06...</td>\n",
       "    </tr>\n",
       "    <tr>\n",
       "      <th>L2/3 IT</th>\n",
       "      <td>[Fkbp1a_ENSMUSG00000032966, Rasgrf2_ENSMUSG000...</td>\n",
       "      <td>[0.0, 0.0, 0.0, 0.0, 0.0, 0.0, 0.0, 0.0, 0.0, ...</td>\n",
       "      <td>[0.0, 0.0, 0.0, 0.0, 0.0, 0.0, 0.0, 0.0, 0.0, ...</td>\n",
       "    </tr>\n",
       "    <tr>\n",
       "      <th>L5 IT</th>\n",
       "      <td>[Ing2_ENSMUSG00000063049, Gpr26_ENSMUSG0000004...</td>\n",
       "      <td>[0.0, 0.0, 0.0, 0.0, 0.0, 0.0, 0.0, 0.0, 0.0, ...</td>\n",
       "      <td>[0.0, 0.0, 0.0, 0.0, 0.0, 0.0, 0.0, 0.0, 0.0, ...</td>\n",
       "    </tr>\n",
       "    <tr>\n",
       "      <th>L5 PT</th>\n",
       "      <td>[Igfbp6_ENSMUSG00000023046, Gm13306_ENSMUSG000...</td>\n",
       "      <td>[4.914496488650245e-16, 5.093821303774118e-14,...</td>\n",
       "      <td>[7.630492973102803e-12, 7.908921647304884e-10,...</td>\n",
       "    </tr>\n",
       "    <tr>\n",
       "      <th>L5/6 NP</th>\n",
       "      <td>[Gm13306_ENSMUSG00000073877, Pcp4_ENSMUSG00000...</td>\n",
       "      <td>[0.0, 0.0, 0.0, 0.0, 6.585522577428951e-303, 5...</td>\n",
       "      <td>[0.0, 0.0, 0.0, 0.0, 1.0225011629845061e-298, ...</td>\n",
       "    </tr>\n",
       "    <tr>\n",
       "      <th>L6 CT</th>\n",
       "      <td>[Abracl_ENSMUSG00000078453, Fhl2_ENSMUSG000000...</td>\n",
       "      <td>[0.0, 0.0, 0.0, 0.0, 0.0, 0.0, 0.0, 0.0, 0.0, ...</td>\n",
       "      <td>[0.0, 0.0, 0.0, 0.0, 0.0, 0.0, 0.0, 0.0, 0.0, ...</td>\n",
       "    </tr>\n",
       "    <tr>\n",
       "      <th>L6 IT</th>\n",
       "      <td>[Rasl10a_ENSMUSG00000034209, C1ql3_ENSMUSG0000...</td>\n",
       "      <td>[0.0, 0.0, 0.0, 0.0, 0.0, 0.0, 0.0, 0.0, 0.0, ...</td>\n",
       "      <td>[0.0, 0.0, 0.0, 0.0, 0.0, 0.0, 0.0, 0.0, 0.0, ...</td>\n",
       "    </tr>\n",
       "    <tr>\n",
       "      <th>L6 IT Car3</th>\n",
       "      <td>[Pih1d1_ENSMUSG00000003423, Arhgdig_ENSMUSG000...</td>\n",
       "      <td>[5.428784472694912e-23, 2.5559214167909997e-09...</td>\n",
       "      <td>[8.429002211529756e-19, 3.9684513877805456e-05...</td>\n",
       "    </tr>\n",
       "    <tr>\n",
       "      <th>L6b</th>\n",
       "      <td>[Atp6ap2_ENSMUSG00000031007, Olfm3_ENSMUSG0000...</td>\n",
       "      <td>[0.0, 0.0, 0.0, 0.0, 0.0, 0.0, 0.0, 0.0, 0.0, ...</td>\n",
       "      <td>[0.0, 0.0, 0.0, 0.0, 0.0, 0.0, 0.0, 0.0, 0.0, ...</td>\n",
       "    </tr>\n",
       "    <tr>\n",
       "      <th>Lamp5</th>\n",
       "      <td>[Gad1_ENSMUSG00000070880, Dner_ENSMUSG00000036...</td>\n",
       "      <td>[0.0, 0.0, 0.0, 0.0, 0.0, 0.0, 2.2670892105561...</td>\n",
       "      <td>[0.0, 0.0, 0.0, 0.0, 0.0, 0.0, 3.5199960627699...</td>\n",
       "    </tr>\n",
       "    <tr>\n",
       "      <th>Low Quality</th>\n",
       "      <td>[Nrgn_ENSMUSG00000053310, Cck_ENSMUSG000000325...</td>\n",
       "      <td>[5.999422927721699e-36, 2.128585695781135e-17,...</td>\n",
       "      <td>[9.315004008727096e-32, 3.304948580554579e-13,...</td>\n",
       "    </tr>\n",
       "    <tr>\n",
       "      <th>Pvalb</th>\n",
       "      <td>[Mdh1_ENSMUSG00000020321, Sncb_ENSMUSG00000034...</td>\n",
       "      <td>[0.0, 0.0, 0.0, 0.0, 0.0, 0.0, 0.0, 0.0, 0.0, ...</td>\n",
       "      <td>[0.0, 0.0, 0.0, 0.0, 0.0, 0.0, 0.0, 0.0, 0.0, ...</td>\n",
       "    </tr>\n",
       "    <tr>\n",
       "      <th>SMC</th>\n",
       "      <td>[Igfbp7_ENSMUSG00000036256, Gng11_ENSMUSG00000...</td>\n",
       "      <td>[1.0596484701548609e-38, 1.2880425717679887e-2...</td>\n",
       "      <td>[1.6452631971859447e-34, 1.9998792990555675e-2...</td>\n",
       "    </tr>\n",
       "    <tr>\n",
       "      <th>Sncg</th>\n",
       "      <td>[Kcnip1_ENSMUSG00000053519, Cnr1_ENSMUSG000000...</td>\n",
       "      <td>[2.8807493996886876e-194, 1.988391449827096e-1...</td>\n",
       "      <td>[4.472795555426641e-190, 3.0872759845740407e-1...</td>\n",
       "    </tr>\n",
       "    <tr>\n",
       "      <th>Sst</th>\n",
       "      <td>[Rab3b_ENSMUSG00000003411, Gad1_ENSMUSG0000007...</td>\n",
       "      <td>[0.0, 0.0, 0.0, 0.0, 0.0, 0.0, 0.0, 0.0, 0.0, ...</td>\n",
       "      <td>[0.0, 0.0, 0.0, 0.0, 0.0, 0.0, 0.0, 0.0, 0.0, ...</td>\n",
       "    </tr>\n",
       "    <tr>\n",
       "      <th>VLMC</th>\n",
       "      <td>[Ier2_ENSMUSG00000053560, Lgals1_ENSMUSG000000...</td>\n",
       "      <td>[2.2013480255662637e-09, 9.614044630508242e-08...</td>\n",
       "      <td>[3.417923011895459e-05, 0.0014927246395558622,...</td>\n",
       "    </tr>\n",
       "    <tr>\n",
       "      <th>Vip</th>\n",
       "      <td>[Tcf4_ENSMUSG00000053477, Rgs10_ENSMUSG0000003...</td>\n",
       "      <td>[0.0, 0.0, 0.0, 0.0, 0.0, 0.0, 0.0, 0.0, 0.0, ...</td>\n",
       "      <td>[0.0, 0.0, 0.0, 0.0, 0.0, 0.0, 0.0, 0.0, 0.0, ...</td>\n",
       "    </tr>\n",
       "  </tbody>\n",
       "</table>\n",
       "</div>"
      ],
      "text/plain": [
       "                                                     gene_name  \\\n",
       "Astro                                                       []   \n",
       "Endo         [Vamp8_ENSMUSG00000050732, Ly6a_ENSMUSG0000007...   \n",
       "L2/3 IT      [Fkbp1a_ENSMUSG00000032966, Rasgrf2_ENSMUSG000...   \n",
       "L5 IT        [Ing2_ENSMUSG00000063049, Gpr26_ENSMUSG0000004...   \n",
       "L5 PT        [Igfbp6_ENSMUSG00000023046, Gm13306_ENSMUSG000...   \n",
       "L5/6 NP      [Gm13306_ENSMUSG00000073877, Pcp4_ENSMUSG00000...   \n",
       "L6 CT        [Abracl_ENSMUSG00000078453, Fhl2_ENSMUSG000000...   \n",
       "L6 IT        [Rasl10a_ENSMUSG00000034209, C1ql3_ENSMUSG0000...   \n",
       "L6 IT Car3   [Pih1d1_ENSMUSG00000003423, Arhgdig_ENSMUSG000...   \n",
       "L6b          [Atp6ap2_ENSMUSG00000031007, Olfm3_ENSMUSG0000...   \n",
       "Lamp5        [Gad1_ENSMUSG00000070880, Dner_ENSMUSG00000036...   \n",
       "Low Quality  [Nrgn_ENSMUSG00000053310, Cck_ENSMUSG000000325...   \n",
       "Pvalb        [Mdh1_ENSMUSG00000020321, Sncb_ENSMUSG00000034...   \n",
       "SMC          [Igfbp7_ENSMUSG00000036256, Gng11_ENSMUSG00000...   \n",
       "Sncg         [Kcnip1_ENSMUSG00000053519, Cnr1_ENSMUSG000000...   \n",
       "Sst          [Rab3b_ENSMUSG00000003411, Gad1_ENSMUSG0000007...   \n",
       "VLMC         [Ier2_ENSMUSG00000053560, Lgals1_ENSMUSG000000...   \n",
       "Vip          [Tcf4_ENSMUSG00000053477, Rgs10_ENSMUSG0000003...   \n",
       "\n",
       "                                                         p_raw  \\\n",
       "Astro                                                       []   \n",
       "Endo         [1.431772555001779e-10, 3.8129285266330326e-10...   \n",
       "L2/3 IT      [0.0, 0.0, 0.0, 0.0, 0.0, 0.0, 0.0, 0.0, 0.0, ...   \n",
       "L5 IT        [0.0, 0.0, 0.0, 0.0, 0.0, 0.0, 0.0, 0.0, 0.0, ...   \n",
       "L5 PT        [4.914496488650245e-16, 5.093821303774118e-14,...   \n",
       "L5/6 NP      [0.0, 0.0, 0.0, 0.0, 6.585522577428951e-303, 5...   \n",
       "L6 CT        [0.0, 0.0, 0.0, 0.0, 0.0, 0.0, 0.0, 0.0, 0.0, ...   \n",
       "L6 IT        [0.0, 0.0, 0.0, 0.0, 0.0, 0.0, 0.0, 0.0, 0.0, ...   \n",
       "L6 IT Car3   [5.428784472694912e-23, 2.5559214167909997e-09...   \n",
       "L6b          [0.0, 0.0, 0.0, 0.0, 0.0, 0.0, 0.0, 0.0, 0.0, ...   \n",
       "Lamp5        [0.0, 0.0, 0.0, 0.0, 0.0, 0.0, 2.2670892105561...   \n",
       "Low Quality  [5.999422927721699e-36, 2.128585695781135e-17,...   \n",
       "Pvalb        [0.0, 0.0, 0.0, 0.0, 0.0, 0.0, 0.0, 0.0, 0.0, ...   \n",
       "SMC          [1.0596484701548609e-38, 1.2880425717679887e-2...   \n",
       "Sncg         [2.8807493996886876e-194, 1.988391449827096e-1...   \n",
       "Sst          [0.0, 0.0, 0.0, 0.0, 0.0, 0.0, 0.0, 0.0, 0.0, ...   \n",
       "VLMC         [2.2013480255662637e-09, 9.614044630508242e-08...   \n",
       "Vip          [0.0, 0.0, 0.0, 0.0, 0.0, 0.0, 0.0, 0.0, 0.0, ...   \n",
       "\n",
       "                                                  p_bonferroni  \n",
       "Astro                                                       []  \n",
       "Endo         [2.2230416575235125e-06, 5.920143476876778e-06...  \n",
       "L2/3 IT      [0.0, 0.0, 0.0, 0.0, 0.0, 0.0, 0.0, 0.0, 0.0, ...  \n",
       "L5 IT        [0.0, 0.0, 0.0, 0.0, 0.0, 0.0, 0.0, 0.0, 0.0, ...  \n",
       "L5 PT        [7.630492973102803e-12, 7.908921647304884e-10,...  \n",
       "L5/6 NP      [0.0, 0.0, 0.0, 0.0, 1.0225011629845061e-298, ...  \n",
       "L6 CT        [0.0, 0.0, 0.0, 0.0, 0.0, 0.0, 0.0, 0.0, 0.0, ...  \n",
       "L6 IT        [0.0, 0.0, 0.0, 0.0, 0.0, 0.0, 0.0, 0.0, 0.0, ...  \n",
       "L6 IT Car3   [8.429002211529756e-19, 3.9684513877805456e-05...  \n",
       "L6b          [0.0, 0.0, 0.0, 0.0, 0.0, 0.0, 0.0, 0.0, 0.0, ...  \n",
       "Lamp5        [0.0, 0.0, 0.0, 0.0, 0.0, 0.0, 3.5199960627699...  \n",
       "Low Quality  [9.315004008727096e-32, 3.304948580554579e-13,...  \n",
       "Pvalb        [0.0, 0.0, 0.0, 0.0, 0.0, 0.0, 0.0, 0.0, 0.0, ...  \n",
       "SMC          [1.6452631971859447e-34, 1.9998792990555675e-2...  \n",
       "Sncg         [4.472795555426641e-190, 3.0872759845740407e-1...  \n",
       "Sst          [0.0, 0.0, 0.0, 0.0, 0.0, 0.0, 0.0, 0.0, 0.0, ...  \n",
       "VLMC         [3.417923011895459e-05, 0.0014927246395558622,...  \n",
       "Vip          [0.0, 0.0, 0.0, 0.0, 0.0, 0.0, 0.0, 0.0, 0.0, ...  "
      ]
     },
     "execution_count": 16,
     "metadata": {},
     "output_type": "execute_result"
    }
   ],
   "source": [
    "markers_gene"
   ]
  },
  {
   "cell_type": "code",
   "execution_count": 17,
   "metadata": {},
   "outputs": [
    {
     "data": {
      "text/plain": [
       "L5 IT          1571\n",
       "L6 CT           904\n",
       "Vip             659\n",
       "L6b             571\n",
       "Pvalb           543\n",
       "L2/3 IT         483\n",
       "Sst             427\n",
       "L6 IT           395\n",
       "Lamp5           377\n",
       "L5/6 NP         208\n",
       "Sncg             84\n",
       "SMC              21\n",
       "L5 PT            12\n",
       "Low Quality      12\n",
       "Astro            10\n",
       "Endo              7\n",
       "VLMC              6\n",
       "L6 IT Car3        5\n",
       "Name: subclass_label, dtype: int64"
      ]
     },
     "execution_count": 17,
     "metadata": {},
     "output_type": "execute_result"
    }
   ],
   "source": [
    "gene.obs.subclass_label.value_counts()"
   ]
  },
  {
   "cell_type": "code",
   "execution_count": 21,
   "metadata": {},
   "outputs": [],
   "source": [
    "specific_cluster = \"L5 PT\"\n",
    "specific_gene = \"Igfbp6_ENSMUSG00000023046\""
   ]
  },
  {
   "cell_type": "code",
   "execution_count": 22,
   "metadata": {},
   "outputs": [
    {
     "data": {
      "text/plain": [
       "'Igfbp6_ENSMUSG00000023046'"
      ]
     },
     "execution_count": 22,
     "metadata": {},
     "output_type": "execute_result"
    }
   ],
   "source": [
    "specific_gene"
   ]
  },
  {
   "cell_type": "code",
   "execution_count": null,
   "metadata": {},
   "outputs": [],
   "source": []
  },
  {
   "cell_type": "code",
   "execution_count": 23,
   "metadata": {},
   "outputs": [
    {
     "name": "stderr",
     "output_type": "stream",
     "text": [
      "05-Mar-20 22:41:04 - update_title_pos\n",
      "05-Mar-20 22:41:04 - findfont: Matching :family=sans-serif:style=normal:variant=normal:weight=normal:stretch=normal:size=24.0 to DejaVu Sans ('/home/sina/bin/miniconda3/lib/python3.7/site-packages/matplotlib/mpl-data/fonts/ttf/DejaVuSans.ttf') with score of 0.050000.\n",
      "05-Mar-20 22:41:04 - findfont: Matching :family=STIXGeneral:style=normal:variant=normal:weight=normal:stretch=normal:size=20.0 to STIXGeneral ('/home/sina/bin/miniconda3/lib/python3.7/site-packages/matplotlib/mpl-data/fonts/ttf/STIXGeneral.ttf') with score of 0.050000.\n",
      "05-Mar-20 22:41:04 - findfont: Matching :family=STIXGeneral:style=italic:variant=normal:weight=normal:stretch=normal:size=20.0 to STIXGeneral ('/home/sina/bin/miniconda3/lib/python3.7/site-packages/matplotlib/mpl-data/fonts/ttf/STIXGeneralItalic.ttf') with score of 0.050000.\n",
      "05-Mar-20 22:41:04 - findfont: Matching :family=STIXGeneral:style=normal:variant=normal:weight=bold:stretch=normal:size=20.0 to STIXGeneral ('/home/sina/bin/miniconda3/lib/python3.7/site-packages/matplotlib/mpl-data/fonts/ttf/STIXGeneralBol.ttf') with score of 0.000000.\n",
      "05-Mar-20 22:41:04 - findfont: Matching :family=STIXNonUnicode:style=normal:variant=normal:weight=normal:stretch=normal:size=20.0 to STIXNonUnicode ('/home/sina/bin/miniconda3/lib/python3.7/site-packages/matplotlib/mpl-data/fonts/ttf/STIXNonUni.ttf') with score of 0.050000.\n",
      "05-Mar-20 22:41:04 - findfont: Matching :family=STIXNonUnicode:style=italic:variant=normal:weight=normal:stretch=normal:size=20.0 to STIXNonUnicode ('/home/sina/bin/miniconda3/lib/python3.7/site-packages/matplotlib/mpl-data/fonts/ttf/STIXNonUniIta.ttf') with score of 0.050000.\n",
      "05-Mar-20 22:41:04 - findfont: Matching :family=STIXNonUnicode:style=normal:variant=normal:weight=bold:stretch=normal:size=20.0 to STIXNonUnicode ('/home/sina/bin/miniconda3/lib/python3.7/site-packages/matplotlib/mpl-data/fonts/ttf/STIXNonUniBol.ttf') with score of 0.000000.\n",
      "05-Mar-20 22:41:04 - findfont: Matching :family=STIXSizeOneSym:style=normal:variant=normal:weight=normal:stretch=normal:size=20.0 to STIXSizeOneSym ('/home/sina/bin/miniconda3/lib/python3.7/site-packages/matplotlib/mpl-data/fonts/ttf/STIXSizOneSymReg.ttf') with score of 0.050000.\n",
      "05-Mar-20 22:41:04 - findfont: Matching :family=STIXSizeTwoSym:style=normal:variant=normal:weight=normal:stretch=normal:size=20.0 to STIXSizeTwoSym ('/home/sina/bin/miniconda3/lib/python3.7/site-packages/matplotlib/mpl-data/fonts/ttf/STIXSizTwoSymReg.ttf') with score of 0.050000.\n",
      "05-Mar-20 22:41:04 - findfont: Matching :family=STIXSizeThreeSym:style=normal:variant=normal:weight=normal:stretch=normal:size=20.0 to STIXSizeThreeSym ('/home/sina/bin/miniconda3/lib/python3.7/site-packages/matplotlib/mpl-data/fonts/ttf/STIXSizThreeSymReg.ttf') with score of 0.050000.\n",
      "05-Mar-20 22:41:04 - findfont: Matching :family=STIXSizeFourSym:style=normal:variant=normal:weight=normal:stretch=normal:size=20.0 to STIXSizeFourSym ('/home/sina/bin/miniconda3/lib/python3.7/site-packages/matplotlib/mpl-data/fonts/ttf/STIXSizFourSymReg.ttf') with score of 0.050000.\n",
      "05-Mar-20 22:41:04 - findfont: Matching :family=STIXSizeFiveSym:style=normal:variant=normal:weight=normal:stretch=normal:size=20.0 to STIXSizeFiveSym ('/home/sina/bin/miniconda3/lib/python3.7/site-packages/matplotlib/mpl-data/fonts/ttf/STIXSizFiveSymReg.ttf') with score of 0.050000.\n",
      "05-Mar-20 22:41:04 - findfont: Matching :family=cmsy10:style=normal:variant=normal:weight=normal:stretch=normal:size=20.0 to cmsy10 ('/home/sina/bin/miniconda3/lib/python3.7/site-packages/matplotlib/mpl-data/fonts/ttf/cmsy10.ttf') with score of 0.050000.\n",
      "05-Mar-20 22:41:04 - findfont: Matching :family=cmr10:style=normal:variant=normal:weight=normal:stretch=normal:size=20.0 to cmr10 ('/home/sina/bin/miniconda3/lib/python3.7/site-packages/matplotlib/mpl-data/fonts/ttf/cmr10.ttf') with score of 0.050000.\n",
      "05-Mar-20 22:41:04 - findfont: Matching :family=cmtt10:style=normal:variant=normal:weight=normal:stretch=normal:size=20.0 to cmtt10 ('/home/sina/bin/miniconda3/lib/python3.7/site-packages/matplotlib/mpl-data/fonts/ttf/cmtt10.ttf') with score of 0.050000.\n",
      "05-Mar-20 22:41:04 - findfont: Matching :family=cmmi10:style=normal:variant=normal:weight=normal:stretch=normal:size=20.0 to cmmi10 ('/home/sina/bin/miniconda3/lib/python3.7/site-packages/matplotlib/mpl-data/fonts/ttf/cmmi10.ttf') with score of 0.050000.\n",
      "05-Mar-20 22:41:04 - findfont: Matching :family=cmb10:style=normal:variant=normal:weight=normal:stretch=normal:size=20.0 to cmb10 ('/home/sina/bin/miniconda3/lib/python3.7/site-packages/matplotlib/mpl-data/fonts/ttf/cmb10.ttf') with score of 0.050000.\n",
      "05-Mar-20 22:41:04 - findfont: Matching :family=cmss10:style=normal:variant=normal:weight=normal:stretch=normal:size=20.0 to cmss10 ('/home/sina/bin/miniconda3/lib/python3.7/site-packages/matplotlib/mpl-data/fonts/ttf/cmss10.ttf') with score of 0.050000.\n",
      "05-Mar-20 22:41:04 - findfont: Matching :family=cmex10:style=normal:variant=normal:weight=normal:stretch=normal:size=20.0 to cmex10 ('/home/sina/bin/miniconda3/lib/python3.7/site-packages/matplotlib/mpl-data/fonts/ttf/cmex10.ttf') with score of 0.050000.\n",
      "05-Mar-20 22:41:04 - findfont: Matching :family=DejaVu Sans:style=normal:variant=normal:weight=normal:stretch=normal:size=20.0 to DejaVu Sans ('/home/sina/bin/miniconda3/lib/python3.7/site-packages/matplotlib/mpl-data/fonts/ttf/DejaVuSans.ttf') with score of 0.050000.\n",
      "05-Mar-20 22:41:04 - findfont: Matching :family=DejaVu Sans:style=italic:variant=normal:weight=normal:stretch=normal:size=20.0 to DejaVu Sans ('/home/sina/bin/miniconda3/lib/python3.7/site-packages/matplotlib/mpl-data/fonts/ttf/DejaVuSans-Oblique.ttf') with score of 0.150000.\n",
      "05-Mar-20 22:41:04 - findfont: Matching :family=DejaVu Sans:style=normal:variant=normal:weight=bold:stretch=normal:size=20.0 to DejaVu Sans ('/home/sina/bin/miniconda3/lib/python3.7/site-packages/matplotlib/mpl-data/fonts/ttf/DejaVuSans-Bold.ttf') with score of 0.000000.\n",
      "05-Mar-20 22:41:04 - findfont: Matching :family=DejaVu Sans Mono:style=normal:variant=normal:weight=normal:stretch=normal:size=20.0 to DejaVu Sans Mono ('/home/sina/bin/miniconda3/lib/python3.7/site-packages/matplotlib/mpl-data/fonts/ttf/DejaVuSansMono.ttf') with score of 0.050000.\n",
      "05-Mar-20 22:41:04 - findfont: Matching :family=DejaVu Sans Display:style=normal:variant=normal:weight=normal:stretch=normal:size=20.0 to DejaVu Sans Display ('/home/sina/bin/miniconda3/lib/python3.7/site-packages/matplotlib/mpl-data/fonts/ttf/DejaVuSansDisplay.ttf') with score of 0.050000.\n",
      "05-Mar-20 22:41:04 - update_title_pos\n",
      "05-Mar-20 22:41:05 - update_title_pos\n",
      "05-Mar-20 22:41:05 - update_title_pos\n"
     ]
    },
    {
     "data": {
      "image/png": "[encoded data removed]",
      "text/plain": [
       "<Figure size 1080x360 with 1 Axes>"
      ]
     },
     "metadata": {
      "image/png": {
       "height": 416,
       "width": 896
      },
      "needs_background": "light"
     },
     "output_type": "display_data"
    }
   ],
   "source": [
    "fig, ax = plt.subplots(figsize=(15,5))\n",
    "fig.subplots_adjust(hspace=0, wspace=0)\n",
    "\n",
    "unique = np.unique(gene.obs.subclass_label.values)\n",
    "\n",
    "\n",
    "labels = unique\n",
    "lidx = np.arange(1, len(labels)+1)  # the label locations\n",
    "midx = np.where(unique==specific_cluster)[0][0]\n",
    "#######3# Gene\n",
    "x = []\n",
    "for c in unique:\n",
    "    x.append(np.asarray(gene[gene.obs.subclass_label==c][:,gene.var.gene_name.values==specific_gene].layers[\"log1p\"].todense()).reshape(-1).tolist())\n",
    "\n",
    "parts = ax.violinplot(x, showmedians=False, showextrema=False)\n",
    "for pcidx, pc in enumerate(parts['bodies']):\n",
    "    pc.set_facecolor('grey')\n",
    "    pc.set_edgecolor('black')\n",
    "    pc.set_alpha(1)\n",
    "    if pcidx == midx:\n",
    "        pc.set_facecolor(\"#D43F3A\")\n",
    "\n",
    "medians = [np.median(i) for i in x]\n",
    "ax.scatter(lidx, medians, marker='o', color='white', s=30, zorder=3)\n",
    "\n",
    "#ax[0].axhline(y=medians[midx], color=\"k\", linestyle=\"--\")\n",
    "ax.set_ylabel(\"Gene\")\n",
    "\n",
    "\n",
    "medians = [np.median(i) for i in x]\n",
    "ax.set_xticks(lidx)\n",
    "ax.set_xticklabels(labels, rotation=45, ha=\"right\")\n",
    "ax.set_title(\"{} gene expression $log(TPM + 1)$\".format(specific_gene))\n",
    "#plt.savefig(\"./figures/class_DE_violin_{}.png\".format(specific_gene.split(\"_\")[0]), bbox_inches='tight',dpi=300)\n",
    "plt.show()"
   ]
  },
  {
   "cell_type": "code",
   "execution_count": 24,
   "metadata": {},
   "outputs": [],
   "source": [
    "identified_genes = markers_gene[\"gene_name\"].explode().astype(str)\n",
    "identified_genes = identified_genes[identified_genes!=\"nan\"]"
   ]
  },
  {
   "cell_type": "code",
   "execution_count": 25,
   "metadata": {},
   "outputs": [
    {
     "name": "stdout",
     "output_type": "stream",
     "text": [
      "6973 genes identified.\n"
     ]
    }
   ],
   "source": [
    "print(\"{} genes identified.\".format(identified_genes.nunique()))"
   ]
  },
  {
   "cell_type": "code",
   "execution_count": 26,
   "metadata": {},
   "outputs": [
    {
     "data": {
      "text/plain": [
       "Astro                            NaN\n",
       "Endo        Vamp8_ENSMUSG00000050732\n",
       "Endo         Ly6a_ENSMUSG00000075602\n",
       "Endo        Ly6c1_ENSMUSG00000079018\n",
       "Endo         Emcn_ENSMUSG00000054690\n",
       "                    ...             \n",
       "Vip         Hmgn3_ENSMUSG00000066456\n",
       "Vip      Vmn1r218_ENSMUSG00000115020\n",
       "Vip        Arxes1_ENSMUSG00000048355\n",
       "Vip        Grcc10_ENSMUSG00000072772\n",
       "Vip        Tmbim6_ENSMUSG00000023010\n",
       "Name: gene_name, Length: 19626, dtype: object"
      ]
     },
     "execution_count": 26,
     "metadata": {},
     "output_type": "execute_result"
    }
   ],
   "source": [
    "markers_gene[\"gene_name\"].explode()"
   ]
  },
  {
   "cell_type": "code",
   "execution_count": 27,
   "metadata": {},
   "outputs": [
    {
     "data": {
      "text/plain": [
       "Astro            NaN\n",
       "Endo     1.43177e-10\n",
       "Endo     3.81293e-10\n",
       "Endo     1.02181e-09\n",
       "Endo     1.80391e-09\n",
       "            ...     \n",
       "Vip      4.41509e-07\n",
       "Vip      5.02643e-07\n",
       "Vip      5.19716e-07\n",
       "Vip      5.73128e-07\n",
       "Vip      6.38258e-07\n",
       "Name: p_raw, Length: 19626, dtype: object"
      ]
     },
     "execution_count": 27,
     "metadata": {},
     "output_type": "execute_result"
    }
   ],
   "source": [
    "markers_gene[\"p_raw\"].explode()"
   ]
  },
  {
   "cell_type": "code",
   "execution_count": 28,
   "metadata": {},
   "outputs": [],
   "source": [
    "markers_gene = markers_gene.apply(pd.Series.explode).reset_index()"
   ]
  },
  {
   "cell_type": "code",
   "execution_count": 29,
   "metadata": {},
   "outputs": [
    {
     "data": {
      "text/html": [
       "<div>\n",
       "<style scoped>\n",
       "    .dataframe tbody tr th:only-of-type {\n",
       "        vertical-align: middle;\n",
       "    }\n",
       "\n",
       "    .dataframe tbody tr th {\n",
       "        vertical-align: top;\n",
       "    }\n",
       "\n",
       "    .dataframe thead th {\n",
       "        text-align: right;\n",
       "    }\n",
       "</style>\n",
       "<table border=\"1\" class=\"dataframe\">\n",
       "  <thead>\n",
       "    <tr style=\"text-align: right;\">\n",
       "      <th></th>\n",
       "      <th>index</th>\n",
       "      <th>gene_name</th>\n",
       "      <th>p_raw</th>\n",
       "      <th>p_bonferroni</th>\n",
       "    </tr>\n",
       "  </thead>\n",
       "  <tbody>\n",
       "    <tr>\n",
       "      <th>0</th>\n",
       "      <td>Astro</td>\n",
       "      <td>NaN</td>\n",
       "      <td>NaN</td>\n",
       "      <td>NaN</td>\n",
       "    </tr>\n",
       "    <tr>\n",
       "      <th>1</th>\n",
       "      <td>Endo</td>\n",
       "      <td>Vamp8_ENSMUSG00000050732</td>\n",
       "      <td>1.43177e-10</td>\n",
       "      <td>2.22304e-06</td>\n",
       "    </tr>\n",
       "    <tr>\n",
       "      <th>2</th>\n",
       "      <td>Endo</td>\n",
       "      <td>Ly6a_ENSMUSG00000075602</td>\n",
       "      <td>3.81293e-10</td>\n",
       "      <td>5.92014e-06</td>\n",
       "    </tr>\n",
       "    <tr>\n",
       "      <th>3</th>\n",
       "      <td>Endo</td>\n",
       "      <td>Ly6c1_ENSMUSG00000079018</td>\n",
       "      <td>1.02181e-09</td>\n",
       "      <td>1.58651e-05</td>\n",
       "    </tr>\n",
       "    <tr>\n",
       "      <th>4</th>\n",
       "      <td>Endo</td>\n",
       "      <td>Emcn_ENSMUSG00000054690</td>\n",
       "      <td>1.80391e-09</td>\n",
       "      <td>2.80084e-05</td>\n",
       "    </tr>\n",
       "    <tr>\n",
       "      <th>...</th>\n",
       "      <td>...</td>\n",
       "      <td>...</td>\n",
       "      <td>...</td>\n",
       "      <td>...</td>\n",
       "    </tr>\n",
       "    <tr>\n",
       "      <th>19621</th>\n",
       "      <td>Vip</td>\n",
       "      <td>Hmgn3_ENSMUSG00000066456</td>\n",
       "      <td>4.41509e-07</td>\n",
       "      <td>0.00685508</td>\n",
       "    </tr>\n",
       "    <tr>\n",
       "      <th>19622</th>\n",
       "      <td>Vip</td>\n",
       "      <td>Vmn1r218_ENSMUSG00000115020</td>\n",
       "      <td>5.02643e-07</td>\n",
       "      <td>0.00780429</td>\n",
       "    </tr>\n",
       "    <tr>\n",
       "      <th>19623</th>\n",
       "      <td>Vip</td>\n",
       "      <td>Arxes1_ENSMUSG00000048355</td>\n",
       "      <td>5.19716e-07</td>\n",
       "      <td>0.00806937</td>\n",
       "    </tr>\n",
       "    <tr>\n",
       "      <th>19624</th>\n",
       "      <td>Vip</td>\n",
       "      <td>Grcc10_ENSMUSG00000072772</td>\n",
       "      <td>5.73128e-07</td>\n",
       "      <td>0.00889867</td>\n",
       "    </tr>\n",
       "    <tr>\n",
       "      <th>19625</th>\n",
       "      <td>Vip</td>\n",
       "      <td>Tmbim6_ENSMUSG00000023010</td>\n",
       "      <td>6.38258e-07</td>\n",
       "      <td>0.00990991</td>\n",
       "    </tr>\n",
       "  </tbody>\n",
       "</table>\n",
       "<p>19626 rows × 4 columns</p>\n",
       "</div>"
      ],
      "text/plain": [
       "       index                    gene_name        p_raw p_bonferroni\n",
       "0      Astro                          NaN          NaN          NaN\n",
       "1       Endo     Vamp8_ENSMUSG00000050732  1.43177e-10  2.22304e-06\n",
       "2       Endo      Ly6a_ENSMUSG00000075602  3.81293e-10  5.92014e-06\n",
       "3       Endo     Ly6c1_ENSMUSG00000079018  1.02181e-09  1.58651e-05\n",
       "4       Endo      Emcn_ENSMUSG00000054690  1.80391e-09  2.80084e-05\n",
       "...      ...                          ...          ...          ...\n",
       "19621    Vip     Hmgn3_ENSMUSG00000066456  4.41509e-07   0.00685508\n",
       "19622    Vip  Vmn1r218_ENSMUSG00000115020  5.02643e-07   0.00780429\n",
       "19623    Vip    Arxes1_ENSMUSG00000048355  5.19716e-07   0.00806937\n",
       "19624    Vip    Grcc10_ENSMUSG00000072772  5.73128e-07   0.00889867\n",
       "19625    Vip    Tmbim6_ENSMUSG00000023010  6.38258e-07   0.00990991\n",
       "\n",
       "[19626 rows x 4 columns]"
      ]
     },
     "execution_count": 29,
     "metadata": {},
     "output_type": "execute_result"
    }
   ],
   "source": [
    "markers_gene"
   ]
  },
  {
   "cell_type": "code",
   "execution_count": 30,
   "metadata": {},
   "outputs": [],
   "source": [
    "markers_gene.to_csv(\"tables/union_test_subclass_DE.csv\")"
   ]
  },
  {
   "cell_type": "code",
   "execution_count": 31,
   "metadata": {},
   "outputs": [
    {
     "data": {
      "text/html": [
       "<div>\n",
       "<style scoped>\n",
       "    .dataframe tbody tr th:only-of-type {\n",
       "        vertical-align: middle;\n",
       "    }\n",
       "\n",
       "    .dataframe tbody tr th {\n",
       "        vertical-align: top;\n",
       "    }\n",
       "\n",
       "    .dataframe thead th {\n",
       "        text-align: right;\n",
       "    }\n",
       "</style>\n",
       "<table border=\"1\" class=\"dataframe\">\n",
       "  <thead>\n",
       "    <tr style=\"text-align: right;\">\n",
       "      <th></th>\n",
       "      <th>index</th>\n",
       "      <th>gene_name</th>\n",
       "      <th>p_raw</th>\n",
       "      <th>p_bonferroni</th>\n",
       "    </tr>\n",
       "  </thead>\n",
       "  <tbody>\n",
       "    <tr>\n",
       "      <th>0</th>\n",
       "      <td>Astro</td>\n",
       "      <td>NaN</td>\n",
       "      <td>NaN</td>\n",
       "      <td>NaN</td>\n",
       "    </tr>\n",
       "    <tr>\n",
       "      <th>1</th>\n",
       "      <td>Endo</td>\n",
       "      <td>Vamp8_ENSMUSG00000050732</td>\n",
       "      <td>1.43177e-10</td>\n",
       "      <td>2.22304e-06</td>\n",
       "    </tr>\n",
       "    <tr>\n",
       "      <th>2</th>\n",
       "      <td>Endo</td>\n",
       "      <td>Ly6a_ENSMUSG00000075602</td>\n",
       "      <td>3.81293e-10</td>\n",
       "      <td>5.92014e-06</td>\n",
       "    </tr>\n",
       "    <tr>\n",
       "      <th>3</th>\n",
       "      <td>Endo</td>\n",
       "      <td>Ly6c1_ENSMUSG00000079018</td>\n",
       "      <td>1.02181e-09</td>\n",
       "      <td>1.58651e-05</td>\n",
       "    </tr>\n",
       "    <tr>\n",
       "      <th>4</th>\n",
       "      <td>Endo</td>\n",
       "      <td>Emcn_ENSMUSG00000054690</td>\n",
       "      <td>1.80391e-09</td>\n",
       "      <td>2.80084e-05</td>\n",
       "    </tr>\n",
       "    <tr>\n",
       "      <th>...</th>\n",
       "      <td>...</td>\n",
       "      <td>...</td>\n",
       "      <td>...</td>\n",
       "      <td>...</td>\n",
       "    </tr>\n",
       "    <tr>\n",
       "      <th>19621</th>\n",
       "      <td>Vip</td>\n",
       "      <td>Hmgn3_ENSMUSG00000066456</td>\n",
       "      <td>4.41509e-07</td>\n",
       "      <td>0.00685508</td>\n",
       "    </tr>\n",
       "    <tr>\n",
       "      <th>19622</th>\n",
       "      <td>Vip</td>\n",
       "      <td>Vmn1r218_ENSMUSG00000115020</td>\n",
       "      <td>5.02643e-07</td>\n",
       "      <td>0.00780429</td>\n",
       "    </tr>\n",
       "    <tr>\n",
       "      <th>19623</th>\n",
       "      <td>Vip</td>\n",
       "      <td>Arxes1_ENSMUSG00000048355</td>\n",
       "      <td>5.19716e-07</td>\n",
       "      <td>0.00806937</td>\n",
       "    </tr>\n",
       "    <tr>\n",
       "      <th>19624</th>\n",
       "      <td>Vip</td>\n",
       "      <td>Grcc10_ENSMUSG00000072772</td>\n",
       "      <td>5.73128e-07</td>\n",
       "      <td>0.00889867</td>\n",
       "    </tr>\n",
       "    <tr>\n",
       "      <th>19625</th>\n",
       "      <td>Vip</td>\n",
       "      <td>Tmbim6_ENSMUSG00000023010</td>\n",
       "      <td>6.38258e-07</td>\n",
       "      <td>0.00990991</td>\n",
       "    </tr>\n",
       "  </tbody>\n",
       "</table>\n",
       "<p>19626 rows × 4 columns</p>\n",
       "</div>"
      ],
      "text/plain": [
       "       index                    gene_name        p_raw p_bonferroni\n",
       "0      Astro                          NaN          NaN          NaN\n",
       "1       Endo     Vamp8_ENSMUSG00000050732  1.43177e-10  2.22304e-06\n",
       "2       Endo      Ly6a_ENSMUSG00000075602  3.81293e-10  5.92014e-06\n",
       "3       Endo     Ly6c1_ENSMUSG00000079018  1.02181e-09  1.58651e-05\n",
       "4       Endo      Emcn_ENSMUSG00000054690  1.80391e-09  2.80084e-05\n",
       "...      ...                          ...          ...          ...\n",
       "19621    Vip     Hmgn3_ENSMUSG00000066456  4.41509e-07   0.00685508\n",
       "19622    Vip  Vmn1r218_ENSMUSG00000115020  5.02643e-07   0.00780429\n",
       "19623    Vip    Arxes1_ENSMUSG00000048355  5.19716e-07   0.00806937\n",
       "19624    Vip    Grcc10_ENSMUSG00000072772  5.73128e-07   0.00889867\n",
       "19625    Vip    Tmbim6_ENSMUSG00000023010  6.38258e-07   0.00990991\n",
       "\n",
       "[19626 rows x 4 columns]"
      ]
     },
     "execution_count": 31,
     "metadata": {},
     "output_type": "execute_result"
    }
   ],
   "source": [
    "markers_gene"
   ]
  },
  {
   "cell_type": "code",
   "execution_count": 34,
   "metadata": {},
   "outputs": [
    {
     "data": {
      "text/plain": [
       "L5 IT Rspo1      624\n",
       "L5 IT Rspo2      256\n",
       "L5 IT S100b_1    251\n",
       "L5 IT Tcap_1     226\n",
       "L5 IT Tcap_2     120\n",
       "L5 IT S100b_2     82\n",
       "L5 IT Pld5        12\n",
       "Name: cluster_label, dtype: int64"
      ]
     },
     "execution_count": 34,
     "metadata": {},
     "output_type": "execute_result"
    }
   ],
   "source": [
    "gene[gene.obs.subclass_label==\"L5 IT\"].obs.cluster_label.value_counts()"
   ]
  },
  {
   "cell_type": "code",
   "execution_count": null,
   "metadata": {},
   "outputs": [],
   "source": []
  }
 ],
 "metadata": {
  "kernelspec": {
   "display_name": "Python 3",
   "language": "python",
   "name": "python3"
  },
  "language_info": {
   "codemirror_mode": {
    "name": "ipython",
    "version": 3
   },
   "file_extension": ".py",
   "mimetype": "text/x-python",
   "name": "python",
   "nbconvert_exporter": "python",
   "pygments_lexer": "ipython3",
   "version": "3.7.4"
  }
 },
 "nbformat": 4,
 "nbformat_minor": 4
}
