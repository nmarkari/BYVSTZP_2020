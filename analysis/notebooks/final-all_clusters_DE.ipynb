{
 "cells": [
  {
   "cell_type": "code",
   "execution_count": 1,
   "metadata": {},
   "outputs": [
    {
     "name": "stdout",
     "output_type": "stream",
     "text": [
      "Sun Dec  6 21:09:57 PST 2020\n"
     ]
    }
   ],
   "source": [
    "!date"
   ]
  },
  {
   "cell_type": "markdown",
   "metadata": {},
   "source": [
    "# All clusters DE"
   ]
  },
  {
   "cell_type": "code",
   "execution_count": 1,
   "metadata": {},
   "outputs": [],
   "source": [
    "import pandas as pd\n",
    "import numpy as np\n",
    "from matplotlib import cm\n",
    "import matplotlib.pyplot as plt\n",
    "from scipy import stats\n",
    "import os\n",
    "import anndata\n",
    "import matplotlib.transforms as transforms\n",
    "import matplotlib.patches as mpatches\n",
    "import glob\n",
    "import sys\n",
    "def nd(arr):\n",
    "    return np.asarray(arr).reshape(-1)\n",
    "\n",
    "import sys\n",
    "sys.path.append('/home/sina/projects/mop/BYVSTZP_2020/dexpress')\n",
    "from dexpress import dexpress, utils, plot\n",
    "\n",
    "sys.path.append('/home/sina/projects/mop/BYVSTZP_2020/trackfig')\n",
    "from trackfig.utils import get_notebook_name\n",
    "from trackfig.trackfig import trackfig \n",
    "\n",
    "TRACKFIG = \"/home/sina/projects/mop/BYVSTZP_2020/trackfig.txt\"\n",
    "NB = get_notebook_name()\n",
    "\n",
    "\n",
    "def yex(ax):\n",
    "    lims = [\n",
    "        np.min([ax.get_xlim(), ax.get_ylim()]),  # min of both axes\n",
    "        np.max([ax.get_xlim(), ax.get_ylim()]),  # max of both axes\n",
    "    ]\n",
    "    # now plot both limits against eachother\n",
    "    ax.plot(lims, lims, 'k-', alpha=0.75, zorder=0)\n",
    "    ax.set_aspect('equal')\n",
    "    ax.set_xlim(lims)\n",
    "    ax.set_ylim(lims)\n",
    "    return ax\n",
    "\n",
    "fsize=20\n",
    "\n",
    "plt.rcParams.update({'font.size': fsize})\n",
    "%config InlineBackend.figure_format = 'retina'"
   ]
  },
  {
   "cell_type": "code",
   "execution_count": 2,
   "metadata": {},
   "outputs": [],
   "source": [
    "cluster_cmap = {\n",
    "\"Astro\": (0.38823529411764707, 0.4745098039215686,  0.2235294117647059 ),  # 637939,\n",
    "\"Endo\" : (0.5490196078431373,  0.6352941176470588,  0.3215686274509804 ),  # 8ca252,\n",
    "\"SMC\"  : (0.7098039215686275,  0.8117647058823529,  0.4196078431372549 ),  # b5cf6b,\n",
    "\"VLMC\" : (0.807843137254902,   0.8588235294117647,  0.611764705882353  ),  # cedb9c,\n",
    "\"Low Quality\" : (0,0,0),\n",
    "\"L2/3 IT\" : (0.9921568627450981,  0.6823529411764706,  0.4196078431372549  ),  # fdae6b\n",
    "\"L5 PT\" : (0.9921568627450981,  0.8156862745098039,  0.6352941176470588  ),  # fdd0a2\n",
    "\"L5 IT\" : (0.5176470588235295,  0.23529411764705882, 0.2235294117647059 ),  # 843c39\n",
    "\"L5/6 NP\": \"#D43F3A\",\n",
    "\"L6 CT\" : (0.8392156862745098,  0.3803921568627451,  0.4196078431372549 ),  # d6616b\n",
    "\"L6 IT\" : (0.9058823529411765,  0.5882352941176471,  0.611764705882353  ),  # e7969c\n",
    "\"L6b\" : (1.0,                 0.4980392156862745,  0.054901960784313725),  # ff7f0e\n",
    "\"L6 IT Car3\" : (1.0,                 0.7333333333333333,  0.47058823529411764 ),  # ffbb78\n",
    "\"Lamp5\" : (0.19215686274509805, 0.5098039215686274,  0.7411764705882353  ),  # 3182bd # blues\n",
    "\"Sncg\" : (0.4196078431372549,  0.6823529411764706,  0.8392156862745098  ),  # 6baed6\n",
    "\"Vip\" : (0.6196078431372549,  0.792156862745098,   0.8823529411764706  ),  # 9ecae1\n",
    "\"Sst\" : (0.7764705882352941,  0.8588235294117647,  0.9372549019607843  ),  # c6dbef\n",
    "\"Pvalb\":(0.7372549019607844,  0.7411764705882353,  0.8627450980392157  ),  # bcbddc\n",
    "}"
   ]
  },
  {
   "cell_type": "code",
   "execution_count": 3,
   "metadata": {},
   "outputs": [],
   "source": [
    "num_TSNE = 2\n",
    "state = 42\n",
    "metric = \"euclidean\"\n",
    "n_neighbors = 30\n",
    "num_PCA = 25\n",
    "num_NCA = 10\n",
    "\n",
    "# Filtering criteria\n",
    "cell_threshold = 250\n",
    "disp_threshold = 0.001\n",
    "\n",
    "mito_criteria = 10\n",
    "\n",
    "n_top_genes = 5000\n",
    "\n",
    "n_bins = 20\n",
    "\n",
    "flavor=\"seurat\"\n",
    "\n",
    "scale_clip = 10"
   ]
  },
  {
   "cell_type": "code",
   "execution_count": 4,
   "metadata": {},
   "outputs": [],
   "source": [
    "import ast"
   ]
  },
  {
   "cell_type": "code",
   "execution_count": 5,
   "metadata": {},
   "outputs": [],
   "source": [
    "gene = anndata.read_h5ad(\"../../data/notebook/revision/gene.h5ad\")\n",
    "isoform = anndata.read_h5ad(\"../../data/notebook/revision/isoform.h5ad\")"
   ]
  },
  {
   "cell_type": "code",
   "execution_count": 6,
   "metadata": {},
   "outputs": [],
   "source": [
    "gene_id = gene.var[\"gene_id\"].values\n",
    "gene_names = gene.var[\"gene_name\"].values.astype(str)"
   ]
  },
  {
   "cell_type": "markdown",
   "metadata": {},
   "source": [
    "# Restrict to genes with more than one isoform"
   ]
  },
  {
   "cell_type": "code",
   "execution_count": 7,
   "metadata": {},
   "outputs": [],
   "source": [
    "gene = gene[:,gene.var[\"num_isoforms\"]>1]"
   ]
  },
  {
   "cell_type": "code",
   "execution_count": 8,
   "metadata": {},
   "outputs": [
    {
     "name": "stdout",
     "output_type": "stream",
     "text": [
      "CPU times: user 223 ms, sys: 16.9 ms, total: 240 ms\n",
      "Wall time: 239 ms\n"
     ]
    }
   ],
   "source": [
    "%%time\n",
    "transcripts = []\n",
    "l = gene.var.txn_list.values\n",
    "for sublist in l:\n",
    "    sublist = ast.literal_eval(sublist)\n",
    "    for item in sublist:\n",
    "        transcripts.append(item)"
   ]
  },
  {
   "cell_type": "code",
   "execution_count": 9,
   "metadata": {},
   "outputs": [],
   "source": [
    "isoform = isoform[:,isoform.var[\"transcript_id\"].isin(transcripts)]"
   ]
  },
  {
   "cell_type": "code",
   "execution_count": 10,
   "metadata": {},
   "outputs": [
    {
     "name": "stdout",
     "output_type": "stream",
     "text": [
      "View of AnnData object with n_obs × n_vars = 6160 × 11891\n",
      "    obs: 'cluster_id', 'cluster_label', 'subclass_label', 'class_label', 'cluster_color', 'size', 'cell_id', 'subclass_id', 'class_id', 'cell_counts', 'percent_mito', 'n_genes', 'pass_count_filter', 'leiden', 'louvain'\n",
      "    var: 'transcript_id', 'gene_id', 'gene_name', 'transcript_name', 'length', 'txn_list', 'num_isoforms', 'gene_counts', 'dispersion', 'pass_disp_filter', 'highly_variable', 'means', 'dispersions', 'dispersions_norm'\n",
      "    uns: 'hvg', 'leiden', 'louvain', 'neighbors'\n",
      "    obsm: 'X_nca', 'X_nca_tsne', 'X_pca', 'X_pca_tsne'\n",
      "    layers: 'X', 'log1p', 'norm'\n",
      "    obsp: 'connectivities', 'distances'\n",
      "View of AnnData object with n_obs × n_vars = 6160 × 61873\n",
      "    obs: 'cluster_id', 'cluster_label', 'subclass_label', 'class_label', 'cluster_color', 'size', 'cell_id', 'subclass_id', 'class_id', 'cell_counts', 'leiden', 'louvain'\n",
      "    var: 'transcript_id', 'gene_id', 'gene_name', 'transcript_name', 'length', 'gene_counts', 'highly_variable', 'means', 'dispersions', 'dispersions_norm'\n",
      "    uns: 'hvg', 'leiden', 'louvain', 'neighbors'\n",
      "    obsm: 'X_nca', 'X_nca_tsne', 'X_pca', 'X_pca_tsne'\n",
      "    layers: 'X', 'log1p', 'norm'\n",
      "    obsp: 'connectivities', 'distances'\n"
     ]
    }
   ],
   "source": [
    "print(gene)\n",
    "print(isoform)"
   ]
  },
  {
   "cell_type": "code",
   "execution_count": 11,
   "metadata": {},
   "outputs": [],
   "source": [
    "isoform = isoform[isoform.obs.sort_values([\"cluster_label\", \"cell_id\"]).index]\n",
    "gene = gene[gene.obs.sort_values([\"cluster_label\", \"cell_id\"]).index]"
   ]
  },
  {
   "cell_type": "code",
   "execution_count": 12,
   "metadata": {},
   "outputs": [
    {
     "data": {
      "text/plain": [
       "False"
      ]
     },
     "execution_count": 12,
     "metadata": {},
     "output_type": "execute_result"
    }
   ],
   "source": [
    "False in (gene.obs.cluster_label == isoform.obs.cluster_label)"
   ]
  },
  {
   "cell_type": "code",
   "execution_count": 13,
   "metadata": {},
   "outputs": [
    {
     "data": {
      "text/html": [
       "<div>\n",
       "<style scoped>\n",
       "    .dataframe tbody tr th:only-of-type {\n",
       "        vertical-align: middle;\n",
       "    }\n",
       "\n",
       "    .dataframe tbody tr th {\n",
       "        vertical-align: top;\n",
       "    }\n",
       "\n",
       "    .dataframe thead th {\n",
       "        text-align: right;\n",
       "    }\n",
       "</style>\n",
       "<table border=\"1\" class=\"dataframe\">\n",
       "  <thead>\n",
       "    <tr style=\"text-align: right;\">\n",
       "      <th></th>\n",
       "      <th>cluster_id</th>\n",
       "      <th>cluster_label</th>\n",
       "      <th>subclass_label</th>\n",
       "      <th>class_label</th>\n",
       "      <th>cluster_color</th>\n",
       "      <th>size</th>\n",
       "      <th>cell_id</th>\n",
       "      <th>subclass_id</th>\n",
       "      <th>class_id</th>\n",
       "      <th>cell_counts</th>\n",
       "      <th>leiden</th>\n",
       "      <th>louvain</th>\n",
       "    </tr>\n",
       "  </thead>\n",
       "  <tbody>\n",
       "    <tr>\n",
       "      <th>112</th>\n",
       "      <td>58</td>\n",
       "      <td>Astro Aqp4</td>\n",
       "      <td>Astro</td>\n",
       "      <td>Non-Neuronal</td>\n",
       "      <td>#7C2D1F</td>\n",
       "      <td>10</td>\n",
       "      <td>LS-15501_S47_E1-50</td>\n",
       "      <td>0</td>\n",
       "      <td>3</td>\n",
       "      <td>985306.8750</td>\n",
       "      <td>7</td>\n",
       "      <td>7</td>\n",
       "    </tr>\n",
       "    <tr>\n",
       "      <th>1073</th>\n",
       "      <td>58</td>\n",
       "      <td>Astro Aqp4</td>\n",
       "      <td>Astro</td>\n",
       "      <td>Non-Neuronal</td>\n",
       "      <td>#7C2D1F</td>\n",
       "      <td>10</td>\n",
       "      <td>SM-D9D87_S28_E1-50</td>\n",
       "      <td>0</td>\n",
       "      <td>3</td>\n",
       "      <td>982938.0625</td>\n",
       "      <td>7</td>\n",
       "      <td>7</td>\n",
       "    </tr>\n",
       "    <tr>\n",
       "      <th>4464</th>\n",
       "      <td>58</td>\n",
       "      <td>Astro Aqp4</td>\n",
       "      <td>Astro</td>\n",
       "      <td>Non-Neuronal</td>\n",
       "      <td>#7C2D1F</td>\n",
       "      <td>10</td>\n",
       "      <td>SM-DD449_S01_E1-50</td>\n",
       "      <td>0</td>\n",
       "      <td>3</td>\n",
       "      <td>999301.3125</td>\n",
       "      <td>14</td>\n",
       "      <td>4</td>\n",
       "    </tr>\n",
       "    <tr>\n",
       "      <th>4991</th>\n",
       "      <td>58</td>\n",
       "      <td>Astro Aqp4</td>\n",
       "      <td>Astro</td>\n",
       "      <td>Non-Neuronal</td>\n",
       "      <td>#7C2D1F</td>\n",
       "      <td>10</td>\n",
       "      <td>SM-GE65I_S103_E1-50</td>\n",
       "      <td>0</td>\n",
       "      <td>3</td>\n",
       "      <td>990256.1875</td>\n",
       "      <td>7</td>\n",
       "      <td>7</td>\n",
       "    </tr>\n",
       "    <tr>\n",
       "      <th>4992</th>\n",
       "      <td>58</td>\n",
       "      <td>Astro Aqp4</td>\n",
       "      <td>Astro</td>\n",
       "      <td>Non-Neuronal</td>\n",
       "      <td>#7C2D1F</td>\n",
       "      <td>10</td>\n",
       "      <td>SM-GE65I_S104_E1-50</td>\n",
       "      <td>0</td>\n",
       "      <td>3</td>\n",
       "      <td>987743.6875</td>\n",
       "      <td>7</td>\n",
       "      <td>7</td>\n",
       "    </tr>\n",
       "    <tr>\n",
       "      <th>...</th>\n",
       "      <td>...</td>\n",
       "      <td>...</td>\n",
       "      <td>...</td>\n",
       "      <td>...</td>\n",
       "      <td>...</td>\n",
       "      <td>...</td>\n",
       "      <td>...</td>\n",
       "      <td>...</td>\n",
       "      <td>...</td>\n",
       "      <td>...</td>\n",
       "      <td>...</td>\n",
       "      <td>...</td>\n",
       "    </tr>\n",
       "    <tr>\n",
       "      <th>6471</th>\n",
       "      <td>6</td>\n",
       "      <td>Vip Serpinf1</td>\n",
       "      <td>Vip</td>\n",
       "      <td>GABAergic</td>\n",
       "      <td>#A720FF</td>\n",
       "      <td>50</td>\n",
       "      <td>SM-GE935_S268_E1-50</td>\n",
       "      <td>17</td>\n",
       "      <td>0</td>\n",
       "      <td>997492.0625</td>\n",
       "      <td>12</td>\n",
       "      <td>12</td>\n",
       "    </tr>\n",
       "    <tr>\n",
       "      <th>6532</th>\n",
       "      <td>6</td>\n",
       "      <td>Vip Serpinf1</td>\n",
       "      <td>Vip</td>\n",
       "      <td>GABAergic</td>\n",
       "      <td>#A720FF</td>\n",
       "      <td>50</td>\n",
       "      <td>SM-GE935_S337_E1-50</td>\n",
       "      <td>17</td>\n",
       "      <td>0</td>\n",
       "      <td>998825.7500</td>\n",
       "      <td>12</td>\n",
       "      <td>12</td>\n",
       "    </tr>\n",
       "    <tr>\n",
       "      <th>6537</th>\n",
       "      <td>6</td>\n",
       "      <td>Vip Serpinf1</td>\n",
       "      <td>Vip</td>\n",
       "      <td>GABAergic</td>\n",
       "      <td>#A720FF</td>\n",
       "      <td>50</td>\n",
       "      <td>SM-GE935_S342_E1-50</td>\n",
       "      <td>17</td>\n",
       "      <td>0</td>\n",
       "      <td>998837.6875</td>\n",
       "      <td>5</td>\n",
       "      <td>12</td>\n",
       "    </tr>\n",
       "    <tr>\n",
       "      <th>6545</th>\n",
       "      <td>6</td>\n",
       "      <td>Vip Serpinf1</td>\n",
       "      <td>Vip</td>\n",
       "      <td>GABAergic</td>\n",
       "      <td>#A720FF</td>\n",
       "      <td>50</td>\n",
       "      <td>SM-GE935_S350_E1-50</td>\n",
       "      <td>17</td>\n",
       "      <td>0</td>\n",
       "      <td>998223.1250</td>\n",
       "      <td>12</td>\n",
       "      <td>12</td>\n",
       "    </tr>\n",
       "    <tr>\n",
       "      <th>6564</th>\n",
       "      <td>6</td>\n",
       "      <td>Vip Serpinf1</td>\n",
       "      <td>Vip</td>\n",
       "      <td>GABAergic</td>\n",
       "      <td>#A720FF</td>\n",
       "      <td>50</td>\n",
       "      <td>SM-GE935_S369_E1-50</td>\n",
       "      <td>17</td>\n",
       "      <td>0</td>\n",
       "      <td>998957.5625</td>\n",
       "      <td>12</td>\n",
       "      <td>12</td>\n",
       "    </tr>\n",
       "  </tbody>\n",
       "</table>\n",
       "<p>6160 rows × 12 columns</p>\n",
       "</div>"
      ],
      "text/plain": [
       "      cluster_id cluster_label subclass_label   class_label cluster_color  \\\n",
       "112           58    Astro Aqp4          Astro  Non-Neuronal       #7C2D1F   \n",
       "1073          58    Astro Aqp4          Astro  Non-Neuronal       #7C2D1F   \n",
       "4464          58    Astro Aqp4          Astro  Non-Neuronal       #7C2D1F   \n",
       "4991          58    Astro Aqp4          Astro  Non-Neuronal       #7C2D1F   \n",
       "4992          58    Astro Aqp4          Astro  Non-Neuronal       #7C2D1F   \n",
       "...          ...           ...            ...           ...           ...   \n",
       "6471           6  Vip Serpinf1            Vip     GABAergic       #A720FF   \n",
       "6532           6  Vip Serpinf1            Vip     GABAergic       #A720FF   \n",
       "6537           6  Vip Serpinf1            Vip     GABAergic       #A720FF   \n",
       "6545           6  Vip Serpinf1            Vip     GABAergic       #A720FF   \n",
       "6564           6  Vip Serpinf1            Vip     GABAergic       #A720FF   \n",
       "\n",
       "      size              cell_id  subclass_id  class_id  cell_counts leiden  \\\n",
       "112     10   LS-15501_S47_E1-50            0         3  985306.8750      7   \n",
       "1073    10   SM-D9D87_S28_E1-50            0         3  982938.0625      7   \n",
       "4464    10   SM-DD449_S01_E1-50            0         3  999301.3125     14   \n",
       "4991    10  SM-GE65I_S103_E1-50            0         3  990256.1875      7   \n",
       "4992    10  SM-GE65I_S104_E1-50            0         3  987743.6875      7   \n",
       "...    ...                  ...          ...       ...          ...    ...   \n",
       "6471    50  SM-GE935_S268_E1-50           17         0  997492.0625     12   \n",
       "6532    50  SM-GE935_S337_E1-50           17         0  998825.7500     12   \n",
       "6537    50  SM-GE935_S342_E1-50           17         0  998837.6875      5   \n",
       "6545    50  SM-GE935_S350_E1-50           17         0  998223.1250     12   \n",
       "6564    50  SM-GE935_S369_E1-50           17         0  998957.5625     12   \n",
       "\n",
       "     louvain  \n",
       "112        7  \n",
       "1073       7  \n",
       "4464       4  \n",
       "4991       7  \n",
       "4992       7  \n",
       "...      ...  \n",
       "6471      12  \n",
       "6532      12  \n",
       "6537      12  \n",
       "6545      12  \n",
       "6564      12  \n",
       "\n",
       "[6160 rows x 12 columns]"
      ]
     },
     "execution_count": 13,
     "metadata": {},
     "output_type": "execute_result"
    }
   ],
   "source": [
    "isoform.obs"
   ]
  },
  {
   "cell_type": "markdown",
   "metadata": {},
   "source": [
    "# determine the isoforms"
   ]
  },
  {
   "cell_type": "code",
   "execution_count": 25,
   "metadata": {},
   "outputs": [],
   "source": [
    "def violinplot(data, ax, **kwd): \n",
    "    xticklabels = kwd.get(\"xticklabels\", [])\n",
    "    xticks = kwd.get(\"xticks\", [])\n",
    "    color = kwd.get(\"color\", \"#D43F3A\")\n",
    "    \n",
    "    if  len(xticks)==0: xticks = np.arange(len(data))+1;\n",
    "    if  len(xticklabels)==0: xticklabels = np.arange(len(data))+1;\n",
    "    assert(len(xticks) == len(xticklabels))\n",
    "        \n",
    "    violins = ax.violinplot(data, positions=xticks, showmeans=False, showmedians=False, showextrema=False)\n",
    "    \n",
    "    for vidx, v in enumerate(violins['bodies']):\n",
    "        v.set_facecolor(color)\n",
    "        v.set_edgecolor('black')\n",
    "        v.set_alpha(1)\n",
    "    \n",
    "    for didx, d in enumerate(data):\n",
    "        x = xticks[didx]\n",
    "        xx = np.random.normal(x, 0.04, size=len(d))\n",
    "        \n",
    "        # actual points\n",
    "        ax.scatter(xx, d, s = 2, color=\"grey\")\n",
    "        \n",
    "        # mean and error bars\n",
    "        mean = np.mean(d)\n",
    "        stdev = np.sqrt(np.var(d))\n",
    "        ax.scatter(x, mean,color=\"black\")    \n",
    "        ax.vlines(x, mean - stdev, mean+stdev, color='black', linestyle='-', lw=2)\n",
    "    \n",
    "    return ax\n"
   ]
  },
  {
   "cell_type": "markdown",
   "metadata": {},
   "source": [
    "# do for all clusters with a certain number of cells per cluster"
   ]
  },
  {
   "cell_type": "code",
   "execution_count": 19,
   "metadata": {},
   "outputs": [],
   "source": [
    "subclasses = np.sort(isoform.obs.subclass_label.unique())\n",
    "\n",
    "subclasses = np.setdiff1d(subclasses, [\"L5 IT\", \"Low Quality\"]) "
   ]
  },
  {
   "cell_type": "code",
   "execution_count": 45,
   "metadata": {},
   "outputs": [
    {
     "data": {
      "text/plain": [
       "subclass_label  cluster_label    \n",
       "Astro           Astro Aqp4             9\n",
       "Endo            Endo Slc38a5           7\n",
       "L2/3 IT         L2/3 IT S100a6       231\n",
       "                L2/3 IT Macc1        128\n",
       "                L2/3 IT Cdh13 Sla    123\n",
       "                                    ... \n",
       "Vip             Vip Htr1f             48\n",
       "                Vip Serpinf1          48\n",
       "                Vip Gpc3              37\n",
       "                Vip Chat_1            33\n",
       "                Vip Lmo1              25\n",
       "Name: cluster_label, Length: 62, dtype: int64"
      ]
     },
     "execution_count": 45,
     "metadata": {},
     "output_type": "execute_result"
    }
   ],
   "source": [
    "isoform.obs.groupby(\"subclass_label\")[\"cluster_label\"].value_counts()"
   ]
  },
  {
   "cell_type": "code",
   "execution_count": 46,
   "metadata": {},
   "outputs": [
    {
     "name": "stdout",
     "output_type": "stream",
     "text": [
      "1 of 16: Astro\n",
      "2 of 16: Endo\n",
      "3 of 16: L2/3 IT\n"
     ]
    },
    {
     "name": "stderr",
     "output_type": "stream",
     "text": [
      "10-Dec-20 10:47:34 - 1 of 3 assignments: L2/3 IT Cdh13 Sla\n",
      "10-Dec-20 10:47:34 - 2 of 3 assignments: L2/3 IT Macc1\n",
      "10-Dec-20 10:47:35 - 3 of 3 assignments: L2/3 IT S100a6\n",
      "10-Dec-20 10:47:35 - 1 of 3 assignments: L2/3 IT Cdh13 Sla\n",
      "10-Dec-20 10:47:35 - 2 of 3 assignments: L2/3 IT Macc1\n",
      "10-Dec-20 10:47:35 - 3 of 3 assignments: L2/3 IT S100a6\n"
     ]
    },
    {
     "name": "stdout",
     "output_type": "stream",
     "text": [
      "4 of 16: L5 PT\n",
      "5 of 16: L5/6 NP\n"
     ]
    },
    {
     "name": "stderr",
     "output_type": "stream",
     "text": [
      "10-Dec-20 10:47:36 - 1 of 2 assignments: L5 NP Slc17a8\n",
      "10-Dec-20 10:47:36 - 2 of 2 assignments: L6 NP Trh\n",
      "10-Dec-20 10:47:36 - 1 of 2 assignments: L5 NP Slc17a8\n",
      "10-Dec-20 10:47:36 - 2 of 2 assignments: L6 NP Trh\n"
     ]
    },
    {
     "name": "stdout",
     "output_type": "stream",
     "text": [
      "6 of 16: L6 CT\n"
     ]
    },
    {
     "name": "stderr",
     "output_type": "stream",
     "text": [
      "10-Dec-20 10:47:38 - 1 of 5 assignments: L6 CT Gpr139\n",
      "10-Dec-20 10:47:38 - 2 of 5 assignments: L6 CT Grp_1\n",
      "10-Dec-20 10:47:38 - 3 of 5 assignments: L6 CT Grp_2\n",
      "10-Dec-20 10:47:38 - 4 of 5 assignments: L6 CT Nxph2_1\n",
      "10-Dec-20 10:47:38 - 5 of 5 assignments: L6 CT Nxph2_2\n",
      "10-Dec-20 10:47:38 - 1 of 5 assignments: L6 CT Gpr139\n",
      "10-Dec-20 10:47:39 - 2 of 5 assignments: L6 CT Grp_1\n",
      "10-Dec-20 10:47:39 - 3 of 5 assignments: L6 CT Grp_2\n",
      "10-Dec-20 10:47:39 - 4 of 5 assignments: L6 CT Nxph2_1\n",
      "10-Dec-20 10:47:39 - 5 of 5 assignments: L6 CT Nxph2_2\n"
     ]
    },
    {
     "name": "stdout",
     "output_type": "stream",
     "text": [
      "7 of 16: L6 IT\n"
     ]
    },
    {
     "name": "stderr",
     "output_type": "stream",
     "text": [
      "10-Dec-20 10:47:41 - 1 of 3 assignments: L6 IT Sulf_1\n",
      "10-Dec-20 10:47:41 - 2 of 3 assignments: L6 IT Sulf_2\n",
      "10-Dec-20 10:47:41 - 3 of 3 assignments: L6 IT Sulf_3\n",
      "10-Dec-20 10:47:41 - 1 of 3 assignments: L6 IT Sulf_1\n",
      "10-Dec-20 10:47:41 - 2 of 3 assignments: L6 IT Sulf_2\n",
      "10-Dec-20 10:47:41 - 3 of 3 assignments: L6 IT Sulf_3\n"
     ]
    },
    {
     "name": "stdout",
     "output_type": "stream",
     "text": [
      "8 of 16: L6 IT Car3\n",
      "9 of 16: L6b\n"
     ]
    },
    {
     "name": "stderr",
     "output_type": "stream",
     "text": [
      "10-Dec-20 10:47:43 - 1 of 6 assignments: L6b Kcnip1_1\n",
      "10-Dec-20 10:47:43 - 2 of 6 assignments: L6b Kcnip1_2\n",
      "10-Dec-20 10:47:43 - 3 of 6 assignments: L6b Ror1_1\n",
      "10-Dec-20 10:47:43 - 4 of 6 assignments: L6b Ror1_2\n",
      "10-Dec-20 10:47:43 - 5 of 6 assignments: L6b Rprm\n",
      "10-Dec-20 10:47:43 - 6 of 6 assignments: L6b Shisa6\n",
      "10-Dec-20 10:47:43 - 1 of 6 assignments: L6b Kcnip1_1\n",
      "10-Dec-20 10:47:43 - 2 of 6 assignments: L6b Kcnip1_2\n",
      "10-Dec-20 10:47:44 - 3 of 6 assignments: L6b Ror1_1\n",
      "10-Dec-20 10:47:44 - 4 of 6 assignments: L6b Ror1_2\n",
      "10-Dec-20 10:47:44 - 5 of 6 assignments: L6b Rprm\n",
      "10-Dec-20 10:47:44 - 6 of 6 assignments: L6b Shisa6\n"
     ]
    },
    {
     "name": "stdout",
     "output_type": "stream",
     "text": [
      "10 of 16: Lamp5\n"
     ]
    },
    {
     "name": "stderr",
     "output_type": "stream",
     "text": [
      "10-Dec-20 10:47:45 - 1 of 5 assignments: Lamp5 Egln3_1\n",
      "10-Dec-20 10:47:45 - 2 of 5 assignments: Lamp5 Egln3_2\n",
      "10-Dec-20 10:47:45 - 3 of 5 assignments: Lamp5 Lhx6\n",
      "10-Dec-20 10:47:45 - 4 of 5 assignments: Lamp5 Pdlim5\n",
      "10-Dec-20 10:47:45 - 5 of 5 assignments: Lamp5 Slc35d3\n",
      "10-Dec-20 10:47:45 - 1 of 5 assignments: Lamp5 Egln3_1\n",
      "10-Dec-20 10:47:46 - 2 of 5 assignments: Lamp5 Egln3_2\n",
      "10-Dec-20 10:47:46 - 3 of 5 assignments: Lamp5 Lhx6\n",
      "10-Dec-20 10:47:46 - 4 of 5 assignments: Lamp5 Pdlim5\n",
      "10-Dec-20 10:47:46 - 5 of 5 assignments: Lamp5 Slc35d3\n"
     ]
    },
    {
     "name": "stdout",
     "output_type": "stream",
     "text": [
      "11 of 16: Pvalb\n"
     ]
    },
    {
     "name": "stderr",
     "output_type": "stream",
     "text": [
      "10-Dec-20 10:47:47 - 1 of 5 assignments: Pvalb Calb1\n",
      "10-Dec-20 10:47:47 - 2 of 5 assignments: Pvalb Gpr149\n",
      "10-Dec-20 10:47:47 - 3 of 5 assignments: Pvalb Reln\n",
      "10-Dec-20 10:47:47 - 4 of 5 assignments: Pvalb Th\n",
      "10-Dec-20 10:47:47 - 5 of 5 assignments: Pvalb Vipr2\n",
      "10-Dec-20 10:47:47 - 1 of 5 assignments: Pvalb Calb1\n",
      "10-Dec-20 10:47:48 - 2 of 5 assignments: Pvalb Gpr149\n",
      "10-Dec-20 10:47:48 - 3 of 5 assignments: Pvalb Reln\n",
      "10-Dec-20 10:47:48 - 4 of 5 assignments: Pvalb Th\n",
      "10-Dec-20 10:47:48 - 5 of 5 assignments: Pvalb Vipr2\n"
     ]
    },
    {
     "name": "stdout",
     "output_type": "stream",
     "text": [
      "12 of 16: SMC\n",
      "13 of 16: Sncg\n"
     ]
    },
    {
     "name": "stderr",
     "output_type": "stream",
     "text": [
      "10-Dec-20 10:47:49 - 1 of 2 assignments: Sncg\n",
      "10-Dec-20 10:47:49 - 2 of 2 assignments: Sncg Slc17a8\n",
      "10-Dec-20 10:47:49 - 1 of 2 assignments: Sncg\n",
      "10-Dec-20 10:47:49 - 2 of 2 assignments: Sncg Slc17a8\n"
     ]
    },
    {
     "name": "stdout",
     "output_type": "stream",
     "text": [
      "14 of 16: Sst\n"
     ]
    },
    {
     "name": "stderr",
     "output_type": "stream",
     "text": [
      "10-Dec-20 10:47:50 - 1 of 7 assignments: Sst C1ql3\n",
      "10-Dec-20 10:47:50 - 2 of 7 assignments: Sst Chodl\n",
      "10-Dec-20 10:47:50 - 3 of 7 assignments: Sst Crhr2_1\n",
      "10-Dec-20 10:47:50 - 4 of 7 assignments: Sst Crhr2_2\n",
      "10-Dec-20 10:47:50 - 5 of 7 assignments: Sst Etv1\n",
      "10-Dec-20 10:47:50 - 6 of 7 assignments: Sst Myh8_1\n",
      "10-Dec-20 10:47:50 - 7 of 7 assignments: Sst Myh8_2\n",
      "10-Dec-20 10:47:50 - 1 of 7 assignments: Sst C1ql3\n",
      "10-Dec-20 10:47:50 - 2 of 7 assignments: Sst Chodl\n",
      "10-Dec-20 10:47:50 - 3 of 7 assignments: Sst Crhr2_1\n",
      "10-Dec-20 10:47:50 - 4 of 7 assignments: Sst Crhr2_2\n",
      "10-Dec-20 10:47:50 - 5 of 7 assignments: Sst Etv1\n",
      "10-Dec-20 10:47:50 - 6 of 7 assignments: Sst Myh8_1\n",
      "10-Dec-20 10:47:50 - 7 of 7 assignments: Sst Myh8_2\n"
     ]
    },
    {
     "name": "stdout",
     "output_type": "stream",
     "text": [
      "15 of 16: VLMC\n",
      "16 of 16: Vip\n"
     ]
    },
    {
     "name": "stderr",
     "output_type": "stream",
     "text": [
      "10-Dec-20 10:47:52 - 1 of 10 assignments: Vip C1ql1\n",
      "10-Dec-20 10:47:52 - 2 of 10 assignments: Vip Chat_1\n",
      "10-Dec-20 10:47:52 - 3 of 10 assignments: Vip Chat_2\n",
      "10-Dec-20 10:47:52 - 4 of 10 assignments: Vip Chat_3\n",
      "10-Dec-20 10:47:52 - 5 of 10 assignments: Vip Crispld2\n",
      "10-Dec-20 10:47:52 - 6 of 10 assignments: Vip Gpc3\n",
      "10-Dec-20 10:47:52 - 7 of 10 assignments: Vip Htr1f\n",
      "10-Dec-20 10:47:52 - 8 of 10 assignments: Vip Igfbp6\n",
      "10-Dec-20 10:47:52 - 9 of 10 assignments: Vip Lmo1\n",
      "10-Dec-20 10:47:52 - 10 of 10 assignments: Vip Serpinf1\n",
      "10-Dec-20 10:47:53 - 1 of 10 assignments: Vip C1ql1\n",
      "10-Dec-20 10:47:53 - 2 of 10 assignments: Vip Chat_1\n",
      "10-Dec-20 10:47:53 - 3 of 10 assignments: Vip Chat_2\n",
      "10-Dec-20 10:47:53 - 4 of 10 assignments: Vip Chat_3\n",
      "10-Dec-20 10:47:53 - 5 of 10 assignments: Vip Crispld2\n",
      "10-Dec-20 10:47:53 - 6 of 10 assignments: Vip Gpc3\n",
      "10-Dec-20 10:47:53 - 7 of 10 assignments: Vip Htr1f\n",
      "10-Dec-20 10:47:53 - 8 of 10 assignments: Vip Igfbp6\n",
      "10-Dec-20 10:47:54 - 9 of 10 assignments: Vip Lmo1\n",
      "10-Dec-20 10:47:54 - 10 of 10 assignments: Vip Serpinf1\n"
     ]
    },
    {
     "name": "stdout",
     "output_type": "stream",
     "text": [
      "CPU times: user 18.9 s, sys: 2.35 s, total: 21.2 s\n",
      "Wall time: 21.2 s\n"
     ]
    }
   ],
   "source": [
    "%%time\n",
    "n_cells = 5\n",
    "\n",
    "de_clusters = []\n",
    "de_genes = []\n",
    "de_isoforms = []\n",
    "for cidx, c in enumerate(subclasses):\n",
    "    print(f\"{cidx+1} of {len(subclasses)}: {c}\")\n",
    "    tmp_isoform = isoform[isoform.obs.eval(f\"subclass_label == '{c}'\")].copy()\n",
    "    tmp_gene    = gene[gene.obs.eval(f\"subclass_label == '{c}'\")].copy()\n",
    "\n",
    "    if tmp_isoform.shape[0] >= n_cells: # cluster must have at least 20 cells\n",
    "        if tmp_isoform.obs.cluster_label.nunique()>1:\n",
    "            de_clusters.append(c)\n",
    "\n",
    "            ####### Genes\n",
    "            mat           = tmp_gene.layers[\"log1p\"].todense()\n",
    "            components    = tmp_gene.obs.cell_id.values\n",
    "            features      = tmp_gene.var.gene_name.values\n",
    "            assignments   = tmp_gene.obs.cluster_label.values\n",
    "\n",
    "            # parameters\n",
    "            unique        = np.unique(assignments)\n",
    "            nan_cutoff    = 0.9 # of elements in cluster\n",
    "            corr_method   = \"bonferroni\"\n",
    "\n",
    "            p_raw, stat, es, nfeat = dexpress.dexpress(mat, components, features, assignments, nan_cutoff=nan_cutoff)\n",
    "            p_corr = utils.correct_pvals(p_raw)#, nfeat, corr_method)\n",
    "\n",
    "            s = stat\n",
    "\n",
    "            markers_gene = dexpress.make_table(assignments, features, p_raw, p_corr, es)\n",
    "\n",
    "            # convert the 0 pvalues to the smallest possible float\n",
    "            markers_gene[\"p_corr\"][markers_gene.eval(\"p_corr == 0\").values] = sys.float_info.min\n",
    "            markers_gene[\"n_isoforms\"] = markers_gene.name.map(gene.var.num_isoforms)\n",
    "            de_genes.append(markers_gene)\n",
    "\n",
    "\n",
    "\n",
    "            ######### Isoforms\n",
    "            mat           = tmp_isoform.layers[\"log1p\"].todense()\n",
    "            components    = tmp_isoform.obs.cell_id.values\n",
    "            features      = tmp_isoform.var.transcript_name.values\n",
    "            assignments   = tmp_isoform.obs.cluster_label.values\n",
    "\n",
    "            # parameters\n",
    "            unique        = np.unique(assignments)\n",
    "            nan_cutoff    = 0.9 # of elements in cluster\n",
    "            corr_method   = \"bonferroni\"\n",
    "\n",
    "\n",
    "            p_raw, stat, es, nfeat = dexpress.dexpress(mat, components, features, assignments, nan_cutoff=nan_cutoff)\n",
    "            p_corr = utils.correct_pvals(p_raw)#, nfeat, corr_method)\n",
    "\n",
    "            s = stat\n",
    "\n",
    "            markers_isoform = dexpress.make_table(assignments, features, p_raw, p_corr, es)\n",
    "\n",
    "            # convert the 0 pvalues to the smallest possible float\n",
    "            markers_isoform[\"p_corr\"][markers_isoform.eval(\"p_corr == 0\").values] = sys.float_info.min\n",
    "            de_isoforms.append(markers_isoform)"
   ]
  },
  {
   "cell_type": "code",
   "execution_count": 47,
   "metadata": {},
   "outputs": [],
   "source": [
    "markers_gene = pd.concat(de_genes)\n",
    "\n",
    "markers_isoform = pd.concat(de_isoforms)\n",
    "\n",
    "markers_isoform[\"index\"].nunique()"
   ]
  },
  {
   "cell_type": "code",
   "execution_count": 55,
   "metadata": {},
   "outputs": [],
   "source": [
    "alpha = 0.01\n",
    "markers_gene = markers_gene.query(f\"p_corr < {alpha}\")\n",
    "markers_isoform = markers_isoform.query(f\"p_corr < {alpha}\")"
   ]
  },
  {
   "cell_type": "code",
   "execution_count": 62,
   "metadata": {},
   "outputs": [],
   "source": [
    "# write isoform_only\n",
    "markers_isoform.to_csv(\"../../tables/unordered/all_clusters_DE_isoform_only.csv\")"
   ]
  },
  {
   "cell_type": "code",
   "execution_count": 63,
   "metadata": {},
   "outputs": [
    {
     "name": "stderr",
     "output_type": "stream",
     "text": [
      "/home/sina/bin/miniconda3/lib/python3.7/site-packages/ipykernel_launcher.py:4: SettingWithCopyWarning: \n",
      "A value is trying to be set on a copy of a slice from a DataFrame.\n",
      "Try using .loc[row_indexer,col_indexer] = value instead\n",
      "\n",
      "See the caveats in the documentation: https://pandas.pydata.org/pandas-docs/stable/user_guide/indexing.html#returning-a-view-versus-a-copy\n",
      "  after removing the cwd from sys.path.\n"
     ]
    }
   ],
   "source": [
    "relevant_genes = markers_gene.p_corr < alpha\n",
    "\n",
    "markers_gene[\"index_name\"] = markers_gene[\"index\"] + \"_\" + markers_gene.name.apply(lambda x: \"\".join(x.split(\"_\")[:-1]))\n",
    "markers_isoform[\"index_name\"] = markers_isoform[\"index\"] + \"_\" + markers_isoform.name.apply(lambda x: \"-\".join(x.split(\"-\")[:-1]))\n",
    "\n",
    "setdiff = np.setdiff1d(markers_isoform[\"index_name\"].values, markers_gene[relevant_genes][\"index_name\"].values)"
   ]
  },
  {
   "cell_type": "code",
   "execution_count": 64,
   "metadata": {},
   "outputs": [
    {
     "data": {
      "text/html": [
       "<div>\n",
       "<style scoped>\n",
       "    .dataframe tbody tr th:only-of-type {\n",
       "        vertical-align: middle;\n",
       "    }\n",
       "\n",
       "    .dataframe tbody tr th {\n",
       "        vertical-align: top;\n",
       "    }\n",
       "\n",
       "    .dataframe thead th {\n",
       "        text-align: right;\n",
       "    }\n",
       "</style>\n",
       "<table border=\"1\" class=\"dataframe\">\n",
       "  <thead>\n",
       "    <tr style=\"text-align: right;\">\n",
       "      <th></th>\n",
       "      <th>index</th>\n",
       "      <th>name</th>\n",
       "      <th>p_raw</th>\n",
       "      <th>p_corr</th>\n",
       "      <th>es</th>\n",
       "      <th>index_name</th>\n",
       "    </tr>\n",
       "  </thead>\n",
       "  <tbody>\n",
       "    <tr>\n",
       "      <th>98111</th>\n",
       "      <td>L6b Kcnip1_2</td>\n",
       "      <td>Nrn1l-201_ENSMUST00000060167</td>\n",
       "      <td>1.20735e-06</td>\n",
       "      <td>0.00663437</td>\n",
       "      <td>4.01019</td>\n",
       "      <td>L6b Kcnip1_2_Nrn1l</td>\n",
       "    </tr>\n",
       "    <tr>\n",
       "      <th>255138</th>\n",
       "      <td>Pvalb Vipr2</td>\n",
       "      <td>Snap25-202_ENSMUST00000110098</td>\n",
       "      <td>1.54105e-17</td>\n",
       "      <td>5.41525e-14</td>\n",
       "      <td>3.57294</td>\n",
       "      <td>Pvalb Vipr2_Snap25</td>\n",
       "    </tr>\n",
       "    <tr>\n",
       "      <th>116269</th>\n",
       "      <td>Sncg Slc17a8</td>\n",
       "      <td>Cacnb3-202_ENSMUST00000109150</td>\n",
       "      <td>1.91314e-08</td>\n",
       "      <td>0.000102984</td>\n",
       "      <td>2.95097</td>\n",
       "      <td>Sncg Slc17a8_Cacnb3</td>\n",
       "    </tr>\n",
       "    <tr>\n",
       "      <th>116507</th>\n",
       "      <td>L6b Kcnip1_2</td>\n",
       "      <td>Krt80-205_ENSMUST00000230909</td>\n",
       "      <td>6.4883e-07</td>\n",
       "      <td>0.00356532</td>\n",
       "      <td>2.8745</td>\n",
       "      <td>L6b Kcnip1_2_Krt80</td>\n",
       "    </tr>\n",
       "    <tr>\n",
       "      <th>118796</th>\n",
       "      <td>Sncg Slc17a8</td>\n",
       "      <td>Atp5o-206_ENSMUST00000155452</td>\n",
       "      <td>6.01467e-09</td>\n",
       "      <td>3.2377e-05</td>\n",
       "      <td>2.69355</td>\n",
       "      <td>Sncg Slc17a8_Atp5o</td>\n",
       "    </tr>\n",
       "    <tr>\n",
       "      <th>75956</th>\n",
       "      <td>L6b Kcnip1_2</td>\n",
       "      <td>St6galnac5-201_ENSMUST00000044278</td>\n",
       "      <td>8.52668e-07</td>\n",
       "      <td>0.00468541</td>\n",
       "      <td>2.68449</td>\n",
       "      <td>L6b Kcnip1_2_St6galnac5</td>\n",
       "    </tr>\n",
       "    <tr>\n",
       "      <th>393690</th>\n",
       "      <td>Sst Myh8_2</td>\n",
       "      <td>Dync1i1-206_ENSMUST00000203520</td>\n",
       "      <td>4.0469e-21</td>\n",
       "      <td>1.08902e-17</td>\n",
       "      <td>2.67499</td>\n",
       "      <td>Sst Myh8_2_Dync1i1</td>\n",
       "    </tr>\n",
       "    <tr>\n",
       "      <th>84594</th>\n",
       "      <td>Sncg Slc17a8</td>\n",
       "      <td>Impdh1-209_ENSMUST00000162242</td>\n",
       "      <td>9.37485e-08</td>\n",
       "      <td>0.000504648</td>\n",
       "      <td>2.65715</td>\n",
       "      <td>Sncg Slc17a8_Impdh1</td>\n",
       "    </tr>\n",
       "    <tr>\n",
       "      <th>287305</th>\n",
       "      <td>L6 CT Nxph2_2</td>\n",
       "      <td>Ntm-209_ENSMUST00000151977</td>\n",
       "      <td>2.40782e-07</td>\n",
       "      <td>0.000721624</td>\n",
       "      <td>2.54155</td>\n",
       "      <td>L6 CT Nxph2_2_Ntm</td>\n",
       "    </tr>\n",
       "    <tr>\n",
       "      <th>54996</th>\n",
       "      <td>L6 IT Sulf_1</td>\n",
       "      <td>Rbfox1-208_ENSMUST00000231194</td>\n",
       "      <td>1.804e-25</td>\n",
       "      <td>1.10567e-21</td>\n",
       "      <td>2.36057</td>\n",
       "      <td>L6 IT Sulf_1_Rbfox1</td>\n",
       "    </tr>\n",
       "    <tr>\n",
       "      <th>87095</th>\n",
       "      <td>Sncg Slc17a8</td>\n",
       "      <td>9330179D12Rik-201_ENSMUST00000180569</td>\n",
       "      <td>1.05378e-06</td>\n",
       "      <td>0.0056725</td>\n",
       "      <td>2.29327</td>\n",
       "      <td>Sncg Slc17a8_9330179D12Rik</td>\n",
       "    </tr>\n",
       "    <tr>\n",
       "      <th>101366</th>\n",
       "      <td>Sncg Slc17a8</td>\n",
       "      <td>Ubl5-203_ENSMUST00000160124</td>\n",
       "      <td>3.0411e-08</td>\n",
       "      <td>0.000163703</td>\n",
       "      <td>2.23141</td>\n",
       "      <td>Sncg Slc17a8_Ubl5</td>\n",
       "    </tr>\n",
       "    <tr>\n",
       "      <th>89025</th>\n",
       "      <td>L6b Kcnip1_2</td>\n",
       "      <td>Gpi1-211_ENSMUST00000206603</td>\n",
       "      <td>5.97253e-10</td>\n",
       "      <td>3.28191e-06</td>\n",
       "      <td>2.22426</td>\n",
       "      <td>L6b Kcnip1_2_Gpi1</td>\n",
       "    </tr>\n",
       "    <tr>\n",
       "      <th>84761</th>\n",
       "      <td>Sncg Slc17a8</td>\n",
       "      <td>Chchd3-201_ENSMUST00000066379</td>\n",
       "      <td>6.44444e-09</td>\n",
       "      <td>3.46904e-05</td>\n",
       "      <td>2.20219</td>\n",
       "      <td>Sncg Slc17a8_Chchd3</td>\n",
       "    </tr>\n",
       "    <tr>\n",
       "      <th>129905</th>\n",
       "      <td>Lamp5 Lhx6</td>\n",
       "      <td>Zfp385b-211_ENSMUST00000171063</td>\n",
       "      <td>2.41147e-11</td>\n",
       "      <td>8.28341e-08</td>\n",
       "      <td>2.19804</td>\n",
       "      <td>Lamp5 Lhx6_Zfp385b</td>\n",
       "    </tr>\n",
       "    <tr>\n",
       "      <th>73869</th>\n",
       "      <td>L6b Kcnip1_2</td>\n",
       "      <td>Trim2-206_ENSMUST00000107695</td>\n",
       "      <td>3.79768e-07</td>\n",
       "      <td>0.00208683</td>\n",
       "      <td>2.18617</td>\n",
       "      <td>L6b Kcnip1_2_Trim2</td>\n",
       "    </tr>\n",
       "    <tr>\n",
       "      <th>115099</th>\n",
       "      <td>Sncg Slc17a8</td>\n",
       "      <td>Tsta3-204_ENSMUST00000229641</td>\n",
       "      <td>5.39984e-09</td>\n",
       "      <td>2.90673e-05</td>\n",
       "      <td>2.14882</td>\n",
       "      <td>Sncg Slc17a8_Tsta3</td>\n",
       "    </tr>\n",
       "    <tr>\n",
       "      <th>109690</th>\n",
       "      <td>Sncg Slc17a8</td>\n",
       "      <td>Gpr137b-201_ENSMUST00000021738</td>\n",
       "      <td>1.11174e-06</td>\n",
       "      <td>0.00598447</td>\n",
       "      <td>2.1243</td>\n",
       "      <td>Sncg Slc17a8_Gpr137b</td>\n",
       "    </tr>\n",
       "    <tr>\n",
       "      <th>83345</th>\n",
       "      <td>Sncg Slc17a8</td>\n",
       "      <td>Abhd11-201_ENSMUST00000046999</td>\n",
       "      <td>1.89628e-08</td>\n",
       "      <td>0.000102077</td>\n",
       "      <td>2.11623</td>\n",
       "      <td>Sncg Slc17a8_Abhd11</td>\n",
       "    </tr>\n",
       "    <tr>\n",
       "      <th>64435</th>\n",
       "      <td>Sncg Slc17a8</td>\n",
       "      <td>2310009B15Rik-202_ENSMUST00000193374</td>\n",
       "      <td>2.39463e-07</td>\n",
       "      <td>0.00128903</td>\n",
       "      <td>2.03645</td>\n",
       "      <td>Sncg Slc17a8_2310009B15Rik</td>\n",
       "    </tr>\n",
       "  </tbody>\n",
       "</table>\n",
       "</div>"
      ],
      "text/plain": [
       "                index                                  name        p_raw  \\\n",
       "98111    L6b Kcnip1_2          Nrn1l-201_ENSMUST00000060167  1.20735e-06   \n",
       "255138    Pvalb Vipr2         Snap25-202_ENSMUST00000110098  1.54105e-17   \n",
       "116269   Sncg Slc17a8         Cacnb3-202_ENSMUST00000109150  1.91314e-08   \n",
       "116507   L6b Kcnip1_2          Krt80-205_ENSMUST00000230909   6.4883e-07   \n",
       "118796   Sncg Slc17a8          Atp5o-206_ENSMUST00000155452  6.01467e-09   \n",
       "75956    L6b Kcnip1_2     St6galnac5-201_ENSMUST00000044278  8.52668e-07   \n",
       "393690     Sst Myh8_2        Dync1i1-206_ENSMUST00000203520   4.0469e-21   \n",
       "84594    Sncg Slc17a8         Impdh1-209_ENSMUST00000162242  9.37485e-08   \n",
       "287305  L6 CT Nxph2_2            Ntm-209_ENSMUST00000151977  2.40782e-07   \n",
       "54996    L6 IT Sulf_1         Rbfox1-208_ENSMUST00000231194    1.804e-25   \n",
       "87095    Sncg Slc17a8  9330179D12Rik-201_ENSMUST00000180569  1.05378e-06   \n",
       "101366   Sncg Slc17a8           Ubl5-203_ENSMUST00000160124   3.0411e-08   \n",
       "89025    L6b Kcnip1_2           Gpi1-211_ENSMUST00000206603  5.97253e-10   \n",
       "84761    Sncg Slc17a8         Chchd3-201_ENSMUST00000066379  6.44444e-09   \n",
       "129905     Lamp5 Lhx6        Zfp385b-211_ENSMUST00000171063  2.41147e-11   \n",
       "73869    L6b Kcnip1_2          Trim2-206_ENSMUST00000107695  3.79768e-07   \n",
       "115099   Sncg Slc17a8          Tsta3-204_ENSMUST00000229641  5.39984e-09   \n",
       "109690   Sncg Slc17a8        Gpr137b-201_ENSMUST00000021738  1.11174e-06   \n",
       "83345    Sncg Slc17a8         Abhd11-201_ENSMUST00000046999  1.89628e-08   \n",
       "64435    Sncg Slc17a8  2310009B15Rik-202_ENSMUST00000193374  2.39463e-07   \n",
       "\n",
       "             p_corr       es                  index_name  \n",
       "98111    0.00663437  4.01019          L6b Kcnip1_2_Nrn1l  \n",
       "255138  5.41525e-14  3.57294          Pvalb Vipr2_Snap25  \n",
       "116269  0.000102984  2.95097         Sncg Slc17a8_Cacnb3  \n",
       "116507   0.00356532   2.8745          L6b Kcnip1_2_Krt80  \n",
       "118796   3.2377e-05  2.69355          Sncg Slc17a8_Atp5o  \n",
       "75956    0.00468541  2.68449     L6b Kcnip1_2_St6galnac5  \n",
       "393690  1.08902e-17  2.67499          Sst Myh8_2_Dync1i1  \n",
       "84594   0.000504648  2.65715         Sncg Slc17a8_Impdh1  \n",
       "287305  0.000721624  2.54155           L6 CT Nxph2_2_Ntm  \n",
       "54996   1.10567e-21  2.36057         L6 IT Sulf_1_Rbfox1  \n",
       "87095     0.0056725  2.29327  Sncg Slc17a8_9330179D12Rik  \n",
       "101366  0.000163703  2.23141           Sncg Slc17a8_Ubl5  \n",
       "89025   3.28191e-06  2.22426           L6b Kcnip1_2_Gpi1  \n",
       "84761   3.46904e-05  2.20219         Sncg Slc17a8_Chchd3  \n",
       "129905  8.28341e-08  2.19804          Lamp5 Lhx6_Zfp385b  \n",
       "73869    0.00208683  2.18617          L6b Kcnip1_2_Trim2  \n",
       "115099  2.90673e-05  2.14882          Sncg Slc17a8_Tsta3  \n",
       "109690   0.00598447   2.1243        Sncg Slc17a8_Gpr137b  \n",
       "83345   0.000102077  2.11623         Sncg Slc17a8_Abhd11  \n",
       "64435    0.00128903  2.03645  Sncg Slc17a8_2310009B15Rik  "
      ]
     },
     "execution_count": 64,
     "metadata": {},
     "output_type": "execute_result"
    }
   ],
   "source": [
    "markers_isoform = markers_isoform[markers_isoform[\"index_name\"].isin(setdiff)].sort_values([\"es\", \"p_corr\"])\n",
    "\n",
    "markers_isoform = markers_isoform.query(f\"p_corr < {alpha}\")\n",
    "markers_isoform.sort_values(\"es\")[::-1][:20]"
   ]
  },
  {
   "cell_type": "code",
   "execution_count": 68,
   "metadata": {},
   "outputs": [
    {
     "data": {
      "text/plain": [
       "index\n",
       "L2/3 IT Cdh13 Sla     49\n",
       "L2/3 IT Macc1         30\n",
       "L2/3 IT S100a6        26\n",
       "L5 NP Slc17a8         28\n",
       "L6 CT Gpr139          47\n",
       "L6 CT Grp_1           19\n",
       "L6 CT Grp_2           20\n",
       "L6 CT Nxph2_1         14\n",
       "L6 CT Nxph2_2         13\n",
       "L6 IT Sulf_1          84\n",
       "L6 IT Sulf_2          29\n",
       "L6 IT Sulf_3          30\n",
       "L6 NP Trh             24\n",
       "L6b Kcnip1_1          40\n",
       "L6b Kcnip1_2          47\n",
       "L6b Ror1_1            54\n",
       "L6b Ror1_2            32\n",
       "L6b Rprm              53\n",
       "L6b Shisa6            45\n",
       "Lamp5 Egln3_1          9\n",
       "Lamp5 Egln3_2         14\n",
       "Lamp5 Lhx6            17\n",
       "Lamp5 Pdlim5           6\n",
       "Lamp5 Slc35d3         49\n",
       "Pvalb Calb1           27\n",
       "Pvalb Gpr149          45\n",
       "Pvalb Reln            12\n",
       "Pvalb Th              18\n",
       "Pvalb Vipr2           25\n",
       "Sncg                  15\n",
       "Sncg Slc17a8          67\n",
       "Sst C1ql3             53\n",
       "Sst Chodl             32\n",
       "Sst Crhr2_1           16\n",
       "Sst Crhr2_2           20\n",
       "Sst Etv1              19\n",
       "Sst Myh8_1             7\n",
       "Sst Myh8_2            10\n",
       "Vip C1ql1             19\n",
       "Vip Chat_1            23\n",
       "Vip Chat_2             2\n",
       "Vip Chat_3             5\n",
       "Vip Crispld2          11\n",
       "Vip Gpc3               9\n",
       "Vip Htr1f              6\n",
       "Vip Igfbp6            11\n",
       "Vip Lmo1              10\n",
       "Vip Serpinf1         107\n",
       "Name: name, dtype: int64"
      ]
     },
     "execution_count": 68,
     "metadata": {},
     "output_type": "execute_result"
    }
   ],
   "source": [
    "markers_isoform.groupby(\"index\")[\"name\"].nunique()"
   ]
  },
  {
   "cell_type": "code",
   "execution_count": null,
   "metadata": {},
   "outputs": [],
   "source": []
  }
 ],
 "metadata": {
  "kernelspec": {
   "display_name": "Python 3",
   "language": "python",
   "name": "python3"
  },
  "language_info": {
   "codemirror_mode": {
    "name": "ipython",
    "version": 3
   },
   "file_extension": ".py",
   "mimetype": "text/x-python",
   "name": "python",
   "nbconvert_exporter": "python",
   "pygments_lexer": "ipython3",
   "version": "3.7.4"
  }
 },
 "nbformat": 4,
 "nbformat_minor": 4
}
