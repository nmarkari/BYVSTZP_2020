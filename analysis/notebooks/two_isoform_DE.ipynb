{
 "cells": [
  {
   "cell_type": "markdown",
   "metadata": {},
   "source": [
    "# Two isoform DE"
   ]
  },
  {
   "cell_type": "code",
   "execution_count": 1,
   "metadata": {},
   "outputs": [],
   "source": [
    "import anndata\n",
    "import pandas as pd\n",
    "import numpy as np\n",
    "import matplotlib.pyplot as plt\n",
    "import matplotlib as mpl\n",
    "import matplotlib.patches as mpatches\n",
    "import scanpy as sc\n",
    "from scipy.stats import ks_2samp, ttest_ind\n",
    "import ast\n",
    "from scipy.sparse import csr_matrix\n",
    "import warnings\n",
    "warnings.filterwarnings('ignore')\n",
    "\n",
    "fsize=20\n",
    "\n",
    "plt.rcParams.update({'font.size': fsize})\n",
    "%config InlineBackend.figure_format = 'retina'"
   ]
  },
  {
   "cell_type": "code",
   "execution_count": 2,
   "metadata": {},
   "outputs": [],
   "source": [
    "cluster_cmap = {\n",
    "\"Astro\": (0.38823529411764707, 0.4745098039215686,  0.2235294117647059 ),  # 637939,\n",
    "\"Endo\" : (0.5490196078431373,  0.6352941176470588,  0.3215686274509804 ),  # 8ca252,\n",
    "\"SMC\"  : (0.7098039215686275,  0.8117647058823529,  0.4196078431372549 ),  # b5cf6b,\n",
    "\"VLMC\" : (0.807843137254902,   0.8588235294117647,  0.611764705882353  ),  # cedb9c,\n",
    "\"Low Quality\" : (0,0,0),\n",
    "\"L2/3 IT\" : (0.9921568627450981,  0.6823529411764706,  0.4196078431372549  ),  # fdae6b\n",
    "\"L5 ET\" : (0.9921568627450981,  0.8156862745098039,  0.6352941176470588  ),  # fdd0a2\n",
    "\"L5 IT\" : (0.5176470588235295,  0.23529411764705882, 0.2235294117647059 ),  # 843c39\n",
    "\"L5/6 NP\" : (0.6784313725490196,  0.28627450980392155, 0.2901960784313726 ),  # ad494a\n",
    "\"L6 CT\" : (0.8392156862745098,  0.3803921568627451,  0.4196078431372549 ),  # d6616b\n",
    "\"L6 IT\" : (0.9058823529411765,  0.5882352941176471,  0.611764705882353  ),  # e7969c\n",
    "\"L6 IT Car3\" : (1.0,                 0.4980392156862745,  0.054901960784313725),  # ff7f0e\n",
    "\"L6b\" : (1.0,                 0.7333333333333333,  0.47058823529411764 ),  # ffbb78\n",
    "\"Lamp5\" : (0.19215686274509805, 0.5098039215686274,  0.7411764705882353  ),  # 3182bd # blues\n",
    "\"Sncg\" : (0.4196078431372549,  0.6823529411764706,  0.8392156862745098  ),  # 6baed6\n",
    "\"Vip\" : (0.6196078431372549,  0.792156862745098,   0.8823529411764706  ),  # 9ecae1\n",
    "\"Sst\" : (0.7764705882352941,  0.8588235294117647,  0.9372549019607843  ),  # c6dbef\n",
    "\"Pvalb\":(0.7372549019607844,  0.7411764705882353,  0.8627450980392157  ),  # bcbddc\n",
    "}"
   ]
  },
  {
   "cell_type": "code",
   "execution_count": 3,
   "metadata": {},
   "outputs": [],
   "source": [
    "gene = anndata.read_h5ad(\"../../data/notebook/revision/gene.h5ad\")\n",
    "isoform = anndata.read_h5ad(\"../../data/notebook/revision/isoform.h5ad\")"
   ]
  },
  {
   "cell_type": "code",
   "execution_count": 4,
   "metadata": {},
   "outputs": [],
   "source": [
    "gene_id = gene.var[\"gene_id\"].values\n",
    "gene_names = gene.var[\"gene_name\"].values.astype(str)"
   ]
  },
  {
   "cell_type": "markdown",
   "metadata": {},
   "source": [
    "# Restrict to two isoform genes"
   ]
  },
  {
   "cell_type": "code",
   "execution_count": 5,
   "metadata": {},
   "outputs": [],
   "source": [
    "gene = gene[:,gene.var[\"num_isoforms\"]==2]"
   ]
  },
  {
   "cell_type": "code",
   "execution_count": 6,
   "metadata": {},
   "outputs": [
    {
     "name": "stdout",
     "output_type": "stream",
     "text": [
      "CPU times: user 28.3 ms, sys: 651 µs, total: 28.9 ms\n",
      "Wall time: 28.5 ms\n"
     ]
    }
   ],
   "source": [
    "%%time\n",
    "transcripts = []\n",
    "l = gene.var.txn_list.values\n",
    "for sublist in l:\n",
    "    sublist = ast.literal_eval(sublist)\n",
    "    for item in sublist:\n",
    "        transcripts.append(item)"
   ]
  },
  {
   "cell_type": "code",
   "execution_count": 7,
   "metadata": {},
   "outputs": [],
   "source": [
    "isoform = isoform[:,isoform.var[\"transcript_id\"].isin(transcripts)]"
   ]
  },
  {
   "cell_type": "code",
   "execution_count": 8,
   "metadata": {},
   "outputs": [
    {
     "name": "stdout",
     "output_type": "stream",
     "text": [
      "View of AnnData object with n_obs × n_vars = 6160 × 2654\n",
      "    obs: 'cluster_id', 'cluster_label', 'subclass_label', 'class_label', 'cluster_color', 'size', 'cell_id', 'subclass_id', 'class_id', 'cell_counts', 'percent_mito', 'n_genes', 'pass_count_filter', 'leiden', 'louvain'\n",
      "    var: 'transcript_id', 'gene_id', 'gene_name', 'transcript_name', 'length', 'txn_list', 'num_isoforms', 'gene_counts', 'dispersion', 'pass_disp_filter', 'highly_variable', 'means', 'dispersions', 'dispersions_norm'\n",
      "    uns: 'hvg', 'leiden', 'louvain', 'neighbors'\n",
      "    obsm: 'X_nca', 'X_nca_tsne', 'X_pca', 'X_pca_tsne'\n",
      "    layers: 'X', 'log1p', 'norm'\n",
      "    obsp: 'connectivities', 'distances'\n",
      "View of AnnData object with n_obs × n_vars = 6160 × 5308\n",
      "    obs: 'cluster_id', 'cluster_label', 'subclass_label', 'class_label', 'cluster_color', 'size', 'cell_id', 'subclass_id', 'class_id', 'cell_counts', 'leiden', 'louvain'\n",
      "    var: 'transcript_id', 'gene_id', 'gene_name', 'transcript_name', 'length', 'gene_counts', 'highly_variable', 'means', 'dispersions', 'dispersions_norm'\n",
      "    uns: 'hvg', 'leiden', 'louvain', 'neighbors'\n",
      "    obsm: 'X_nca', 'X_nca_tsne', 'X_pca', 'X_pca_tsne'\n",
      "    layers: 'X', 'log1p', 'norm'\n",
      "    obsp: 'connectivities', 'distances'\n"
     ]
    }
   ],
   "source": [
    "print(gene)\n",
    "print(isoform)"
   ]
  },
  {
   "cell_type": "code",
   "execution_count": 9,
   "metadata": {},
   "outputs": [],
   "source": [
    "from statsmodels.stats.multitest import multipletests\n",
    "from sklearn.preprocessing import LabelEncoder\n",
    "from scipy.stats import ks_2samp, ttest_ind\n",
    "import numpy as np\n",
    "import logging\n",
    "\n",
    "logger = logging.getLogger()\n",
    "logger.setLevel(logging.DEBUG)\n",
    "logging.basicConfig(format='%(asctime)s - %(message)s', datefmt='%d-%b-%y %H:%M:%S')\n",
    "\n",
    "\n",
    "\n",
    "def split_by_target(mat, targets, target, axis=0):\n",
    "    \"\"\"\n",
    "    Split the rows of mat by the proper assignment\n",
    "    \n",
    "    mat = ndarray\n",
    "    targets, length is equal to number of components (axis=0) or features (axis=1)\n",
    "    target is a singular element from unique(assignments/features) \n",
    "    \"\"\"\n",
    "    if axis==0 and len(targets) != mat.shape[axis]: return -1\n",
    "    if axis==1 and len(targets) != mat.shape[axis]: return -1\n",
    "        \n",
    "    mask = targets == target\n",
    "    \n",
    "    if axis==0:\n",
    "        t_mat = mat[mask]  # target matrix\n",
    "        c_mat = mat[~mask] # complement matrix\n",
    "    elif axis==1:\n",
    "        t_mat = mat[:, mask]  # target matrix\n",
    "        c_mat = mat[:, ~mask] # complement matrix\n",
    "    \n",
    "    return (t_mat, c_mat)\n",
    "\n",
    "def correct_pval(pval, method):\n",
    "    nfeat = pval.shape[1]\n",
    "    \n",
    "    if method == 'benjamini-hochberg':\n",
    "        _, pval_corr, _, _ = multipletests(pval, alpha=0.01, method='fdr_bh')\n",
    "    elif method == 'bonferroni':\n",
    "        pval_corr = np.minimum(pval * nfeat, 1.0)\n",
    "        \n",
    "    return pval_corr\n",
    "\n",
    "def dexpress(mat, components, features, assignments, **kwargs):\n",
    "    \"\"\"\n",
    "    mat: ndarray\n",
    "    components: nparray\n",
    "    features: nparray\n",
    "    assignments: nparray, length is equal to length of components\n",
    "    \"\"\"\n",
    "    nan_cutoff = kwargs.get(\"nan_cutoff\", 0)\n",
    "    \n",
    "    unique = np.unique(assignments)\n",
    "        \n",
    "    ncomp = components.shape[0]\n",
    "    nfeat = features.shape[0]\n",
    "    nuniq = unique.shape[0]\n",
    "    \n",
    "    pval = np.empty((nuniq, nfeat)) # unique assignments by features \n",
    "    pval_corr = np.empty((nuniq, nfeat)) # unique assignments by features \n",
    "    stat = np.empty((nuniq, nfeat)) # unique assignments by features \n",
    "    \n",
    "    pval.fill(np.nan)\n",
    "    pval_corr.fill(np.nan)\n",
    "    stat.fill(np.nan)\n",
    "\n",
    "    for tidx, t in enumerate(unique):\n",
    "        logging.debug(\"{} of {} assignments: {}\".format(tidx+1, nuniq, t))\n",
    "        t_mat, c_mat = split_by_target(mat, assignments, t, axis=0)\n",
    "        \n",
    "        pvalue = np.nan\n",
    "        statistic = np.nan\n",
    "\n",
    "        # Keep only the genes for which it is in at least nan_cutoff*ncellsinclusters\n",
    "        mask = np.asarray((t_mat>0).sum(axis=0) > nan_cutoff*t_mat.shape[0]).reshape(-1)\n",
    "\n",
    "        t_mat = t_mat[:, mask]\n",
    "        c_mat = c_mat[:, mask]\n",
    "        # added\n",
    "\n",
    "        # added\n",
    "        if mask.sum()>0:\n",
    "            print(t)\n",
    "            print(t_mat.shape, c_mat.shape)\n",
    "            test = ttest_ind(t_mat, c_mat, nan_policy=\"propagate\")\n",
    "            pvalue = test.pvalue\n",
    "            statistic = test.statistic\n",
    "                \n",
    "        pval[tidx,:][mask] = pvalue\n",
    "        stat[tidx,:][mask] = statistic\n",
    "    \n",
    "    return (pval, stat)"
   ]
  },
  {
   "cell_type": "code",
   "execution_count": 10,
   "metadata": {},
   "outputs": [],
   "source": [
    "mask = np.logical_or(gene.obs.class_label == \"Glutamatergic\", gene.obs.class_label == \"GABAergic\")\n",
    "\n",
    "c_gene = gene[mask]\n",
    "c_isoform = isoform[mask]"
   ]
  },
  {
   "cell_type": "code",
   "execution_count": 12,
   "metadata": {},
   "outputs": [
    {
     "name": "stderr",
     "output_type": "stream",
     "text": [
      "23-Oct-20 11:47:00 - 1 of 2 assignments: GABAergic\n"
     ]
    },
    {
     "name": "stdout",
     "output_type": "stream",
     "text": [
      "GABAergic\n",
      "(1971, 446) (4136, 446)\n"
     ]
    },
    {
     "ename": "ValueError",
     "evalue": "dimension mismatch",
     "output_type": "error",
     "traceback": [
      "\u001b[0;31m---------------------------------------------------------------------------\u001b[0m",
      "\u001b[0;31mValueError\u001b[0m                                Traceback (most recent call last)",
      "\u001b[0;32m<timed exec>\u001b[0m in \u001b[0;36m<module>\u001b[0;34m\u001b[0m\n",
      "\u001b[0;32m<ipython-input-9-633b2c85de9e>\u001b[0m in \u001b[0;36mdexpress\u001b[0;34m(mat, components, features, assignments, **kwargs)\u001b[0m\n\u001b[1;32m     84\u001b[0m             \u001b[0mprint\u001b[0m\u001b[0;34m(\u001b[0m\u001b[0mt\u001b[0m\u001b[0;34m)\u001b[0m\u001b[0;34m\u001b[0m\u001b[0;34m\u001b[0m\u001b[0m\n\u001b[1;32m     85\u001b[0m             \u001b[0mprint\u001b[0m\u001b[0;34m(\u001b[0m\u001b[0mt_mat\u001b[0m\u001b[0;34m.\u001b[0m\u001b[0mshape\u001b[0m\u001b[0;34m,\u001b[0m \u001b[0mc_mat\u001b[0m\u001b[0;34m.\u001b[0m\u001b[0mshape\u001b[0m\u001b[0;34m)\u001b[0m\u001b[0;34m\u001b[0m\u001b[0;34m\u001b[0m\u001b[0m\n\u001b[0;32m---> 86\u001b[0;31m             \u001b[0mtest\u001b[0m \u001b[0;34m=\u001b[0m \u001b[0mttest_ind\u001b[0m\u001b[0;34m(\u001b[0m\u001b[0mt_mat\u001b[0m\u001b[0;34m,\u001b[0m \u001b[0mc_mat\u001b[0m\u001b[0;34m,\u001b[0m \u001b[0mnan_policy\u001b[0m\u001b[0;34m=\u001b[0m\u001b[0;34m\"propagate\"\u001b[0m\u001b[0;34m)\u001b[0m\u001b[0;34m\u001b[0m\u001b[0;34m\u001b[0m\u001b[0m\n\u001b[0m\u001b[1;32m     87\u001b[0m             \u001b[0mpvalue\u001b[0m \u001b[0;34m=\u001b[0m \u001b[0mtest\u001b[0m\u001b[0;34m.\u001b[0m\u001b[0mpvalue\u001b[0m\u001b[0;34m\u001b[0m\u001b[0;34m\u001b[0m\u001b[0m\n\u001b[1;32m     88\u001b[0m             \u001b[0mstatistic\u001b[0m \u001b[0;34m=\u001b[0m \u001b[0mtest\u001b[0m\u001b[0;34m.\u001b[0m\u001b[0mstatistic\u001b[0m\u001b[0;34m\u001b[0m\u001b[0;34m\u001b[0m\u001b[0m\n",
      "\u001b[0;32m~/bin/miniconda3/lib/python3.7/site-packages/scipy/stats/stats.py\u001b[0m in \u001b[0;36mttest_ind\u001b[0;34m(a, b, axis, equal_var, nan_policy)\u001b[0m\n\u001b[1;32m   5252\u001b[0m         \u001b[0;32mreturn\u001b[0m \u001b[0mTtest_indResult\u001b[0m\u001b[0;34m(\u001b[0m\u001b[0mnp\u001b[0m\u001b[0;34m.\u001b[0m\u001b[0mnan\u001b[0m\u001b[0;34m,\u001b[0m \u001b[0mnp\u001b[0m\u001b[0;34m.\u001b[0m\u001b[0mnan\u001b[0m\u001b[0;34m)\u001b[0m\u001b[0;34m\u001b[0m\u001b[0;34m\u001b[0m\u001b[0m\n\u001b[1;32m   5253\u001b[0m \u001b[0;34m\u001b[0m\u001b[0m\n\u001b[0;32m-> 5254\u001b[0;31m     \u001b[0mv1\u001b[0m \u001b[0;34m=\u001b[0m \u001b[0mnp\u001b[0m\u001b[0;34m.\u001b[0m\u001b[0mvar\u001b[0m\u001b[0;34m(\u001b[0m\u001b[0ma\u001b[0m\u001b[0;34m,\u001b[0m \u001b[0maxis\u001b[0m\u001b[0;34m,\u001b[0m \u001b[0mddof\u001b[0m\u001b[0;34m=\u001b[0m\u001b[0;36m1\u001b[0m\u001b[0;34m)\u001b[0m\u001b[0;34m\u001b[0m\u001b[0;34m\u001b[0m\u001b[0m\n\u001b[0m\u001b[1;32m   5255\u001b[0m     \u001b[0mv2\u001b[0m \u001b[0;34m=\u001b[0m \u001b[0mnp\u001b[0m\u001b[0;34m.\u001b[0m\u001b[0mvar\u001b[0m\u001b[0;34m(\u001b[0m\u001b[0mb\u001b[0m\u001b[0;34m,\u001b[0m \u001b[0maxis\u001b[0m\u001b[0;34m,\u001b[0m \u001b[0mddof\u001b[0m\u001b[0;34m=\u001b[0m\u001b[0;36m1\u001b[0m\u001b[0;34m)\u001b[0m\u001b[0;34m\u001b[0m\u001b[0;34m\u001b[0m\u001b[0m\n\u001b[1;32m   5256\u001b[0m     \u001b[0mn1\u001b[0m \u001b[0;34m=\u001b[0m \u001b[0ma\u001b[0m\u001b[0;34m.\u001b[0m\u001b[0mshape\u001b[0m\u001b[0;34m[\u001b[0m\u001b[0maxis\u001b[0m\u001b[0;34m]\u001b[0m\u001b[0;34m\u001b[0m\u001b[0;34m\u001b[0m\u001b[0m\n",
      "\u001b[0;32m<__array_function__ internals>\u001b[0m in \u001b[0;36mvar\u001b[0;34m(*args, **kwargs)\u001b[0m\n",
      "\u001b[0;32m~/bin/miniconda3/lib/python3.7/site-packages/numpy/core/fromnumeric.py\u001b[0m in \u001b[0;36mvar\u001b[0;34m(a, axis, dtype, out, ddof, keepdims)\u001b[0m\n\u001b[1;32m   3582\u001b[0m \u001b[0;34m\u001b[0m\u001b[0m\n\u001b[1;32m   3583\u001b[0m     return _methods._var(a, axis=axis, dtype=dtype, out=out, ddof=ddof,\n\u001b[0;32m-> 3584\u001b[0;31m                          **kwargs)\n\u001b[0m\u001b[1;32m   3585\u001b[0m \u001b[0;34m\u001b[0m\u001b[0m\n\u001b[1;32m   3586\u001b[0m \u001b[0;34m\u001b[0m\u001b[0m\n",
      "\u001b[0;32m~/bin/miniconda3/lib/python3.7/site-packages/numpy/core/_methods.py\u001b[0m in \u001b[0;36m_var\u001b[0;34m(a, axis, dtype, out, ddof, keepdims)\u001b[0m\n\u001b[1;32m    195\u001b[0m         \u001b[0mx\u001b[0m \u001b[0;34m=\u001b[0m \u001b[0mum\u001b[0m\u001b[0;34m.\u001b[0m\u001b[0mmultiply\u001b[0m\u001b[0;34m(\u001b[0m\u001b[0mx\u001b[0m\u001b[0;34m,\u001b[0m \u001b[0mx\u001b[0m\u001b[0;34m,\u001b[0m \u001b[0mout\u001b[0m\u001b[0;34m=\u001b[0m\u001b[0mx\u001b[0m\u001b[0;34m)\u001b[0m\u001b[0;34m\u001b[0m\u001b[0;34m\u001b[0m\u001b[0m\n\u001b[1;32m    196\u001b[0m     \u001b[0;32melse\u001b[0m\u001b[0;34m:\u001b[0m\u001b[0;34m\u001b[0m\u001b[0;34m\u001b[0m\u001b[0m\n\u001b[0;32m--> 197\u001b[0;31m         \u001b[0mx\u001b[0m \u001b[0;34m=\u001b[0m \u001b[0mum\u001b[0m\u001b[0;34m.\u001b[0m\u001b[0mmultiply\u001b[0m\u001b[0;34m(\u001b[0m\u001b[0mx\u001b[0m\u001b[0;34m,\u001b[0m \u001b[0mum\u001b[0m\u001b[0;34m.\u001b[0m\u001b[0mconjugate\u001b[0m\u001b[0;34m(\u001b[0m\u001b[0mx\u001b[0m\u001b[0;34m)\u001b[0m\u001b[0;34m,\u001b[0m \u001b[0mout\u001b[0m\u001b[0;34m=\u001b[0m\u001b[0mx\u001b[0m\u001b[0;34m)\u001b[0m\u001b[0;34m.\u001b[0m\u001b[0mreal\u001b[0m\u001b[0;34m\u001b[0m\u001b[0;34m\u001b[0m\u001b[0m\n\u001b[0m\u001b[1;32m    198\u001b[0m \u001b[0;34m\u001b[0m\u001b[0m\n\u001b[1;32m    199\u001b[0m     \u001b[0mret\u001b[0m \u001b[0;34m=\u001b[0m \u001b[0mumr_sum\u001b[0m\u001b[0;34m(\u001b[0m\u001b[0mx\u001b[0m\u001b[0;34m,\u001b[0m \u001b[0maxis\u001b[0m\u001b[0;34m,\u001b[0m \u001b[0mdtype\u001b[0m\u001b[0;34m,\u001b[0m \u001b[0mout\u001b[0m\u001b[0;34m,\u001b[0m \u001b[0mkeepdims\u001b[0m\u001b[0;34m)\u001b[0m\u001b[0;34m\u001b[0m\u001b[0;34m\u001b[0m\u001b[0m\n",
      "\u001b[0;32m~/bin/miniconda3/lib/python3.7/site-packages/scipy/sparse/base.py\u001b[0m in \u001b[0;36m__mul__\u001b[0;34m(self, other)\u001b[0m\n\u001b[1;32m    481\u001b[0m         \u001b[0;32mif\u001b[0m \u001b[0missparse\u001b[0m\u001b[0;34m(\u001b[0m\u001b[0mother\u001b[0m\u001b[0;34m)\u001b[0m\u001b[0;34m:\u001b[0m\u001b[0;34m\u001b[0m\u001b[0;34m\u001b[0m\u001b[0m\n\u001b[1;32m    482\u001b[0m             \u001b[0;32mif\u001b[0m \u001b[0mself\u001b[0m\u001b[0;34m.\u001b[0m\u001b[0mshape\u001b[0m\u001b[0;34m[\u001b[0m\u001b[0;36m1\u001b[0m\u001b[0;34m]\u001b[0m \u001b[0;34m!=\u001b[0m \u001b[0mother\u001b[0m\u001b[0;34m.\u001b[0m\u001b[0mshape\u001b[0m\u001b[0;34m[\u001b[0m\u001b[0;36m0\u001b[0m\u001b[0;34m]\u001b[0m\u001b[0;34m:\u001b[0m\u001b[0;34m\u001b[0m\u001b[0;34m\u001b[0m\u001b[0m\n\u001b[0;32m--> 483\u001b[0;31m                 \u001b[0;32mraise\u001b[0m \u001b[0mValueError\u001b[0m\u001b[0;34m(\u001b[0m\u001b[0;34m'dimension mismatch'\u001b[0m\u001b[0;34m)\u001b[0m\u001b[0;34m\u001b[0m\u001b[0;34m\u001b[0m\u001b[0m\n\u001b[0m\u001b[1;32m    484\u001b[0m             \u001b[0;32mreturn\u001b[0m \u001b[0mself\u001b[0m\u001b[0;34m.\u001b[0m\u001b[0m_mul_sparse_matrix\u001b[0m\u001b[0;34m(\u001b[0m\u001b[0mother\u001b[0m\u001b[0;34m)\u001b[0m\u001b[0;34m\u001b[0m\u001b[0;34m\u001b[0m\u001b[0m\n\u001b[1;32m    485\u001b[0m \u001b[0;34m\u001b[0m\u001b[0m\n",
      "\u001b[0;31mValueError\u001b[0m: dimension mismatch"
     ]
    }
   ],
   "source": [
    "%%time\n",
    "mat           = c_gene.layers[\"log1p\"]\n",
    "components    = c_gene.obs.cell_id.values\n",
    "gene_features = c_gene.var.gene_name.values\n",
    "assignments   = c_gene.obs.class_label.values\n",
    "\n",
    "unique = np.unique(assignments)\n",
    "nan_cutoff = 0.75 # of elements in cluster\n",
    "corr_method = \"bonferroni\"\n",
    "\n",
    "\n",
    "p_gene_raw, stat = dexpress(mat, components, gene_features, assignments, \n",
    "                      nan_cutoff=nan_cutoff)\n",
    "\n",
    "p_gene = correct_pval(p_gene_raw, corr_method)\n",
    "s_gene = stat"
   ]
  },
  {
   "cell_type": "code",
   "execution_count": null,
   "metadata": {},
   "outputs": [],
   "source": [
    "%%time\n",
    "mat         = c_isoform.layers[\"log1p\"].todense() # expects dense matrix\n",
    "components  = c_isoform.obs.cell_id.values\n",
    "features    = c_isoform.var.transcript_name.values\n",
    "assignments = c_isoform.obs.class_label.values\n",
    "\n",
    "unique = np.unique(assignments)\n",
    "nan_cutoff = 0.75 # of elements in cluster\n",
    "corr_method = \"bonferroni\"\n",
    "\n",
    "\n",
    "p_isoform_raw, stat = dexpress(mat, components, features, assignments, \n",
    "                      nan_cutoff=nan_cutoff)\n",
    "\n",
    "p_isoform = correct_pval(p_isoform_raw/2, corr_method)\n",
    "s_isoform = stat"
   ]
  },
  {
   "cell_type": "code",
   "execution_count": null,
   "metadata": {},
   "outputs": [],
   "source": [
    "# Want to make a mask to return the isoforms for which the isoform is differential but the gene is not"
   ]
  },
  {
   "cell_type": "code",
   "execution_count": 14,
   "metadata": {},
   "outputs": [
    {
     "ename": "NameError",
     "evalue": "name 'p_gene' is not defined",
     "output_type": "error",
     "traceback": [
      "\u001b[0;31m---------------------------------------------------------------------------\u001b[0m",
      "\u001b[0;31mNameError\u001b[0m                                 Traceback (most recent call last)",
      "\u001b[0;32m<ipython-input-14-c012002a7c4f>\u001b[0m in \u001b[0;36m<module>\u001b[0;34m\u001b[0m\n\u001b[1;32m      2\u001b[0m \u001b[0;34m\u001b[0m\u001b[0m\n\u001b[1;32m      3\u001b[0m \u001b[0mp1\u001b[0m \u001b[0;34m=\u001b[0m \u001b[0mp_isoform\u001b[0m\u001b[0;34m\u001b[0m\u001b[0;34m\u001b[0m\u001b[0m\n\u001b[0;32m----> 4\u001b[0;31m \u001b[0mp2\u001b[0m \u001b[0;34m=\u001b[0m \u001b[0mnp\u001b[0m\u001b[0;34m.\u001b[0m\u001b[0mrepeat\u001b[0m\u001b[0;34m(\u001b[0m\u001b[0mp_gene\u001b[0m\u001b[0;34m,\u001b[0m \u001b[0mrepeat_col\u001b[0m\u001b[0;34m,\u001b[0m \u001b[0maxis\u001b[0m\u001b[0;34m=\u001b[0m\u001b[0;36m1\u001b[0m\u001b[0;34m)\u001b[0m\u001b[0;34m\u001b[0m\u001b[0;34m\u001b[0m\u001b[0m\n\u001b[0m\u001b[1;32m      5\u001b[0m \u001b[0;34m\u001b[0m\u001b[0m\n\u001b[1;32m      6\u001b[0m \u001b[0ms1\u001b[0m \u001b[0;34m=\u001b[0m \u001b[0ms_isoform\u001b[0m\u001b[0;34m\u001b[0m\u001b[0;34m\u001b[0m\u001b[0m\n",
      "\u001b[0;31mNameError\u001b[0m: name 'p_gene' is not defined"
     ]
    }
   ],
   "source": [
    "repeat_col = c_gene.var[\"num_isoforms\"]\n",
    "\n",
    "p1 = p_isoform\n",
    "p2 = np.repeat(p_gene, repeat_col, axis=1)\n",
    "\n",
    "s1 = s_isoform\n",
    "s2 = np.repeat(s_gene, repeat_col, axis=1)"
   ]
  },
  {
   "cell_type": "code",
   "execution_count": null,
   "metadata": {},
   "outputs": [],
   "source": [
    "alpha = 0.05\n",
    "tcrit = 0\n",
    "\n",
    "\n",
    "bool_mask = np.ones(p1.shape, dtype=bool)\n",
    "\n",
    "p1_mask = np.logical_and(p1<alpha, s1>tcrit)\n",
    "\n",
    "p2_mask = np.logical_or(np.logical_and(p2>alpha, s2>tcrit), np.logical_and(p2<alpha, s2<tcrit))\n",
    "\n",
    "mask = np.logical_and(p1_mask, p2_mask)\n",
    "bool_mask = mask"
   ]
  },
  {
   "cell_type": "code",
   "execution_count": null,
   "metadata": {},
   "outputs": [],
   "source": [
    "bool_mask.sum()"
   ]
  },
  {
   "cell_type": "code",
   "execution_count": null,
   "metadata": {},
   "outputs": [],
   "source": [
    "unique = c_gene.obs.class_label.unique()"
   ]
  },
  {
   "cell_type": "code",
   "execution_count": null,
   "metadata": {},
   "outputs": [],
   "source": [
    "unique"
   ]
  },
  {
   "cell_type": "code",
   "execution_count": null,
   "metadata": {},
   "outputs": [],
   "source": [
    "markers_gene = pd.DataFrame(index=unique, columns=[\"transcript_name\", \"p_raw\", \"p_bonferroni\"])\n",
    "markers_isoform = pd.DataFrame(index=unique, columns=[\"transcript_name\", \"p_raw\", \"p_bonferroni\"])"
   ]
  },
  {
   "cell_type": "code",
   "execution_count": null,
   "metadata": {},
   "outputs": [],
   "source": [
    "isoform_features = isoform.var.transcript_name.values\n",
    "\n",
    "for uidx, u in enumerate(unique):\n",
    "    mask = np.logical_and(bool_mask[uidx], bool_mask.sum(axis=0)==1)\n",
    "    \n",
    "    p = p_isoform[uidx][mask]\n",
    "    p_raw = p_isoform_raw[uidx][mask]\n",
    "    \n",
    "    psort = np.argsort(p)\n",
    "    \n",
    "    fsorted = features[mask][psort]\n",
    "    psorted = p[psort]\n",
    "    p_raw_sorted = p_raw[psort]\n",
    "    \n",
    "    markers_isoform.loc[u][\"transcript_name\"] = fsorted\n",
    "    markers_isoform.loc[u][\"p_raw\"] = p_raw_sorted\n",
    "    markers_isoform.loc[u][\"p_bonferroni\"] = psorted"
   ]
  },
  {
   "cell_type": "code",
   "execution_count": null,
   "metadata": {},
   "outputs": [],
   "source": [
    "markers_isoform"
   ]
  },
  {
   "cell_type": "markdown",
   "metadata": {},
   "source": [
    "`GABAergic Prkcb-201`"
   ]
  },
  {
   "cell_type": "code",
   "execution_count": null,
   "metadata": {},
   "outputs": [],
   "source": [
    "markers_isoform.loc['GABAergic'][\"transcript_name\"]"
   ]
  },
  {
   "cell_type": "code",
   "execution_count": null,
   "metadata": {},
   "outputs": [],
   "source": [
    "markers_isoform.loc['Glutamatergic'][\"transcript_name\"]"
   ]
  },
  {
   "cell_type": "code",
   "execution_count": null,
   "metadata": {},
   "outputs": [],
   "source": [
    "specific_cluster = \"Glutamatergic\"\n",
    "specific_isoform = \"Clic4-202\"\n",
    "specific_gene = \"\".join(specific_isoform.split(\"-\")[:-1])"
   ]
  },
  {
   "cell_type": "code",
   "execution_count": null,
   "metadata": {},
   "outputs": [],
   "source": [
    "logger.setLevel(logging.ERROR)"
   ]
  },
  {
   "cell_type": "code",
   "execution_count": null,
   "metadata": {},
   "outputs": [],
   "source": [
    "fig, ax = plt.subplots(figsize=(15,10), nrows=2, sharex=True)\n",
    "fig.subplots_adjust(hspace=0, wspace=0)\n",
    "\n",
    "unique = np.unique(gene.obs.class_label)\n",
    "unique = np.delete(unique, np.where(unique==\"Low Quality\"))\n",
    "unique = np.delete(unique, np.where(unique==\"Non-Neuronal\"))\n",
    "labels = unique\n",
    "lidx = np.arange(1, len(labels)+1)  # the label locations\n",
    "midx = np.where(unique==specific_cluster)[0][0]\n",
    "#######3# Gene\n",
    "x = []\n",
    "for c in unique:\n",
    "    x.append(np.asarray(gene[gene.obs.class_label==c][:,gene.var.gene_name==specific_gene].layers[\"log1p\"]).reshape(-1).tolist())\n",
    "\n",
    "parts = ax[0].violinplot(x, showmedians=False, showextrema=False)\n",
    "for pcidx, pc in enumerate(parts['bodies']):\n",
    "    pc.set_facecolor('grey')\n",
    "    pc.set_edgecolor('black')\n",
    "    pc.set_alpha(1)\n",
    "    if pcidx == midx:\n",
    "        pc.set_facecolor(\"#D43F3A\")\n",
    "\n",
    "medians = [np.median(i) for i in x]\n",
    "ax[0].scatter(lidx, medians, marker='o', color='white', s=30, zorder=3)\n",
    "\n",
    "#ax[0].axhline(y=medians[midx], color=\"k\")\n",
    "ax[0].set_ylabel(\"Gene $log(TPM + 1)$\")\n",
    "\n",
    "######## Isoform\n",
    "x = []\n",
    "for c in unique:\n",
    "    x.append(np.asarray(isoform[isoform.obs.class_label==c][:,isoform.var.transcript_name==specific_isoform].layers[\"log1p\"].todense()).reshape(-1).tolist())\n",
    "\n",
    "parts = ax[1].violinplot(x, showmedians=False, showextrema=False)\n",
    "for pcidx, pc in enumerate(parts['bodies']):\n",
    "    pc.set_facecolor('grey')\n",
    "    pc.set_edgecolor('black')\n",
    "    pc.set_alpha(1)\n",
    "    if pcidx == midx:\n",
    "        pc.set_facecolor(\"#D43F3A\")\n",
    "\n",
    "ax[0].set_ylim(0)\n",
    "medians = [np.median(i) for i in x]\n",
    "ax[1].scatter(lidx, medians, marker='o', color='white', s=30, zorder=3)\n",
    "ax[1].set_xticks(lidx)\n",
    "ax[1].set_xticklabels(labels, rotation=45, ha=\"right\")\n",
    "ax[1].set_ylabel(\"Isoform $log(TPM + 1)$\")\n",
    "ymin, ymax = ax[0].get_ylim()\n",
    "ax[1].set_ylim((ymin, ymax))\n",
    "ax[0].set_title(\"{} gene & {} isoform expression\".format(specific_gene, specific_isoform))\n",
    "#plt.savefig(\"./level_2_fig/hidden_gene_violin_{}.png\".format(specific_gene), bbox_inches='tight',dpi=300)\n",
    "plt.show()"
   ]
  },
  {
   "cell_type": "code",
   "execution_count": null,
   "metadata": {},
   "outputs": [],
   "source": [
    "complement_color = (0.8, 0.8, 0.8, 1.0)\n",
    "\n",
    "fig, ax = plt.subplots(figsize=(30,10), ncols=3)\n",
    "\n",
    "x = gene.obsm[\"X_nca_tsne\"][:,0]\n",
    "y = gene.obsm[\"X_nca_tsne\"][:,1]\n",
    "c = np.asarray(gene[:, gene.var.gene_name==specific_gene].layers[\"log1p\"]).reshape(-1)\n",
    "cmap=\"Greys\"\n",
    "alpha = 0.75\n",
    "ax[0].set_title(\"Non-differential gene: {}\".format(specific_gene))\n",
    "\n",
    "ax[0].scatter(x, y, c=c, cmap=cmap, alpha=alpha)\n",
    "ax[0].set_axis_off()\n",
    "\n",
    "\n",
    "x = gene.obsm[\"X_nca_tsne\"][:,0]\n",
    "y = gene.obsm[\"X_nca_tsne\"][:,1]\n",
    "c = np.asarray(isoform[:, isoform.var.transcript_name==specific_isoform].layers[\"log1p\"].todense()).reshape(-1)\n",
    "cmap=\"Greys\"\n",
    "alpha = 0.75\n",
    "ax[1].set_title(\"Differential isoform: {}\".format(specific_isoform))\n",
    "\n",
    "ax[1].scatter(x, y, c=c, cmap=cmap, alpha=alpha)\n",
    "ax[1].set_axis_off()\n",
    "\n",
    "x = gene.obsm[\"X_nca_tsne\"][:,0]\n",
    "y = gene.obsm[\"X_nca_tsne\"][:,1]\n",
    "c = gene.obs[\"subclass_label\"]==specific_cluster\n",
    "c = gene.obs[\"subclass_label\"].astype(str).map(cluster_cmap).tolist()\n",
    "indices = np.where(gene.obs[\"class_label\"]!=specific_cluster)[0]\n",
    "replacements=[complement_color]*len(indices)\n",
    "for (index, replacement) in zip(indices, replacements):\n",
    "    c[index] = replacement\n",
    "alpha=0.75\n",
    "cmap=\"nipy_spectral_r\"\n",
    "\n",
    "ax[2].scatter(x, y, c=c, cmap=cmap, alpha=alpha)\n",
    "ax[2].set_axis_off()\n",
    "ax[2].set_title(\"Cluster: {}\".format(specific_cluster))\n",
    "#plt.savefig(\"./level_2_fig/hidden_gene_nca_{}.png\".format(specific_gene), bbox_inches='tight',dpi=300)\n",
    "plt.show()"
   ]
  },
  {
   "cell_type": "code",
   "execution_count": 15,
   "metadata": {},
   "outputs": [
    {
     "data": {
      "text/html": [
       "<div>\n",
       "<style scoped>\n",
       "    .dataframe tbody tr th:only-of-type {\n",
       "        vertical-align: middle;\n",
       "    }\n",
       "\n",
       "    .dataframe tbody tr th {\n",
       "        vertical-align: top;\n",
       "    }\n",
       "\n",
       "    .dataframe thead th {\n",
       "        text-align: right;\n",
       "    }\n",
       "</style>\n",
       "<table border=\"1\" class=\"dataframe\">\n",
       "  <thead>\n",
       "    <tr style=\"text-align: right;\">\n",
       "      <th></th>\n",
       "      <th>transcript_id</th>\n",
       "      <th>gene_id</th>\n",
       "      <th>gene_name</th>\n",
       "      <th>transcript_name</th>\n",
       "      <th>length</th>\n",
       "      <th>gene_counts</th>\n",
       "      <th>highly_variable</th>\n",
       "      <th>means</th>\n",
       "      <th>dispersions</th>\n",
       "      <th>dispersions_norm</th>\n",
       "    </tr>\n",
       "  </thead>\n",
       "  <tbody>\n",
       "  </tbody>\n",
       "</table>\n",
       "</div>"
      ],
      "text/plain": [
       "Empty DataFrameView\n",
       "Columns: [transcript_id, gene_id, gene_name, transcript_name, length, gene_counts, highly_variable, means, dispersions, dispersions_norm]\n",
       "Index: []"
      ]
     },
     "execution_count": 15,
     "metadata": {},
     "output_type": "execute_result"
    }
   ],
   "source": [
    "isoform[:,isoform.var.gene_name==\"Clic4\"].var"
   ]
  },
  {
   "cell_type": "code",
   "execution_count": 16,
   "metadata": {},
   "outputs": [
    {
     "ename": "SyntaxError",
     "evalue": "invalid syntax (<ipython-input-16-3d3b61fdd83e>, line 1)",
     "output_type": "error",
     "traceback": [
      "\u001b[0;36m  File \u001b[0;32m\"<ipython-input-16-3d3b61fdd83e>\"\u001b[0;36m, line \u001b[0;32m1\u001b[0m\n\u001b[0;31m    ENSMUST00000037099.8\u001b[0m\n\u001b[0m                       ^\u001b[0m\n\u001b[0;31mSyntaxError\u001b[0m\u001b[0;31m:\u001b[0m invalid syntax\n"
     ]
    }
   ],
   "source": [
    "ENSMUST00000037099.8\n",
    "ENSMUST00000143370.1"
   ]
  },
  {
   "cell_type": "code",
   "execution_count": null,
   "metadata": {},
   "outputs": [],
   "source": []
  }
 ],
 "metadata": {
  "kernelspec": {
   "display_name": "Python 3",
   "language": "python",
   "name": "python3"
  },
  "language_info": {
   "codemirror_mode": {
    "name": "ipython",
    "version": 3
   },
   "file_extension": ".py",
   "mimetype": "text/x-python",
   "name": "python",
   "nbconvert_exporter": "python",
   "pygments_lexer": "ipython3",
   "version": "3.7.4"
  }
 },
 "nbformat": 4,
 "nbformat_minor": 4
}
