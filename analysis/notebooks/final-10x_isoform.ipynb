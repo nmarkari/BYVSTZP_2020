{
 "cells": [
  {
   "cell_type": "code",
   "execution_count": 1,
   "metadata": {},
   "outputs": [
    {
     "name": "stdout",
     "output_type": "stream",
     "text": [
      "Fri Oct 23 08:49:38 PDT 2020\n"
     ]
    }
   ],
   "source": [
    "!date"
   ]
  },
  {
   "cell_type": "markdown",
   "metadata": {},
   "source": [
    "# 10x correlation on isoforms"
   ]
  },
  {
   "cell_type": "code",
   "execution_count": 3,
   "metadata": {},
   "outputs": [],
   "source": [
    "import anndata\n",
    "import glob\n",
    "import pandas as pd\n",
    "import numpy as np\n",
    "import matplotlib.pyplot as plt\n",
    "import matplotlib as mpl\n",
    "import matplotlib.patches as mpatches\n",
    "import scanpy as scanp\n",
    "from scipy.stats import ks_2samp, ttest_ind\n",
    "from scipy import stats\n",
    "from scipy.sparse import csr_matrix\n",
    "from sklearn.decomposition import TruncatedSVD\n",
    "from sklearn.preprocessing import normalize\n",
    "from sklearn.manifold import TSNE\n",
    "from umap import UMAP\n",
    "from sklearn.cluster import KMeans\n",
    "from sklearn.metrics import adjusted_rand_score\n",
    "from sklearn.preprocessing import LabelEncoder\n",
    "from sklearn.neighbors import NeighborhoodComponentsAnalysis\n",
    "from matplotlib import cm\n",
    "import ast\n",
    "import warnings\n",
    "warnings.filterwarnings('ignore')\n",
    "\n",
    "import sys\n",
    "sys.path.append('/home/sina/projects/mop/BYVSTZP_2020/trackfig')\n",
    "from trackfig.utils import get_notebook_name\n",
    "from trackfig.trackfig import trackfig \n",
    "\n",
    "TRACKFIG = \"/home/sina/projects/mop/BYVSTZP_2020/trackfig.txt\"\n",
    "NB = get_notebook_name()\n",
    "\n",
    "def nd(arr):\n",
    "    return np.asarray(arr).reshape(-1)\n",
    "\n",
    "fsize=20\n",
    "\n",
    "plt.rcParams.update({'font.size': fsize})\n",
    "%config InlineBackend.figure_format = 'retina'"
   ]
  },
  {
   "cell_type": "code",
   "execution_count": 3,
   "metadata": {},
   "outputs": [],
   "source": [
    "path = \"../../data/10xv3\"\n",
    "file_paths = glob.glob(path + \"/tcc_gene_out*/counts_filtered/adata.h5ad\")"
   ]
  },
  {
   "cell_type": "code",
   "execution_count": 4,
   "metadata": {},
   "outputs": [],
   "source": [
    "file_paths = np.sort(file_paths).tolist()"
   ]
  },
  {
   "cell_type": "code",
   "execution_count": 5,
   "metadata": {},
   "outputs": [
    {
     "data": {
      "text/plain": [
       "['../../data/10xv3/tcc_gene_out_L8TX_181211_01_A01_S01_L003/counts_filtered/adata.h5ad',\n",
       " '../../data/10xv3/tcc_gene_out_L8TX_181211_01_B01_S01_L003/counts_filtered/adata.h5ad',\n",
       " '../../data/10xv3/tcc_gene_out_L8TX_181211_01_C01_S01_L003/counts_filtered/adata.h5ad',\n",
       " '../../data/10xv3/tcc_gene_out_L8TX_181211_01_D01_S01_L003/counts_filtered/adata.h5ad',\n",
       " '../../data/10xv3/tcc_gene_out_L8TX_181211_01_E01_S01_L003/counts_filtered/adata.h5ad',\n",
       " '../../data/10xv3/tcc_gene_out_L8TX_181211_01_F01_S01_L003/counts_filtered/adata.h5ad',\n",
       " '../../data/10xv3/tcc_gene_out_L8TX_181211_01_G12_S01_L003/counts_filtered/adata.h5ad',\n",
       " '../../data/10xv3/tcc_gene_out_L8TX_181211_01_H12_S01_L003/counts_filtered/adata.h5ad',\n",
       " '../../data/10xv3/tcc_gene_out_L8TX_190430_01_A08_S01_L003/counts_filtered/adata.h5ad',\n",
       " '../../data/10xv3/tcc_gene_out_L8TX_190430_01_B08_S01_L003/counts_filtered/adata.h5ad',\n",
       " '../../data/10xv3/tcc_gene_out_L8TX_190430_01_F08_S01_L003/counts_filtered/adata.h5ad',\n",
       " '../../data/10xv3/tcc_gene_out_L8TX_190430_01_G08_S01_L003/counts_filtered/adata.h5ad']"
      ]
     },
     "execution_count": 5,
     "metadata": {},
     "output_type": "execute_result"
    }
   ],
   "source": [
    "file_paths"
   ]
  },
  {
   "cell_type": "code",
   "execution_count": 6,
   "metadata": {},
   "outputs": [],
   "source": [
    "batch_id = [\n",
    "\"3L8TX_181211_01_A01\",\n",
    "\"4L8TX_181211_01_B01\",\n",
    "\"5L8TX_181211_01_C01\",\n",
    "\"6L8TX_181211_01_D01\",\n",
    "\"7L8TX_181211_01_E01\",\n",
    "\"8L8TX_181211_01_F01\",\n",
    "\"1L8TX_181211_01_G12\",\n",
    "\"2L8TX_181211_01_H12\",\n",
    "\"9L8TX_190430_01_A08\",    \n",
    "\"10L8TX_190430_01_B08\",\n",
    "\"11L8TX_190430_01_F08\",    \n",
    "\"12L8TX_190430_01_G08\"]"
   ]
  },
  {
   "cell_type": "code",
   "execution_count": 7,
   "metadata": {},
   "outputs": [
    {
     "name": "stdout",
     "output_type": "stream",
     "text": [
      "1 of 12\n"
     ]
    },
    {
     "name": "stderr",
     "output_type": "stream",
     "text": [
      "Trying to set attribute `.var` of view, copying.\n"
     ]
    },
    {
     "name": "stdout",
     "output_type": "stream",
     "text": [
      "2 of 12\n"
     ]
    },
    {
     "name": "stderr",
     "output_type": "stream",
     "text": [
      "Trying to set attribute `.var` of view, copying.\n"
     ]
    },
    {
     "name": "stdout",
     "output_type": "stream",
     "text": [
      "3 of 12\n"
     ]
    },
    {
     "name": "stderr",
     "output_type": "stream",
     "text": [
      "Trying to set attribute `.var` of view, copying.\n"
     ]
    },
    {
     "name": "stdout",
     "output_type": "stream",
     "text": [
      "4 of 12\n"
     ]
    },
    {
     "name": "stderr",
     "output_type": "stream",
     "text": [
      "Trying to set attribute `.var` of view, copying.\n"
     ]
    },
    {
     "name": "stdout",
     "output_type": "stream",
     "text": [
      "5 of 12\n"
     ]
    },
    {
     "name": "stderr",
     "output_type": "stream",
     "text": [
      "Trying to set attribute `.var` of view, copying.\n"
     ]
    },
    {
     "name": "stdout",
     "output_type": "stream",
     "text": [
      "6 of 12\n"
     ]
    },
    {
     "name": "stderr",
     "output_type": "stream",
     "text": [
      "Trying to set attribute `.var` of view, copying.\n"
     ]
    },
    {
     "name": "stdout",
     "output_type": "stream",
     "text": [
      "7 of 12\n"
     ]
    },
    {
     "name": "stderr",
     "output_type": "stream",
     "text": [
      "Trying to set attribute `.var` of view, copying.\n"
     ]
    },
    {
     "name": "stdout",
     "output_type": "stream",
     "text": [
      "8 of 12\n"
     ]
    },
    {
     "name": "stderr",
     "output_type": "stream",
     "text": [
      "Trying to set attribute `.var` of view, copying.\n"
     ]
    },
    {
     "name": "stdout",
     "output_type": "stream",
     "text": [
      "9 of 12\n"
     ]
    },
    {
     "name": "stderr",
     "output_type": "stream",
     "text": [
      "Trying to set attribute `.var` of view, copying.\n"
     ]
    },
    {
     "name": "stdout",
     "output_type": "stream",
     "text": [
      "10 of 12\n"
     ]
    },
    {
     "name": "stderr",
     "output_type": "stream",
     "text": [
      "Trying to set attribute `.var` of view, copying.\n"
     ]
    },
    {
     "name": "stdout",
     "output_type": "stream",
     "text": [
      "11 of 12\n"
     ]
    },
    {
     "name": "stderr",
     "output_type": "stream",
     "text": [
      "Trying to set attribute `.var` of view, copying.\n"
     ]
    },
    {
     "name": "stdout",
     "output_type": "stream",
     "text": [
      "12 of 12\n"
     ]
    },
    {
     "name": "stderr",
     "output_type": "stream",
     "text": [
      "Trying to set attribute `.var` of view, copying.\n"
     ]
    },
    {
     "name": "stdout",
     "output_type": "stream",
     "text": [
      "CPU times: user 22min 19s, sys: 1min 1s, total: 23min 21s\n",
      "Wall time: 23min 57s\n"
     ]
    }
   ],
   "source": [
    "%%time\n",
    "files = []\n",
    "for fidx, f in enumerate(file_paths):\n",
    "    print(\"{} of {}\".format(fidx+1, len(file_paths)))\n",
    "    \n",
    "    adata = anndata.read_h5ad(f)\n",
    "    \n",
    "    adata.var[\"transcript_ids\"] = adata.var[\"transcript_ids\"].apply(lambda x: ast.literal_eval(x))\n",
    "    adata.var[\"ec_len\"] = adata.var[\"transcript_ids\"].apply(lambda x: len(x))\n",
    "    \n",
    "    adata = adata[:,adata.var.ec_len==1]\n",
    "    adata.var[\"transcript_id\"] = adata.var.transcript_ids.apply(lambda x: x[0])\n",
    "    adata.var[\"transcript_id_nov\"] = adata.var[\"transcript_id\"].str.slice(0,18)\n",
    "    \n",
    "    \n",
    "    files.append(adata)"
   ]
  },
  {
   "cell_type": "code",
   "execution_count": 8,
   "metadata": {},
   "outputs": [
    {
     "name": "stdout",
     "output_type": "stream",
     "text": [
      "CPU times: user 3.84 s, sys: 1.08 s, total: 4.92 s\n",
      "Wall time: 4.97 s\n"
     ]
    }
   ],
   "source": [
    "%%time\n",
    "adata = files[0].concatenate(*files[1:], batch_categories=batch_id)"
   ]
  },
  {
   "cell_type": "code",
   "execution_count": 9,
   "metadata": {},
   "outputs": [
    {
     "data": {
      "text/plain": [
       "AnnData object with n_obs × n_vars = 169200 × 111079\n",
       "    obs: 'batch'\n",
       "    var: 'transcript_ids', 'ec_len', 'transcript_id', 'transcript_id_nov'"
      ]
     },
     "execution_count": 9,
     "metadata": {},
     "output_type": "execute_result"
    }
   ],
   "source": [
    "adata"
   ]
  },
  {
   "cell_type": "code",
   "execution_count": 12,
   "metadata": {},
   "outputs": [],
   "source": [
    "adata.write(\"../../data/notebook/revision/10xv3_unique_isoforms.h5ad\")"
   ]
  },
  {
   "cell_type": "code",
   "execution_count": null,
   "metadata": {},
   "outputs": [],
   "source": [
    "#adata = anndata.read_h5ad(\"../../data/notebook/revision/10xv3_unique_isoforms.h5ad\")"
   ]
  },
  {
   "cell_type": "code",
   "execution_count": null,
   "metadata": {},
   "outputs": [],
   "source": []
  },
  {
   "cell_type": "code",
   "execution_count": null,
   "metadata": {},
   "outputs": [],
   "source": []
  },
  {
   "cell_type": "code",
   "execution_count": null,
   "metadata": {},
   "outputs": [],
   "source": []
  },
  {
   "cell_type": "code",
   "execution_count": null,
   "metadata": {},
   "outputs": [],
   "source": [
    "cols = [\"transcript_id\", \"gene_id\", \"gene_name\", \"transcript_name\", \"chromosome\", \"start\", \"stop\", \"strand\"]\n",
    "t2g = pd.read_csv(\"../../reference/t2g.txt\", sep=\"\\t\", header=None, names=cols)\n",
    "t2g[\"transcript_id\"] = t2g[\"transcript_id\"].str.slice(0,18)\n",
    "t2g[\"gene_id\"] = t2g[\"gene_id\"].str.slice(0,18)\n",
    "t2g[\"gene_id\"] = t2g[\"gene_name\"] + \"_\" + t2g[\"gene_id\"]"
   ]
  },
  {
   "cell_type": "code",
   "execution_count": null,
   "metadata": {},
   "outputs": [],
   "source": [
    "t2g.index = t2g.transcript_id.values\n",
    "t2g[\"transcript_name_short\"] = t2g[\"transcript_name\"]\n",
    "t2g[\"transcript_name\"] = t2g[\"transcript_name_short\"] + \"_\" + t2g[\"transcript_id\"]"
   ]
  },
  {
   "cell_type": "markdown",
   "metadata": {},
   "source": [
    "# Map OBS"
   ]
  },
  {
   "cell_type": "code",
   "execution_count": null,
   "metadata": {},
   "outputs": [],
   "source": [
    "ca = pd.read_csv(\"../../reference/10xv3_cluster_labels/cluster.annotation.csv\", index_col=0)\n",
    "cm = pd.read_csv(\"../../reference/10xv3_cluster_labels/cluster.membership.csv\", index_col=0)"
   ]
  },
  {
   "cell_type": "code",
   "execution_count": null,
   "metadata": {},
   "outputs": [],
   "source": [
    "adata.obs.head()"
   ]
  },
  {
   "cell_type": "code",
   "execution_count": null,
   "metadata": {},
   "outputs": [],
   "source": [
    "adata = adata[adata.obs.index.isin(cm.index)]"
   ]
  },
  {
   "cell_type": "code",
   "execution_count": null,
   "metadata": {},
   "outputs": [],
   "source": [
    "adata"
   ]
  },
  {
   "cell_type": "code",
   "execution_count": null,
   "metadata": {},
   "outputs": [],
   "source": [
    "adata.obs[\"cluster_id\"] = adata.obs.index.map(cm[\"x\"])"
   ]
  },
  {
   "cell_type": "code",
   "execution_count": null,
   "metadata": {},
   "outputs": [],
   "source": [
    "adata.obs[\"cluster_label\"]  = adata.obs[\"cluster_id\"].map(ca[\"cluster_label\"])\n",
    "adata.obs[\"subclass_label\"] = adata.obs[\"cluster_id\"].map(ca[\"subclass_label\"])\n",
    "adata.obs[\"class_label\"]    = adata.obs[\"cluster_id\"].map(ca[\"class_label\"])"
   ]
  },
  {
   "cell_type": "code",
   "execution_count": null,
   "metadata": {},
   "outputs": [],
   "source": [
    "from sklearn.preprocessing import LabelEncoder"
   ]
  },
  {
   "cell_type": "code",
   "execution_count": null,
   "metadata": {},
   "outputs": [],
   "source": [
    "le = LabelEncoder()\n",
    "adata.obs[\"cluster_id\"] = le.fit_transform(adata.obs.cluster_label.values)\n",
    "\n",
    "le = LabelEncoder()\n",
    "adata.obs[\"subclass_id\"] = le.fit_transform(adata.obs.subclass_label.values)\n",
    "\n",
    "le = LabelEncoder()\n",
    "adata.obs[\"class_id\"] = le.fit_transform(adata.obs.class_label.values)"
   ]
  },
  {
   "cell_type": "code",
   "execution_count": null,
   "metadata": {},
   "outputs": [],
   "source": [
    "adata.obs.head()"
   ]
  },
  {
   "cell_type": "markdown",
   "metadata": {},
   "source": [
    "# Map Var"
   ]
  },
  {
   "cell_type": "code",
   "execution_count": null,
   "metadata": {},
   "outputs": [],
   "source": [
    "t2g.head()"
   ]
  },
  {
   "cell_type": "code",
   "execution_count": null,
   "metadata": {},
   "outputs": [],
   "source": [
    "adata.var.head()"
   ]
  },
  {
   "cell_type": "code",
   "execution_count": null,
   "metadata": {},
   "outputs": [],
   "source": [
    "adata.var[\"transcript_name\"] = adata.var[\"transcript_id_nov\"].map(t2g[\"transcript_name\"])\n",
    "adata.var.index = adata.var[\"transcript_name\"].values"
   ]
  },
  {
   "cell_type": "code",
   "execution_count": null,
   "metadata": {},
   "outputs": [],
   "source": [
    "adata.var.head()"
   ]
  },
  {
   "cell_type": "code",
   "execution_count": null,
   "metadata": {},
   "outputs": [],
   "source": [
    "#adata.write(\"../cell_ranger_annotation/10xv3_isoform.h5ad\")"
   ]
  },
  {
   "cell_type": "markdown",
   "metadata": {},
   "source": [
    "# Compare to smartseq"
   ]
  },
  {
   "cell_type": "code",
   "execution_count": 4,
   "metadata": {},
   "outputs": [],
   "source": [
    "adata = anndata.read_h5ad(\"../../data/notebook/10xv3_isoform.h5ad\")"
   ]
  },
  {
   "cell_type": "code",
   "execution_count": 5,
   "metadata": {},
   "outputs": [],
   "source": [
    "def change(x):\n",
    "    if x==\"L5 ET\": return \"L5 PT\"\n",
    "    return x"
   ]
  },
  {
   "cell_type": "code",
   "execution_count": 6,
   "metadata": {},
   "outputs": [
    {
     "data": {
      "text/plain": [
       "L5 IT          29721\n",
       "Low Quality    22728\n",
       "L6 CT          12807\n",
       "L2/3 IT        10915\n",
       "L6 IT           4445\n",
       "L5/6 NP         3147\n",
       "Vip             2966\n",
       "Lamp5           2357\n",
       "Sst             1869\n",
       "L6b              554\n",
       "Oligo            535\n",
       "Astro            395\n",
       "Pvalb            368\n",
       "Sncg             348\n",
       "doublet          257\n",
       "Endo             187\n",
       "L5 ET            161\n",
       "OPC              145\n",
       "Macrophage       122\n",
       "L6 IT Car3        69\n",
       "VLMC              55\n",
       "SMC               11\n",
       "Name: subclass_label, dtype: int64"
      ]
     },
     "execution_count": 6,
     "metadata": {},
     "output_type": "execute_result"
    }
   ],
   "source": [
    "adata.obs.subclass_label.value_counts()"
   ]
  },
  {
   "cell_type": "code",
   "execution_count": 7,
   "metadata": {},
   "outputs": [],
   "source": [
    "adata.obs.cluster_label = adata.obs.cluster_label.apply(change).values\n",
    "adata.obs.subclass_label = adata.obs.subclass_label.apply(change).values"
   ]
  },
  {
   "cell_type": "code",
   "execution_count": 8,
   "metadata": {},
   "outputs": [
    {
     "data": {
      "text/plain": [
       "L5 IT          29721\n",
       "Low Quality    22728\n",
       "L6 CT          12807\n",
       "L2/3 IT        10915\n",
       "L6 IT           4445\n",
       "L5/6 NP         3147\n",
       "Vip             2966\n",
       "Lamp5           2357\n",
       "Sst             1869\n",
       "L6b              554\n",
       "Oligo            535\n",
       "Astro            395\n",
       "Pvalb            368\n",
       "Sncg             348\n",
       "doublet          257\n",
       "Endo             187\n",
       "L5 PT            161\n",
       "OPC              145\n",
       "Macrophage       122\n",
       "L6 IT Car3        69\n",
       "VLMC              55\n",
       "SMC               11\n",
       "Name: subclass_label, dtype: int64"
      ]
     },
     "execution_count": 8,
     "metadata": {},
     "output_type": "execute_result"
    }
   ],
   "source": [
    "adata.obs.subclass_label.value_counts()"
   ]
  },
  {
   "cell_type": "code",
   "execution_count": 9,
   "metadata": {},
   "outputs": [],
   "source": [
    "ss = anndata.read_h5ad(\"../../data/notebook/revision/no_filter_isoform.h5ad\")"
   ]
  },
  {
   "cell_type": "code",
   "execution_count": 10,
   "metadata": {},
   "outputs": [
    {
     "data": {
      "text/plain": [
       "L5 IT          1571\n",
       "L6 CT           904\n",
       "Vip             659\n",
       "L6b             571\n",
       "Pvalb           543\n",
       "L2/3 IT         483\n",
       "Sst             427\n",
       "L6 IT           395\n",
       "Lamp5           377\n",
       "L5/6 NP         208\n",
       "Sncg             84\n",
       "SMC              21\n",
       "L5 PT            12\n",
       "Low Quality      12\n",
       "Astro            10\n",
       "Endo              7\n",
       "VLMC              6\n",
       "L6 IT Car3        5\n",
       "Name: subclass_label, dtype: int64"
      ]
     },
     "execution_count": 10,
     "metadata": {},
     "output_type": "execute_result"
    }
   ],
   "source": [
    "ss.obs.subclass_label.value_counts()"
   ]
  },
  {
   "cell_type": "code",
   "execution_count": 11,
   "metadata": {},
   "outputs": [
    {
     "data": {
      "text/plain": [
       "AnnData object with n_obs × n_vars = 94162 × 111079\n",
       "    obs: 'batch', 'cluster_id', 'cluster_label', 'subclass_label', 'class_label', 'subclass_id', 'class_id'\n",
       "    var: 'transcript_ids', 'ec_len', 'transcript_id', 'transcript_id_nov', 'transcript_name'"
      ]
     },
     "execution_count": 11,
     "metadata": {},
     "output_type": "execute_result"
    }
   ],
   "source": [
    "adata"
   ]
  },
  {
   "cell_type": "code",
   "execution_count": 12,
   "metadata": {},
   "outputs": [
    {
     "data": {
      "text/plain": [
       "AnnData object with n_obs × n_vars = 6295 × 111079\n",
       "    obs: 'cluster_id', 'cluster_label', 'subclass_label', 'class_label', 'cluster_color', 'size', 'cell_id', 'subclass_id', 'class_id', 'cell_counts'\n",
       "    var: 'transcript_id', 'gene_id', 'gene_name', 'transcript_name', 'length', 'gene_counts', 'highly_variable', 'means', 'dispersions', 'dispersions_norm'\n",
       "    uns: 'hvg'\n",
       "    layers: 'X', 'log1p', 'norm'"
      ]
     },
     "execution_count": 12,
     "metadata": {},
     "output_type": "execute_result"
    }
   ],
   "source": [
    "ss"
   ]
  },
  {
   "cell_type": "code",
   "execution_count": 13,
   "metadata": {},
   "outputs": [],
   "source": [
    "ss = ss[:,ss.var.sort_index().index]\n",
    "tenx = adata[:,adata.var.sort_index().index]"
   ]
  },
  {
   "cell_type": "code",
   "execution_count": 14,
   "metadata": {},
   "outputs": [],
   "source": [
    "tenx = tenx[:,tenx.var.index.isin(ss.var.index)]"
   ]
  },
  {
   "cell_type": "code",
   "execution_count": 15,
   "metadata": {},
   "outputs": [],
   "source": [
    "tenx = tenx[:,tenx.var.sort_index().index]"
   ]
  },
  {
   "cell_type": "code",
   "execution_count": 16,
   "metadata": {},
   "outputs": [
    {
     "data": {
      "text/plain": [
       "View of AnnData object with n_obs × n_vars = 94162 × 111079\n",
       "    obs: 'batch', 'cluster_id', 'cluster_label', 'subclass_label', 'class_label', 'subclass_id', 'class_id'\n",
       "    var: 'transcript_ids', 'ec_len', 'transcript_id', 'transcript_id_nov', 'transcript_name'"
      ]
     },
     "execution_count": 16,
     "metadata": {},
     "output_type": "execute_result"
    }
   ],
   "source": [
    "tenx"
   ]
  },
  {
   "cell_type": "code",
   "execution_count": 17,
   "metadata": {},
   "outputs": [
    {
     "data": {
      "text/plain": [
       "View of AnnData object with n_obs × n_vars = 6295 × 111079\n",
       "    obs: 'cluster_id', 'cluster_label', 'subclass_label', 'class_label', 'cluster_color', 'size', 'cell_id', 'subclass_id', 'class_id', 'cell_counts'\n",
       "    var: 'transcript_id', 'gene_id', 'gene_name', 'transcript_name', 'length', 'gene_counts', 'highly_variable', 'means', 'dispersions', 'dispersions_norm'\n",
       "    uns: 'hvg'\n",
       "    layers: 'X', 'log1p', 'norm'"
      ]
     },
     "execution_count": 17,
     "metadata": {},
     "output_type": "execute_result"
    }
   ],
   "source": [
    "ss"
   ]
  },
  {
   "cell_type": "code",
   "execution_count": 18,
   "metadata": {},
   "outputs": [
    {
     "data": {
      "text/html": [
       "<div>\n",
       "<style scoped>\n",
       "    .dataframe tbody tr th:only-of-type {\n",
       "        vertical-align: middle;\n",
       "    }\n",
       "\n",
       "    .dataframe tbody tr th {\n",
       "        vertical-align: top;\n",
       "    }\n",
       "\n",
       "    .dataframe thead th {\n",
       "        text-align: right;\n",
       "    }\n",
       "</style>\n",
       "<table border=\"1\" class=\"dataframe\">\n",
       "  <thead>\n",
       "    <tr style=\"text-align: right;\">\n",
       "      <th></th>\n",
       "      <th>transcript_id</th>\n",
       "      <th>gene_id</th>\n",
       "      <th>gene_name</th>\n",
       "      <th>transcript_name</th>\n",
       "      <th>length</th>\n",
       "      <th>gene_counts</th>\n",
       "      <th>highly_variable</th>\n",
       "      <th>means</th>\n",
       "      <th>dispersions</th>\n",
       "      <th>dispersions_norm</th>\n",
       "    </tr>\n",
       "  </thead>\n",
       "  <tbody>\n",
       "    <tr>\n",
       "      <th>0610005C13Rik-201_ENSMUST00000209416</th>\n",
       "      <td>ENSMUST00000209416</td>\n",
       "      <td>ENSMUSG00000109644</td>\n",
       "      <td>0610005C13Rik_ENSMUSG00000109644</td>\n",
       "      <td>0610005C13Rik-201_ENSMUST00000209416</td>\n",
       "      <td>856</td>\n",
       "      <td>10.149507</td>\n",
       "      <td>False</td>\n",
       "      <td>1.611014e-03</td>\n",
       "      <td>1.382855</td>\n",
       "      <td>-0.505609</td>\n",
       "    </tr>\n",
       "    <tr>\n",
       "      <th>0610005C13Rik-202_ENSMUST00000209510</th>\n",
       "      <td>ENSMUST00000209510</td>\n",
       "      <td>ENSMUSG00000109644</td>\n",
       "      <td>0610005C13Rik_ENSMUSG00000109644</td>\n",
       "      <td>0610005C13Rik-202_ENSMUST00000209510</td>\n",
       "      <td>671</td>\n",
       "      <td>0.000000</td>\n",
       "      <td>False</td>\n",
       "      <td>1.000000e-12</td>\n",
       "      <td>NaN</td>\n",
       "      <td>NaN</td>\n",
       "    </tr>\n",
       "    <tr>\n",
       "      <th>0610005C13Rik-203_ENSMUST00000209910</th>\n",
       "      <td>ENSMUST00000209910</td>\n",
       "      <td>ENSMUSG00000109644</td>\n",
       "      <td>0610005C13Rik_ENSMUSG00000109644</td>\n",
       "      <td>0610005C13Rik-203_ENSMUST00000209910</td>\n",
       "      <td>553</td>\n",
       "      <td>15.954428</td>\n",
       "      <td>False</td>\n",
       "      <td>2.531254e-03</td>\n",
       "      <td>1.198419</td>\n",
       "      <td>-0.606426</td>\n",
       "    </tr>\n",
       "    <tr>\n",
       "      <th>0610005C13Rik-204_ENSMUST00000210383</th>\n",
       "      <td>ENSMUST00000210383</td>\n",
       "      <td>ENSMUSG00000109644</td>\n",
       "      <td>0610005C13Rik_ENSMUSG00000109644</td>\n",
       "      <td>0610005C13Rik-204_ENSMUST00000210383</td>\n",
       "      <td>897</td>\n",
       "      <td>1131.564331</td>\n",
       "      <td>False</td>\n",
       "      <td>1.653077e-01</td>\n",
       "      <td>4.382320</td>\n",
       "      <td>1.133968</td>\n",
       "    </tr>\n",
       "    <tr>\n",
       "      <th>0610005C13Rik-205_ENSMUST00000210569</th>\n",
       "      <td>ENSMUST00000210569</td>\n",
       "      <td>ENSMUSG00000109644</td>\n",
       "      <td>0610005C13Rik_ENSMUSG00000109644</td>\n",
       "      <td>0610005C13Rik-205_ENSMUST00000210569</td>\n",
       "      <td>963</td>\n",
       "      <td>0.000000</td>\n",
       "      <td>False</td>\n",
       "      <td>1.000000e-12</td>\n",
       "      <td>NaN</td>\n",
       "      <td>NaN</td>\n",
       "    </tr>\n",
       "  </tbody>\n",
       "</table>\n",
       "</div>"
      ],
      "text/plain": [
       "                                           transcript_id             gene_id  \\\n",
       "0610005C13Rik-201_ENSMUST00000209416  ENSMUST00000209416  ENSMUSG00000109644   \n",
       "0610005C13Rik-202_ENSMUST00000209510  ENSMUST00000209510  ENSMUSG00000109644   \n",
       "0610005C13Rik-203_ENSMUST00000209910  ENSMUST00000209910  ENSMUSG00000109644   \n",
       "0610005C13Rik-204_ENSMUST00000210383  ENSMUST00000210383  ENSMUSG00000109644   \n",
       "0610005C13Rik-205_ENSMUST00000210569  ENSMUST00000210569  ENSMUSG00000109644   \n",
       "\n",
       "                                                             gene_name  \\\n",
       "0610005C13Rik-201_ENSMUST00000209416  0610005C13Rik_ENSMUSG00000109644   \n",
       "0610005C13Rik-202_ENSMUST00000209510  0610005C13Rik_ENSMUSG00000109644   \n",
       "0610005C13Rik-203_ENSMUST00000209910  0610005C13Rik_ENSMUSG00000109644   \n",
       "0610005C13Rik-204_ENSMUST00000210383  0610005C13Rik_ENSMUSG00000109644   \n",
       "0610005C13Rik-205_ENSMUST00000210569  0610005C13Rik_ENSMUSG00000109644   \n",
       "\n",
       "                                                           transcript_name  \\\n",
       "0610005C13Rik-201_ENSMUST00000209416  0610005C13Rik-201_ENSMUST00000209416   \n",
       "0610005C13Rik-202_ENSMUST00000209510  0610005C13Rik-202_ENSMUST00000209510   \n",
       "0610005C13Rik-203_ENSMUST00000209910  0610005C13Rik-203_ENSMUST00000209910   \n",
       "0610005C13Rik-204_ENSMUST00000210383  0610005C13Rik-204_ENSMUST00000210383   \n",
       "0610005C13Rik-205_ENSMUST00000210569  0610005C13Rik-205_ENSMUST00000210569   \n",
       "\n",
       "                                      length  gene_counts  highly_variable  \\\n",
       "0610005C13Rik-201_ENSMUST00000209416     856    10.149507            False   \n",
       "0610005C13Rik-202_ENSMUST00000209510     671     0.000000            False   \n",
       "0610005C13Rik-203_ENSMUST00000209910     553    15.954428            False   \n",
       "0610005C13Rik-204_ENSMUST00000210383     897  1131.564331            False   \n",
       "0610005C13Rik-205_ENSMUST00000210569     963     0.000000            False   \n",
       "\n",
       "                                             means  dispersions  \\\n",
       "0610005C13Rik-201_ENSMUST00000209416  1.611014e-03     1.382855   \n",
       "0610005C13Rik-202_ENSMUST00000209510  1.000000e-12          NaN   \n",
       "0610005C13Rik-203_ENSMUST00000209910  2.531254e-03     1.198419   \n",
       "0610005C13Rik-204_ENSMUST00000210383  1.653077e-01     4.382320   \n",
       "0610005C13Rik-205_ENSMUST00000210569  1.000000e-12          NaN   \n",
       "\n",
       "                                      dispersions_norm  \n",
       "0610005C13Rik-201_ENSMUST00000209416         -0.505609  \n",
       "0610005C13Rik-202_ENSMUST00000209510               NaN  \n",
       "0610005C13Rik-203_ENSMUST00000209910         -0.606426  \n",
       "0610005C13Rik-204_ENSMUST00000210383          1.133968  \n",
       "0610005C13Rik-205_ENSMUST00000210569               NaN  "
      ]
     },
     "execution_count": 18,
     "metadata": {},
     "output_type": "execute_result"
    }
   ],
   "source": [
    "ss.var.head()"
   ]
  },
  {
   "cell_type": "code",
   "execution_count": 19,
   "metadata": {},
   "outputs": [
    {
     "data": {
      "text/html": [
       "<div>\n",
       "<style scoped>\n",
       "    .dataframe tbody tr th:only-of-type {\n",
       "        vertical-align: middle;\n",
       "    }\n",
       "\n",
       "    .dataframe tbody tr th {\n",
       "        vertical-align: top;\n",
       "    }\n",
       "\n",
       "    .dataframe thead th {\n",
       "        text-align: right;\n",
       "    }\n",
       "</style>\n",
       "<table border=\"1\" class=\"dataframe\">\n",
       "  <thead>\n",
       "    <tr style=\"text-align: right;\">\n",
       "      <th></th>\n",
       "      <th>transcript_ids</th>\n",
       "      <th>ec_len</th>\n",
       "      <th>transcript_id</th>\n",
       "      <th>transcript_id_nov</th>\n",
       "      <th>transcript_name</th>\n",
       "    </tr>\n",
       "  </thead>\n",
       "  <tbody>\n",
       "    <tr>\n",
       "      <th>0610005C13Rik-201_ENSMUST00000209416</th>\n",
       "      <td>['ENSMUST00000209416.1']</td>\n",
       "      <td>1</td>\n",
       "      <td>ENSMUST00000209416.1</td>\n",
       "      <td>ENSMUST00000209416</td>\n",
       "      <td>0610005C13Rik-201_ENSMUST00000209416</td>\n",
       "    </tr>\n",
       "    <tr>\n",
       "      <th>0610005C13Rik-202_ENSMUST00000209510</th>\n",
       "      <td>['ENSMUST00000209510.1']</td>\n",
       "      <td>1</td>\n",
       "      <td>ENSMUST00000209510.1</td>\n",
       "      <td>ENSMUST00000209510</td>\n",
       "      <td>0610005C13Rik-202_ENSMUST00000209510</td>\n",
       "    </tr>\n",
       "    <tr>\n",
       "      <th>0610005C13Rik-203_ENSMUST00000209910</th>\n",
       "      <td>['ENSMUST00000209910.1']</td>\n",
       "      <td>1</td>\n",
       "      <td>ENSMUST00000209910.1</td>\n",
       "      <td>ENSMUST00000209910</td>\n",
       "      <td>0610005C13Rik-203_ENSMUST00000209910</td>\n",
       "    </tr>\n",
       "    <tr>\n",
       "      <th>0610005C13Rik-204_ENSMUST00000210383</th>\n",
       "      <td>['ENSMUST00000210383.1']</td>\n",
       "      <td>1</td>\n",
       "      <td>ENSMUST00000210383.1</td>\n",
       "      <td>ENSMUST00000210383</td>\n",
       "      <td>0610005C13Rik-204_ENSMUST00000210383</td>\n",
       "    </tr>\n",
       "    <tr>\n",
       "      <th>0610005C13Rik-205_ENSMUST00000210569</th>\n",
       "      <td>['ENSMUST00000210569.1']</td>\n",
       "      <td>1</td>\n",
       "      <td>ENSMUST00000210569.1</td>\n",
       "      <td>ENSMUST00000210569</td>\n",
       "      <td>0610005C13Rik-205_ENSMUST00000210569</td>\n",
       "    </tr>\n",
       "  </tbody>\n",
       "</table>\n",
       "</div>"
      ],
      "text/plain": [
       "                                                transcript_ids  ec_len  \\\n",
       "0610005C13Rik-201_ENSMUST00000209416  ['ENSMUST00000209416.1']       1   \n",
       "0610005C13Rik-202_ENSMUST00000209510  ['ENSMUST00000209510.1']       1   \n",
       "0610005C13Rik-203_ENSMUST00000209910  ['ENSMUST00000209910.1']       1   \n",
       "0610005C13Rik-204_ENSMUST00000210383  ['ENSMUST00000210383.1']       1   \n",
       "0610005C13Rik-205_ENSMUST00000210569  ['ENSMUST00000210569.1']       1   \n",
       "\n",
       "                                             transcript_id  \\\n",
       "0610005C13Rik-201_ENSMUST00000209416  ENSMUST00000209416.1   \n",
       "0610005C13Rik-202_ENSMUST00000209510  ENSMUST00000209510.1   \n",
       "0610005C13Rik-203_ENSMUST00000209910  ENSMUST00000209910.1   \n",
       "0610005C13Rik-204_ENSMUST00000210383  ENSMUST00000210383.1   \n",
       "0610005C13Rik-205_ENSMUST00000210569  ENSMUST00000210569.1   \n",
       "\n",
       "                                       transcript_id_nov  \\\n",
       "0610005C13Rik-201_ENSMUST00000209416  ENSMUST00000209416   \n",
       "0610005C13Rik-202_ENSMUST00000209510  ENSMUST00000209510   \n",
       "0610005C13Rik-203_ENSMUST00000209910  ENSMUST00000209910   \n",
       "0610005C13Rik-204_ENSMUST00000210383  ENSMUST00000210383   \n",
       "0610005C13Rik-205_ENSMUST00000210569  ENSMUST00000210569   \n",
       "\n",
       "                                                           transcript_name  \n",
       "0610005C13Rik-201_ENSMUST00000209416  0610005C13Rik-201_ENSMUST00000209416  \n",
       "0610005C13Rik-202_ENSMUST00000209510  0610005C13Rik-202_ENSMUST00000209510  \n",
       "0610005C13Rik-203_ENSMUST00000209910  0610005C13Rik-203_ENSMUST00000209910  \n",
       "0610005C13Rik-204_ENSMUST00000210383  0610005C13Rik-204_ENSMUST00000210383  \n",
       "0610005C13Rik-205_ENSMUST00000210569  0610005C13Rik-205_ENSMUST00000210569  "
      ]
     },
     "execution_count": 19,
     "metadata": {},
     "output_type": "execute_result"
    }
   ],
   "source": [
    "tenx.var.head()"
   ]
  },
  {
   "cell_type": "markdown",
   "metadata": {},
   "source": [
    "# Process"
   ]
  },
  {
   "cell_type": "code",
   "execution_count": 20,
   "metadata": {},
   "outputs": [],
   "source": [
    "del adata"
   ]
  },
  {
   "cell_type": "code",
   "execution_count": 21,
   "metadata": {},
   "outputs": [],
   "source": [
    "from sklearn.preprocessing import normalize"
   ]
  },
  {
   "cell_type": "code",
   "execution_count": 22,
   "metadata": {},
   "outputs": [],
   "source": [
    "tenx.layers[\"X\"] = tenx.X\n",
    "tenx.layers[\"norm\"] = normalize(tenx.X, norm='l1', axis=1)*1000000\n",
    "tenx.layers[\"log1p\"] = csr_matrix(np.log1p(tenx.layers[\"norm\"]))"
   ]
  },
  {
   "cell_type": "code",
   "execution_count": 23,
   "metadata": {},
   "outputs": [],
   "source": [
    "from sklearn.preprocessing import scale"
   ]
  },
  {
   "cell_type": "code",
   "execution_count": 24,
   "metadata": {},
   "outputs": [
    {
     "name": "stdout",
     "output_type": "stream",
     "text": [
      "CPU times: user 38min 36s, sys: 39min 51s, total: 1h 18min 27s\n",
      "Wall time: 1h 18min 37s\n"
     ]
    }
   ],
   "source": [
    "%%time\n",
    "mat = tenx.layers[\"log1p\"].todense()\n",
    "mtx = scale(mat, axis=0, with_mean=True, with_std=True, copy=True)\n",
    "tenx.X = mtx"
   ]
  },
  {
   "cell_type": "code",
   "execution_count": 25,
   "metadata": {},
   "outputs": [],
   "source": [
    "tenx.write(\"../../data/notebook/revision/10xv3_isoform_processed.h5ad\")"
   ]
  },
  {
   "cell_type": "code",
   "execution_count": 25,
   "metadata": {},
   "outputs": [],
   "source": [
    "del mat"
   ]
  },
  {
   "cell_type": "markdown",
   "metadata": {},
   "source": [
    "# Perform correlations"
   ]
  },
  {
   "cell_type": "code",
   "execution_count": 26,
   "metadata": {},
   "outputs": [],
   "source": [
    "def split_by_target(mat, targets, target, axis=0):\n",
    "    \"\"\"\n",
    "    Split the rows of mat by the proper assignment\n",
    "    \n",
    "    mat = ndarray\n",
    "    targets, length is equal to number of components (axis=0) or features (axis=1)\n",
    "    target is a singular element from unique(assignments/features) \n",
    "    \"\"\"\n",
    "    if axis==0 and len(targets) != mat.shape[axis]: return -1\n",
    "    if axis==1 and len(targets) != mat.shape[axis]: return -1\n",
    "        \n",
    "    mask = targets == target\n",
    "    \n",
    "    if axis==0:\n",
    "        t_mat = mat[mask]  # target matrix\n",
    "        c_mat = mat[~mask] # complement matrix\n",
    "    elif axis==1:\n",
    "        t_mat = mat[:, mask]  # target matrix\n",
    "        c_mat = mat[:, ~mask] # complement matrix\n",
    "    \n",
    "    return (t_mat, c_mat)\n",
    "\n",
    "def group_mtx_by_cluster(mtx, components, features, s2t, source_id=\"cell_id\", target_id=\"subclass_label\", by=\"components\"):\n",
    "    \"\"\"\n",
    "    mtx: ndarray components by features \n",
    "    components: labels for rows of mtx\n",
    "    features: labels for columns of mtx\n",
    "    s2t: pandas dataframe mapping source (features or components) to a\n",
    "    targets features(components) to group by\n",
    "    target_id: column name in s2t to group by\n",
    "    \"\"\"\n",
    "    if target_id not in s2t.columns: return -1\n",
    "    \n",
    "    ncomp   = components.shape[0]\n",
    "    nfeat   = features.shape[0]\n",
    "    ntarget = s2t[target_id].nunique()\n",
    "    \n",
    "    if by ==\"features\": \n",
    "        source = features\n",
    "    elif by ==\"components\": \n",
    "        source = components\n",
    "    \n",
    "    # Map the source to an index\n",
    "    source2idx = dict(zip(source, range(len(source))))\n",
    "    # Map the target to a list of source indices\n",
    "    target2idx = (s2t.groupby(target_id)[source_id].apply(lambda x: [source2idx[i] for i in x])).to_dict()\n",
    "    \n",
    "    # array of unique targets\n",
    "    unique = s2t[target_id].unique().astype(str)\n",
    "    nuniq = unique.shape[0]\n",
    "    X = np.zeros((nuniq, mtx.shape[1]))\n",
    "    \n",
    "    for tidx, t in enumerate(unique):\n",
    "        # Grab the matrix indices corresponding to columns and source columns to group by\n",
    "        source_indices = target2idx[t]\n",
    "        #print(source_indices)\n",
    "        \n",
    "        # breaks generality\n",
    "        sub_mtx = mtx[source_indices,:].mean(axis=0) # Sum on source indicies\n",
    "        X[tidx,:] = sub_mtx # place summed vector in new matrix\n",
    "        \n",
    "    # Return matrix that is grouped by\n",
    "    return (X, components, unique)"
   ]
  },
  {
   "cell_type": "markdown",
   "metadata": {},
   "source": [
    "# Correlation"
   ]
  },
  {
   "cell_type": "code",
   "execution_count": 27,
   "metadata": {},
   "outputs": [],
   "source": [
    "tenx_mat = tenx.X\n",
    "tenx_ass = tenx.obs.subclass_label.values"
   ]
  },
  {
   "cell_type": "code",
   "execution_count": 28,
   "metadata": {},
   "outputs": [],
   "source": [
    "ss_mat = ss.X\n",
    "ss_ass = ss.obs.subclass_label.values"
   ]
  },
  {
   "cell_type": "code",
   "execution_count": 29,
   "metadata": {},
   "outputs": [],
   "source": [
    "features = tenx.var.transcript_name.values\n",
    "\n",
    "unique = np.intersect1d(np.unique(tenx_ass), np.unique(ss_ass))"
   ]
  },
  {
   "cell_type": "code",
   "execution_count": 30,
   "metadata": {},
   "outputs": [],
   "source": [
    "def nd(arr):\n",
    "    return np.asarray(arr).reshape(-1)"
   ]
  },
  {
   "cell_type": "code",
   "execution_count": 31,
   "metadata": {},
   "outputs": [
    {
     "name": "stdout",
     "output_type": "stream",
     "text": [
      "[1 of 18] 253: Astro\n",
      "[2 of 18] 330: Endo\n",
      "[3 of 18] 3,479: L2/3 IT\n",
      "[4 of 18] 2,915: L5 IT\n",
      "[5 of 18] 2,458: L5 PT\n",
      "[6 of 18] 2,375: L5/6 NP\n",
      "[7 of 18] 3,088: L6 CT\n",
      "[8 of 18] 3,510: L6 IT\n",
      "[9 of 18] 3,155: L6 IT Car3\n",
      "[10 of 18] 3,246: L6b\n",
      "[11 of 18] 2,732: Lamp5\n",
      "[12 of 18] 474: Low Quality\n",
      "[13 of 18] 3,394: Pvalb\n",
      "[14 of 18] 480: SMC\n",
      "[15 of 18] 3,119: Sncg\n",
      "[16 of 18] 3,070: Sst\n",
      "[17 of 18] 193: VLMC\n",
      "[18 of 18] 1,692: Vip\n"
     ]
    }
   ],
   "source": [
    "mat = tenx.layers[\"log1p\"]\n",
    "\n",
    "lower = 0.5\n",
    "\n",
    "\n",
    "bool_mask = np.zeros((unique.shape[0], features.shape[0]), dtype=bool)\n",
    "\n",
    "for uidx, u in enumerate(unique):\n",
    "    t_mat, _ = split_by_target(mat, tenx_ass, u)\n",
    "\n",
    "    numc = t_mat.shape[0]\n",
    "    numnz = (t_mat>0).sum(axis=0)\n",
    "\n",
    "    #arr = np.logical_and(nd(numnz>lower*numc), nd(numnz<upper*numc))\n",
    "    arr = nd(numnz>lower*numc)\n",
    "    \n",
    "    #arr = np.logical_and(np.array(t_mat.mean(axis=0)>threshold).reshape(-1), (np.array((t_mat>0).sum(axis=0)>t_mat.shape[0]*frac).reshape(-1)))\n",
    "    print(\"[{} of {}] {:,}: {}\".format(uidx+1, unique.shape[0],arr.sum(), u) )\n",
    "    \n",
    "    #argnmax = arr.argsort()[-n:][::-1]\n",
    "\n",
    "    bool_mask[uidx,:][arr] = True"
   ]
  },
  {
   "cell_type": "code",
   "execution_count": null,
   "metadata": {},
   "outputs": [
    {
     "name": "stdout",
     "output_type": "stream",
     "text": [
      "[1 of 18] 0.85: Astro\n",
      "[2 of 18] 0.90: Endo\n",
      "[3 of 18] 0.71: L2/3 IT\n",
      "[4 of 18] 0.60: L5 IT\n",
      "[5 of 18] 0.69: L5 PT\n",
      "[6 of 18] 0.83: L5/6 NP\n",
      "[7 of 18] 0.74: L6 CT\n",
      "[8 of 18] 0.73: L6 IT\n"
     ]
    }
   ],
   "source": [
    "%%time\n",
    "r2 = []\n",
    "ss_x = []\n",
    "tenx_x = []\n",
    "\n",
    "# u_mat_tenx = []\n",
    "# u_mat_ss   = []\n",
    "\n",
    "for uidx, u in enumerate(unique):\n",
    "    tenx_t_mat, _ = split_by_target(tenx_mat, tenx_ass, u)\n",
    "    ss_t_mat, _ = split_by_target(ss_mat, ss_ass, u)\n",
    "    \n",
    "    # u_mat_tenx.append(tenx_t_mat)\n",
    "    # u_mat_ss.append(ss_t_mat)\n",
    "    \n",
    "    \n",
    "    t = np.asarray(tenx_t_mat[:,bool_mask[uidx]].mean(axis=0)).reshape(-1)\n",
    "    s = np.asarray(ss_t_mat[:,bool_mask[uidx]].mean(axis=0)).reshape(-1)\n",
    "    \n",
    "    ss_x.append(s)\n",
    "    tenx_x.append(t)\n",
    "    \n",
    "    r, p = stats.pearsonr(t, s)\n",
    "    r2.append(r)\n",
    "    print(\"[{} of {}] {:,.2f}: {}\".format(uidx+1, unique.shape[0],r, u) )"
   ]
  },
  {
   "cell_type": "code",
   "execution_count": null,
   "metadata": {},
   "outputs": [],
   "source": []
  },
  {
   "cell_type": "code",
   "execution_count": 50,
   "metadata": {},
   "outputs": [],
   "source": [
    "ss_size = ss.obs[\"subclass_label\"].value_counts()[unique]"
   ]
  },
  {
   "cell_type": "code",
   "execution_count": 51,
   "metadata": {},
   "outputs": [],
   "source": [
    "cluster_cmap = {\n",
    "\"Astro\": (0.38823529411764707, 0.4745098039215686,  0.2235294117647059 ),  # 637939,\n",
    "\"Endo\" : (0.5490196078431373,  0.6352941176470588,  0.3215686274509804 ),  # 8ca252,\n",
    "\"SMC\"  : (0.7098039215686275,  0.8117647058823529,  0.4196078431372549 ),  # b5cf6b,\n",
    "\"VLMC\" : (0.807843137254902,   0.8588235294117647,  0.611764705882353  ),  # cedb9c,\n",
    "\"Low Quality\" : (0,0,0),\n",
    "\"L2/3 IT\" : (0.9921568627450981,  0.6823529411764706,  0.4196078431372549  ),  # fdae6b\n",
    "\"L5 PT\" : (0.9921568627450981,  0.8156862745098039,  0.6352941176470588  ),  # fdd0a2\n",
    "\"L5 IT\" : (0.5176470588235295,  0.23529411764705882, 0.2235294117647059 ),  # 843c39\n",
    "\"L5/6 NP\": \"#D43F3A\",\n",
    "\"L6 CT\" : (0.8392156862745098,  0.3803921568627451,  0.4196078431372549 ),  # d6616b\n",
    "\"L6 IT\" : (0.9058823529411765,  0.5882352941176471,  0.611764705882353  ),  # e7969c\n",
    "\"L6b\" : (1.0,                 0.4980392156862745,  0.054901960784313725),  # ff7f0e\n",
    "\"L6 IT Car3\" : (1.0,                 0.7333333333333333,  0.47058823529411764 ),  # ffbb78\n",
    "\"Lamp5\" : (0.19215686274509805, 0.5098039215686274,  0.7411764705882353  ),  # 3182bd # blues\n",
    "\"Sncg\" : (0.4196078431372549,  0.6823529411764706,  0.8392156862745098  ),  # 6baed6\n",
    "\"Vip\" : (0.6196078431372549,  0.792156862745098,   0.8823529411764706  ),  # 9ecae1\n",
    "\"Sst\" : (0.7764705882352941,  0.8588235294117647,  0.9372549019607843  ),  # c6dbef\n",
    "\"Pvalb\":(0.7372549019607844,  0.7411764705882353,  0.8627450980392157  ),  # bcbddc\n",
    "}"
   ]
  },
  {
   "cell_type": "code",
   "execution_count": 52,
   "metadata": {},
   "outputs": [
    {
     "ename": "KeyError",
     "evalue": "'Astro Aqp4'",
     "output_type": "error",
     "traceback": [
      "\u001b[0;31m---------------------------------------------------------------------------\u001b[0m",
      "\u001b[0;31mKeyError\u001b[0m                                  Traceback (most recent call last)",
      "\u001b[0;32m<ipython-input-52-2e86a9bbe927>\u001b[0m in \u001b[0;36m<module>\u001b[0;34m\u001b[0m\n\u001b[1;32m      6\u001b[0m \u001b[0;32mfor\u001b[0m \u001b[0mi\u001b[0m\u001b[0;34m,\u001b[0m \u001b[0mtxt\u001b[0m \u001b[0;32min\u001b[0m \u001b[0menumerate\u001b[0m\u001b[0;34m(\u001b[0m\u001b[0munique\u001b[0m\u001b[0;34m)\u001b[0m\u001b[0;34m:\u001b[0m\u001b[0;34m\u001b[0m\u001b[0;34m\u001b[0m\u001b[0m\n\u001b[1;32m      7\u001b[0m     \u001b[0max\u001b[0m\u001b[0;34m.\u001b[0m\u001b[0mannotate\u001b[0m\u001b[0;34m(\u001b[0m\u001b[0mi\u001b[0m\u001b[0;34m,\u001b[0m \u001b[0;34m(\u001b[0m\u001b[0mx\u001b[0m\u001b[0;34m[\u001b[0m\u001b[0mi\u001b[0m\u001b[0;34m]\u001b[0m\u001b[0;34m,\u001b[0m \u001b[0my\u001b[0m\u001b[0;34m[\u001b[0m\u001b[0mi\u001b[0m\u001b[0;34m]\u001b[0m\u001b[0;34m)\u001b[0m\u001b[0;34m)\u001b[0m\u001b[0;34m\u001b[0m\u001b[0;34m\u001b[0m\u001b[0m\n\u001b[0;32m----> 8\u001b[0;31m     \u001b[0max\u001b[0m\u001b[0;34m.\u001b[0m\u001b[0mscatter\u001b[0m\u001b[0;34m(\u001b[0m\u001b[0mx\u001b[0m\u001b[0;34m[\u001b[0m\u001b[0mi\u001b[0m\u001b[0;34m]\u001b[0m\u001b[0;34m,\u001b[0m \u001b[0my\u001b[0m\u001b[0;34m[\u001b[0m\u001b[0mi\u001b[0m\u001b[0;34m]\u001b[0m\u001b[0;34m,\u001b[0m \u001b[0mlabel\u001b[0m\u001b[0;34m=\u001b[0m\u001b[0;34m\"{}: {}\"\u001b[0m\u001b[0;34m.\u001b[0m\u001b[0mformat\u001b[0m\u001b[0;34m(\u001b[0m\u001b[0mi\u001b[0m\u001b[0;34m,\u001b[0m \u001b[0mtxt\u001b[0m\u001b[0;34m)\u001b[0m\u001b[0;34m,\u001b[0m \u001b[0mcolor\u001b[0m\u001b[0;34m=\u001b[0m\u001b[0mcluster_cmap\u001b[0m\u001b[0;34m[\u001b[0m\u001b[0mtxt\u001b[0m\u001b[0;34m]\u001b[0m\u001b[0;34m)\u001b[0m\u001b[0;34m\u001b[0m\u001b[0;34m\u001b[0m\u001b[0m\n\u001b[0m\u001b[1;32m      9\u001b[0m \u001b[0max\u001b[0m\u001b[0;34m.\u001b[0m\u001b[0mset_ylim\u001b[0m\u001b[0;34m(\u001b[0m\u001b[0;34m(\u001b[0m\u001b[0;36m0\u001b[0m\u001b[0;34m,\u001b[0m \u001b[0;36m1\u001b[0m\u001b[0;34m)\u001b[0m\u001b[0;34m)\u001b[0m\u001b[0;34m\u001b[0m\u001b[0;34m\u001b[0m\u001b[0m\n\u001b[1;32m     10\u001b[0m \u001b[0max\u001b[0m\u001b[0;34m.\u001b[0m\u001b[0mset_xscale\u001b[0m\u001b[0;34m(\u001b[0m\u001b[0;34m\"log\"\u001b[0m\u001b[0;34m)\u001b[0m\u001b[0;34m\u001b[0m\u001b[0;34m\u001b[0m\u001b[0m\n",
      "\u001b[0;31mKeyError\u001b[0m: 'Astro Aqp4'"
     ]
    },
    {
     "data": {
      "image/png": "[encoded data removed]",
      "text/plain": [
       "<Figure size 720x504 with 1 Axes>"
      ]
     },
     "metadata": {
      "image/png": {
       "height": 429,
       "width": 627
      },
      "needs_background": "light"
     },
     "output_type": "display_data"
    }
   ],
   "source": [
    "fig, ax = plt.subplots(figsize=(10,7))\n",
    "\n",
    "x = ss_size\n",
    "y = r2\n",
    "\n",
    "for i, txt in enumerate(unique):\n",
    "    ax.annotate(i, (x[i], y[i]))\n",
    "    ax.scatter(x[i], y[i], label=\"{}: {}\".format(i, txt), color=cluster_cmap[txt])\n",
    "ax.set_ylim((0, 1))\n",
    "ax.set_xscale(\"log\")\n",
    "    \n",
    "ax.set_xlabel(\"Number of SMART-Seq cells\")\n",
    "ax.set_ylabel(\"Pearson correlation\")\n",
    "ax.set_title(\"10xv3 v. SMART-Seq isoform subclass correlation\")\n",
    "\n",
    "ax.legend(fontsize=15,loc='center left', bbox_to_anchor=(1, 0.5), markerscale=3)\n",
    "#plt.savefig(trackfig(\"../../figures/10x_smartseq_isoform_subclass_correlation.png\", TRACKFIG, NB), bbox_inches='tight', dpi=300)\n",
    "plt.show()"
   ]
  },
  {
   "cell_type": "code",
   "execution_count": null,
   "metadata": {},
   "outputs": [],
   "source": [
    "def trim_axs(axs, N):\n",
    "    \"\"\"little helper to massage the axs list to have correct length...\"\"\"\n",
    "    axs = axs.flat\n",
    "    for ax in axs[N:]:\n",
    "        ax.remove()\n",
    "    return axs[:N]"
   ]
  },
  {
   "cell_type": "code",
   "execution_count": null,
   "metadata": {},
   "outputs": [],
   "source": [
    "fig, ax = plt.subplots(figsize=(15,15), ncols=4, nrows=5)\n",
    "fig.subplots_adjust(hspace=0, wspace=0)\n",
    "axs = trim_axs(ax, len(unique))\n",
    "fig.suptitle('10xv3 v. SMART-Seq isoform subclass correlation', y=0.9)\n",
    "\n",
    "for cidx, (ax, c) in enumerate(zip(axs, unique)):\n",
    "    \n",
    "    \n",
    "    x = ss_x[cidx]\n",
    "    y = tenx_x[cidx]\n",
    "\n",
    "    \n",
    "    ax.scatter(x, y, label=\"{}: {:,}\".format(c, ss_size[cidx]), color=\"k\", alpha=0.1)\n",
    "\n",
    "    slope, intercept, r_value, p_value, std_err = stats.linregress(x, y)\n",
    "\n",
    "    minx = min(x)\n",
    "    maxx = max(x)\n",
    "    x = np.linspace(minx, maxx, 10)\n",
    "    y = slope*x+intercept\n",
    "    ax.plot(x, y, label=\"corr : {:,.2f}\".format(r_value), color=\"red\", linewidth=3)\n",
    "    ax.legend(fontsize=15)\n",
    "    ax.xaxis.set_ticklabels([])\n",
    "    ax.yaxis.set_ticklabels([])\n",
    "    ax.set_axis_off()\n",
    "    if c == \"Low Quality\":\n",
    "        ax.set_axis_on()\n",
    "fig.text(0.5, 0.1, 'SMART-Seq scaled $log(TPM+1)$', ha='center', va='center', fontsize=30)\n",
    "fig.text(0.1, 0.5, '10xv3 scaled $log(CPM+1)$', ha='center', va='center', rotation='vertical', fontsize=30)\n",
    "plt.savefig(trackfig(\"../../figures/10x_smartseq_isoform_subclass_correlation_scatter.png\", TRACKFIG, NB), bbox_inches='tight',dpi=300)\n",
    "\n",
    "plt.show()"
   ]
  },
  {
   "cell_type": "markdown",
   "metadata": {},
   "source": [
    "# Correlation at cluster level"
   ]
  },
  {
   "cell_type": "code",
   "execution_count": null,
   "metadata": {},
   "outputs": [],
   "source": [
    "tenx_mat = tenx.X\n",
    "tenx_ass = tenx.obs.cluster_label.values"
   ]
  },
  {
   "cell_type": "code",
   "execution_count": null,
   "metadata": {},
   "outputs": [],
   "source": [
    "ss_mat = ss.X\n",
    "ss_ass = ss.obs.cluster_label.values"
   ]
  },
  {
   "cell_type": "code",
   "execution_count": null,
   "metadata": {},
   "outputs": [],
   "source": [
    "features = tenx.var.transcript_name.values\n",
    "\n",
    "unique = np.intersect1d(np.unique(tenx_ass), np.unique(ss_ass))"
   ]
  },
  {
   "cell_type": "code",
   "execution_count": null,
   "metadata": {},
   "outputs": [],
   "source": [
    "def nd(arr):\n",
    "    return np.asarray(arr).reshape(-1)"
   ]
  },
  {
   "cell_type": "code",
   "execution_count": null,
   "metadata": {},
   "outputs": [],
   "source": [
    "mat = tenx.layers[\"log1p\"]\n",
    "\n",
    "lower = 0.5\n",
    "\n",
    "\n",
    "bool_mask = np.zeros((unique.shape[0], features.shape[0]), dtype=bool)\n",
    "\n",
    "for uidx, u in enumerate(unique):\n",
    "    t_mat, _ = split_by_target(mat, tenx_ass, u)\n",
    "\n",
    "    numc = t_mat.shape[0]\n",
    "    numnz = (t_mat>0).sum(axis=0)\n",
    "\n",
    "    #arr = np.logical_and(nd(numnz>lower*numc), nd(numnz<upper*numc))\n",
    "    arr = nd(numnz>lower*numc)\n",
    "    \n",
    "    #arr = np.logical_and(np.array(t_mat.mean(axis=0)>threshold).reshape(-1), (np.array((t_mat>0).sum(axis=0)>t_mat.shape[0]*frac).reshape(-1)))\n",
    "    print(\"[{} of {}] {:,}: {}\".format(uidx+1, unique.shape[0],arr.sum(), u) )\n",
    "    \n",
    "    #argnmax = arr.argsort()[-n:][::-1]\n",
    "\n",
    "    bool_mask[uidx,:][arr] = True"
   ]
  },
  {
   "cell_type": "code",
   "execution_count": null,
   "metadata": {},
   "outputs": [],
   "source": [
    "%%time\n",
    "r2 = []\n",
    "ss_x = []\n",
    "tenx_x = []\n",
    "\n",
    "# u_mat_tenx = []\n",
    "# u_mat_ss   = []\n",
    "\n",
    "for uidx, u in enumerate(unique):\n",
    "    tenx_t_mat, _ = split_by_target(tenx_mat, tenx_ass, u)\n",
    "    ss_t_mat, _ = split_by_target(ss_mat, ss_ass, u)\n",
    "    \n",
    "    # u_mat_tenx.append(tenx_t_mat)\n",
    "    # u_mat_ss.append(ss_t_mat)\n",
    "    \n",
    "    \n",
    "    t = np.asarray(tenx_t_mat[:,bool_mask[uidx]].mean(axis=0)).reshape(-1)\n",
    "    s = np.asarray(ss_t_mat[:,bool_mask[uidx]].mean(axis=0)).reshape(-1)\n",
    "    \n",
    "    ss_x.append(s)\n",
    "    tenx_x.append(t)\n",
    "    \n",
    "    r, p = stats.pearsonr(t, s)\n",
    "    r2.append(r)\n",
    "    print(\"[{} of {}] {:,.2f}: {}\".format(uidx+1, unique.shape[0],r, u) )"
   ]
  },
  {
   "cell_type": "code",
   "execution_count": null,
   "metadata": {},
   "outputs": [],
   "source": []
  },
  {
   "cell_type": "code",
   "execution_count": null,
   "metadata": {},
   "outputs": [],
   "source": [
    "ss_size = ss.obs[\"cluster_label\"].value_counts()[unique]"
   ]
  },
  {
   "cell_type": "code",
   "execution_count": null,
   "metadata": {},
   "outputs": [],
   "source": [
    "cluster_cmap = {\n",
    "\"Astro\": (0.38823529411764707, 0.4745098039215686,  0.2235294117647059 ),  # 637939,\n",
    "\"Endo\" : (0.5490196078431373,  0.6352941176470588,  0.3215686274509804 ),  # 8ca252,\n",
    "\"SMC\"  : (0.7098039215686275,  0.8117647058823529,  0.4196078431372549 ),  # b5cf6b,\n",
    "\"VLMC\" : (0.807843137254902,   0.8588235294117647,  0.611764705882353  ),  # cedb9c,\n",
    "\"Low Quality\" : (0,0,0),\n",
    "\"L2/3 IT\" : (0.9921568627450981,  0.6823529411764706,  0.4196078431372549  ),  # fdae6b\n",
    "\"L5 PT\" : (0.9921568627450981,  0.8156862745098039,  0.6352941176470588  ),  # fdd0a2\n",
    "\"L5 IT\" : (0.5176470588235295,  0.23529411764705882, 0.2235294117647059 ),  # 843c39\n",
    "\"L5/6 NP\": \"#D43F3A\",\n",
    "\"L6 CT\" : (0.8392156862745098,  0.3803921568627451,  0.4196078431372549 ),  # d6616b\n",
    "\"L6 IT\" : (0.9058823529411765,  0.5882352941176471,  0.611764705882353  ),  # e7969c\n",
    "\"L6b\" : (1.0,                 0.4980392156862745,  0.054901960784313725),  # ff7f0e\n",
    "\"L6 IT Car3\" : (1.0,                 0.7333333333333333,  0.47058823529411764 ),  # ffbb78\n",
    "\"Lamp5\" : (0.19215686274509805, 0.5098039215686274,  0.7411764705882353  ),  # 3182bd # blues\n",
    "\"Sncg\" : (0.4196078431372549,  0.6823529411764706,  0.8392156862745098  ),  # 6baed6\n",
    "\"Vip\" : (0.6196078431372549,  0.792156862745098,   0.8823529411764706  ),  # 9ecae1\n",
    "\"Sst\" : (0.7764705882352941,  0.8588235294117647,  0.9372549019607843  ),  # c6dbef\n",
    "\"Pvalb\":(0.7372549019607844,  0.7411764705882353,  0.8627450980392157  ),  # bcbddc\n",
    "}"
   ]
  },
  {
   "cell_type": "code",
   "execution_count": null,
   "metadata": {},
   "outputs": [],
   "source": [
    "fig, ax = plt.subplots(figsize=(10,7))\n",
    "\n",
    "x = ss_size\n",
    "y = r2\n",
    "\n",
    "for i, txt in enumerate(unique):\n",
    "    ax.annotate(i, (x[i], y[i]))\n",
    "    ax.scatter(x[i], y[i], label=\"{}: {}\".format(i, txt),color=cluster_cmap[\" \".join(txt.split(\" \")[0:-1])])\n",
    "ax.set_ylim((0, 1))\n",
    "ax.set_xscale(\"log\")\n",
    "    \n",
    "ax.set_xlabel(\"Number of SMART-Seq cells\")\n",
    "ax.set_ylabel(\"Pearson correlation\")\n",
    "\n",
    "ax.set_title(\"10xv3 v. SMART-Seq isoform cluster correlation\")\n",
    "\n",
    "\n",
    "ax.legend(fontsize=15,loc='center left', bbox_to_anchor=(1, 0.5), markerscale=3)\n",
    "plt.savefig(trackfig(\"../../figures/10x_isoform_cluster_correlation.png\", TRACKFIG, NB), bbox_inches='tight', dpi=300)\n",
    "plt.show()"
   ]
  },
  {
   "cell_type": "code",
   "execution_count": null,
   "metadata": {},
   "outputs": [],
   "source": []
  },
  {
   "cell_type": "code",
   "execution_count": null,
   "metadata": {},
   "outputs": [],
   "source": []
  },
  {
   "cell_type": "code",
   "execution_count": null,
   "metadata": {},
   "outputs": [],
   "source": [
    "def trim_axs(axs, N):\n",
    "    \"\"\"little helper to massage the axs list to have correct length...\"\"\"\n",
    "    axs = axs.flat\n",
    "    for ax in axs[N:]:\n",
    "        ax.remove()\n",
    "    return axs[:N]"
   ]
  },
  {
   "cell_type": "code",
   "execution_count": null,
   "metadata": {},
   "outputs": [],
   "source": [
    "fig, ax = plt.subplots(figsize=(15,15), ncols=4, nrows=6)\n",
    "fig.subplots_adjust(hspace=0, wspace=0)\n",
    "axs = trim_axs(ax, len(unique))\n",
    "fig.suptitle('10xv3 v. SMART-Seq isoform cluster correlation', y=0.9)\n",
    "\n",
    "for cidx, (ax, c) in enumerate(zip(axs, unique)):\n",
    "    \n",
    "    \n",
    "    x = ss_x[cidx]\n",
    "    y = tenx_x[cidx]\n",
    "\n",
    "    \n",
    "    ax.scatter(x, y, label=\"{}: {:,}\".format(c, ss_size[cidx]), color=\"k\", alpha=0.1)\n",
    "\n",
    "    slope, intercept, r_value, p_value, std_err = stats.linregress(x, y)\n",
    "\n",
    "    minx = min(x)\n",
    "    maxx = max(x)\n",
    "    x = np.linspace(minx, maxx, 10)\n",
    "    y = slope*x+intercept\n",
    "    ax.plot(x, y, label=\"corr : {:,.2f}\".format(r_value), color=\"red\", linewidth=3)\n",
    "    ax.legend(fontsize=15)\n",
    "    ax.xaxis.set_ticklabels([])\n",
    "    ax.yaxis.set_ticklabels([])\n",
    "    ax.set_axis_off()\n",
    "    if c == \"Low Quality\":\n",
    "        ax.set_axis_on()\n",
    "fig.text(0.5, 0.1, 'SMART-Seq scaled $log(TPM+1)$', ha='center', va='center', fontsize=30)\n",
    "fig.text(0.1, 0.5, '10xv3 scaled $log(CPM+1)$', ha='center', va='center', rotation='vertical', fontsize=30)\n",
    "plt.savefig(trackfig(\"../../figures/10x_isoform_cluster_correlation_scatter.png\", TRACKFIG, NB), bbox_inches='tight',dpi=300)\n",
    "\n",
    "plt.show()"
   ]
  },
  {
   "cell_type": "code",
   "execution_count": null,
   "metadata": {},
   "outputs": [],
   "source": []
  }
 ],
 "metadata": {
  "kernelspec": {
   "display_name": "Python 3",
   "language": "python",
   "name": "python3"
  },
  "language_info": {
   "codemirror_mode": {
    "name": "ipython",
    "version": 3
   },
   "file_extension": ".py",
   "mimetype": "text/x-python",
   "name": "python",
   "nbconvert_exporter": "python",
   "pygments_lexer": "ipython3",
   "version": "3.7.4"
  }
 },
 "nbformat": 4,
 "nbformat_minor": 4
}
